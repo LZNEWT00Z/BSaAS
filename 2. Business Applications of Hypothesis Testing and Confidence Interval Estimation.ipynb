{
 "cells": [
  {
   "cell_type": "markdown",
   "metadata": {},
   "source": [
    "# Business Applications of Hypothesis Testing and Confidence Interval Estimation <a id=\"heading\"></a>\n",
    "\n",
    "1. [**Confidence Interval - Introduction**](#week-1-cii)\n",
    "2. [**Confidence Interval - Applications**](#week-2-cia)\n",
    "3. [**Hypothesis Testing**](#week-3-ht)\n",
    "4. [**Hypothesis Test - Differences in Mean**](#week-4-htdim)\n",
    "---"
   ]
  },
  {
   "cell_type": "code",
   "execution_count": 1,
   "metadata": {},
   "outputs": [],
   "source": [
    "import pandas as pd\n",
    "import numpy as np\n",
    "from scipy.stats import t\n",
    "from scipy.stats import norm\n",
    "from math import sqrt\n",
    "from math import ceil"
   ]
  },
  {
   "cell_type": "markdown",
   "metadata": {},
   "source": [
    "## Confidence Interval - Introduction <a id=\"week-1-cii\"></a>\n",
    "[*Back to the heading*](#heading)"
   ]
  },
  {
   "cell_type": "markdown",
   "metadata": {},
   "source": [
    "### The _t_ distribution <a id=\"t-dist\"></a>\n",
    "\n",
    "Simple reminder:\n",
    "\n",
    "**Normal distribution** - a symmetric continuous distribution, has two parameters, the mean and std\n",
    "**Standard Normal distribution** a Normal distribution with mean = 0 and std = 1\n",
    "\n",
    "**The t Distribution**, aka the Student’s t Distribution.\n",
    "\n",
    "A symmetric distribution centered at zero\n",
    "\n",
    "> Has a single parameter called the degrees of freedomor df. The larger df - the closer t Distribution becomes to the Standard Normal distribution.\n",
    "\n",
    "* Does not have any standalone business application\n",
    "* Used as an interim tool to calculate confidence intervals and hypothesis testing\n",
    "* Has an associated *probability density function*\n",
    "\n",
    "Works the same way other distribution work in scypy.stats.\n",
    "\n",
    "Example:\n",
    "\n",
    "> Suppose we have a t-distribution symmetrically dispersed around mean of 0, with degrees of freedom 10. What is the probability that a random value from this distribution will be greater than 1?\n",
    "\n",
    "`1-t.cdf(1,10)`\n",
    "\n",
    "The inverse function (method) of the t Distribution is:\n",
    "\n",
    "`t.ppf(probability, degrees of freedom)`"
   ]
  },
  {
   "cell_type": "markdown",
   "metadata": {},
   "source": [
    "### Confidence Interval\n",
    "\n",
    "* It is an 'interval' with some 'confidence' or probability attached to it\n",
    "* An interval for some unknown characteristic of the population data\n",
    "\n",
    "\n",
    "**Example 1:** \n",
    "\n",
    "Predicting the actual share of votes of a particular candidate in the US presidential election.\n",
    "\n",
    "* Only two candidates, A and B\n",
    "* Wish to predict vote percentage for candidate A\n",
    "* A random selection of 500 potential voters surveyed\n",
    "* 300 voters will vote for A and 200 for B\n",
    "* That is, 60% of surveyed voters will vote for A\n",
    "\n",
    "> Will candidate A get 60% of all votes in the actual election?\n",
    "\n",
    "---\n",
    "\n",
    "A 95% confidence interval for the vote share of candidate A,\n",
    "\n",
    "**<p style=\"text-align: center;\">[55.7%,  64.3%]</p>**\n",
    "\n",
    "95% of similarly constructed confidence intervals likely to have the actual vote share for A\n",
    "\n",
    "There is a 0.95 probability that the actual vote share for A will be between 55.7% and 64.3% \n",
    "\n",
    "* Mean ($\\mu$) = between 55.7% and 64.3%\n",
    "* Sample mean ($\\bar{x}$) 60%\n",
    "* Margin of error = +/- 4.3%\n",
    "\n",
    "---\n",
    "\n",
    "**<p style=\"text-align: center;\">Confidence interval for the 'population proportion'<p>**\n",
    "\n",
    "---\n",
    "\n",
    "**Example 2:**\n",
    "> What is the average starting salary of **_all business students_** who graduated last year in New York city?\n",
    "\n",
    "* Population = all students in New York City who finished their business education last year\n",
    "* Sample = random sample of 100 students\n",
    "* Sample mean = 61,400\\$\n",
    "* Sample std = _s_ = some number\n",
    "\n",
    "We wish to find out $\\mu$\n",
    "\n",
    "Answer is:\n",
    "\n",
    "**<p style=\"text-align: center;\">[lower limit ($\\bar{x} - \\text{margin of error}$) < $\\mu$ < upper limit ($\\bar{x} + \\text{margin of error}$)]</p>**\n",
    "\n",
    "---\n",
    "\n",
    "**<p style=\"text-align: center;\">Сonfidence interval for the 'population mean'<p>**\n",
    "\n",
    "---\n",
    "\n",
    "**Example 3:**\n",
    "\n",
    "> Hurricane Season in Texas\n",
    "\n",
    "* June through November is the 'Hurricane Season'\n",
    "* Hurricanes come through the Gulf of Mexico\n",
    "* Tracking and prediction is of immense importance\n",
    "---\n",
    "* Hurricane Ike Struck Galveston, Texas in 2008\n",
    "* Caused a lot of damage in Houston and Galveston\n",
    "* Meteorologists were trying to predict where the hurricane will strike\n",
    "* An **'interval prediction'** done rather than a 'point prediction'\n",
    "---"
   ]
  },
  {
   "cell_type": "markdown",
   "metadata": {},
   "source": [
    "### The _z_-statistic and the _t_-statistic\n",
    "\n",
    "According to the Central Limit Theorem:\n",
    "\n",
    "Population:\n",
    "\n",
    "Mean = $\\mu$ and Std = $\\sigma$\n",
    "\n",
    "Sample of size _n_:\n",
    "\n",
    "$$\\bar{x} \\text{ ~ } Normal\\text{ }(\\text{sample mean = }\\mu, \\text{sample std = }\\frac{\\sigma}{\\sqrt{n}})$$\n",
    "\n",
    "Following this z-statistic is:\n",
    "\n",
    "$$\\bar{x} \\text{ ~ } Normal\\text{ }(\\mu, \\frac{\\sigma}{\\sqrt{n}}) \\Rightarrow \\frac{\\bar{x}-\\mu}{\\sigma / \\sqrt{n}}\\text{ ~ }Normal(0,1)$$\n",
    "\n",
    "Thus, z-statistic is: $$\\frac{\\bar{x}-\\mu}{\\sigma / \\sqrt{n}}\\text{ ~ }Normal(0,1)$$\n",
    "\n",
    "A more realistic scenario is where the population standard deviation $\\sigma$ is not known. In such situations we replace $\\sigma$ (population standard deviation) with $s$ (sample standard deviation), which is t-statistic:\n",
    "\n",
    "$$\\text{t-statistic = }\\frac{\\bar{x}-\\mu}{s / \\sqrt{n}}\\text{ ~ }t_{n-1}$$"
   ]
  },
  {
   "cell_type": "markdown",
   "metadata": {},
   "source": [
    "### Confidence Interval Construction\n",
    "\n",
    "*A Stylized example...*\n",
    "\n",
    "> A random sample of 20 observations from a population data had a mean equal to 70 The standard deviation of the population data is 10. Find an 85% confidence interval for the population mean.\n",
    "\n",
    "Probability outside the confidence interval is referred to as $\\alpha$\n",
    "\n",
    "... and we wish to construct a (1 - $\\alpha$) confidence interval for the population mean\n",
    "\n",
    "A  (1 - $\\alpha$)  confidence interval for the population mean:\n",
    "\n",
    "$$ \\text{Lower limit} \\longrightarrow \\text{ } \\bar{x} - |z_{\\alpha/2}|\\frac{\\sigma}{\\sqrt{n}} < \\mu < \\bar{x} + |z_{\\alpha/2}|\\frac{\\sigma}{\\sqrt{n}} \\text{ } \\longleftarrow \\text{Upper limit} $$\n",
    "\n",
    "Margin of error = $|z_{\\alpha/2}|\\frac{\\sigma}{\\sqrt{n}}$\n",
    "\n",
    "<img src=\"Images/2_Con_Int-1.png\" alt=\"2_Con_Int-1\">"
   ]
  },
  {
   "cell_type": "code",
   "execution_count": 2,
   "metadata": {
    "scrolled": true
   },
   "outputs": [
    {
     "data": {
      "text/plain": [
       "-1.4395314709384563"
      ]
     },
     "execution_count": 2,
     "metadata": {},
     "output_type": "execute_result"
    }
   ],
   "source": [
    "norm.ppf(0.15/2, loc=0, scale=1) # z statistics for 85% confidence interval"
   ]
  },
  {
   "cell_type": "markdown",
   "metadata": {},
   "source": [
    "margin of error = $|z_{\\alpha/2}|\\frac{\\sigma}{\\sqrt{n}}$ = $\\text{1.4395 x }\\frac{10}{\\sqrt{20}}$"
   ]
  },
  {
   "cell_type": "code",
   "execution_count": 3,
   "metadata": {},
   "outputs": [
    {
     "data": {
      "text/plain": [
       "3.2188"
      ]
     },
     "execution_count": 3,
     "metadata": {},
     "output_type": "execute_result"
    }
   ],
   "source": [
    "round(1.4395 * (10/sqrt(20)),4)"
   ]
  },
  {
   "cell_type": "markdown",
   "metadata": {},
   "source": [
    "<p style=\"text-align: center;\">$\\bar{x} - \\text{3.2188}$ < $\\mu$ < $\\bar{x} + \\text{3.2188}$</p>\n",
    "\n",
    "<p style=\"text-align: center;\">$70 - \\text{3.2188}$ < $\\mu$ < $70 + \\text{3.2188}$</p>\n",
    "\n",
    "**<p style=\"text-align: center;\">[66.78 < $\\mu$ < 73.22]</p>**\n",
    "\n",
    "...a 85% confidence interval for the population mean\n",
    "\n",
    "---"
   ]
  },
  {
   "cell_type": "markdown",
   "metadata": {},
   "source": [
    "### Quiz 1"
   ]
  },
  {
   "cell_type": "code",
   "execution_count": 4,
   "metadata": {},
   "outputs": [],
   "source": [
    "quiz_data = pd.read_excel(\"Excel files/1. Confidence Interval.xlsx\", \"Sheet1\", index_col=None, na_values=[\"NA\"])"
   ]
  },
  {
   "cell_type": "code",
   "execution_count": 5,
   "metadata": {},
   "outputs": [
    {
     "data": {
      "text/html": [
       "<div>\n",
       "<style scoped>\n",
       "    .dataframe tbody tr th:only-of-type {\n",
       "        vertical-align: middle;\n",
       "    }\n",
       "\n",
       "    .dataframe tbody tr th {\n",
       "        vertical-align: top;\n",
       "    }\n",
       "\n",
       "    .dataframe thead th {\n",
       "        text-align: right;\n",
       "    }\n",
       "</style>\n",
       "<table border=\"1\" class=\"dataframe\">\n",
       "  <thead>\n",
       "    <tr style=\"text-align: right;\">\n",
       "      <th></th>\n",
       "      <th>Manager ID</th>\n",
       "      <th>Stock Return</th>\n",
       "    </tr>\n",
       "  </thead>\n",
       "  <tbody>\n",
       "    <tr>\n",
       "      <th>0</th>\n",
       "      <td>1</td>\n",
       "      <td>23.22</td>\n",
       "    </tr>\n",
       "    <tr>\n",
       "      <th>1</th>\n",
       "      <td>2</td>\n",
       "      <td>7.95</td>\n",
       "    </tr>\n",
       "    <tr>\n",
       "      <th>2</th>\n",
       "      <td>3</td>\n",
       "      <td>16.38</td>\n",
       "    </tr>\n",
       "    <tr>\n",
       "      <th>3</th>\n",
       "      <td>4</td>\n",
       "      <td>1.02</td>\n",
       "    </tr>\n",
       "    <tr>\n",
       "      <th>4</th>\n",
       "      <td>5</td>\n",
       "      <td>12.34</td>\n",
       "    </tr>\n",
       "  </tbody>\n",
       "</table>\n",
       "</div>"
      ],
      "text/plain": [
       "   Manager ID  Stock Return\n",
       "0           1         23.22\n",
       "1           2          7.95\n",
       "2           3         16.38\n",
       "3           4          1.02\n",
       "4           5         12.34"
      ]
     },
     "execution_count": 5,
     "metadata": {},
     "output_type": "execute_result"
    }
   ],
   "source": [
    "quiz_data.head()"
   ]
  },
  {
   "cell_type": "markdown",
   "metadata": {},
   "source": [
    "1.\n",
    "\n",
    "Suppose we have a t-distribution symmetrically dispersed\n",
    "around mean of 0, with degrees of freedom 10. \n",
    "\n",
    "What is the probability that a random value from this distribution will be\n",
    "greater than 1? Round to 2 decimal places. "
   ]
  },
  {
   "cell_type": "code",
   "execution_count": 6,
   "metadata": {},
   "outputs": [
    {
     "data": {
      "text/plain": [
       "0.17"
      ]
     },
     "execution_count": 6,
     "metadata": {},
     "output_type": "execute_result"
    }
   ],
   "source": [
    "round(1-t.cdf(1,10),2)"
   ]
  },
  {
   "cell_type": "markdown",
   "metadata": {},
   "source": [
    "2.\n",
    "\n",
    "Similarly, what is the probability that the value will fall between -1 and 1? Round to two decimals. "
   ]
  },
  {
   "cell_type": "code",
   "execution_count": 7,
   "metadata": {},
   "outputs": [
    {
     "data": {
      "text/plain": [
       "0.66"
      ]
     },
     "execution_count": 7,
     "metadata": {},
     "output_type": "execute_result"
    }
   ],
   "source": [
    "round(t.cdf(1,10) - t.cdf(-1,10),2)"
   ]
  },
  {
   "cell_type": "markdown",
   "metadata": {},
   "source": [
    "3.\n",
    "\n",
    "![1_Distribution-1](Images/1_Distribution-1.png)\n",
    "\n",
    "In the t-distribution with 10 degrees of freedom given above, what is the correct formula to calculate the value that cuts of a probability of 10% to the left of that value?"
   ]
  },
  {
   "cell_type": "code",
   "execution_count": 8,
   "metadata": {},
   "outputs": [
    {
     "data": {
      "text/plain": [
       "-1.3721836411102861"
      ]
     },
     "execution_count": 8,
     "metadata": {},
     "output_type": "execute_result"
    }
   ],
   "source": [
    "t.ppf(0.1, 10)"
   ]
  },
  {
   "cell_type": "markdown",
   "metadata": {},
   "source": [
    "4.\n",
    "\n",
    "The quiz data shows how a sample of portfolio managers fared on the stock market for the previous year. The numbers are in 'percentage', for example a stock return of 23.22 implies that the stock return was 23.22%. Each number represents a manager's most recent annual return.\n",
    "\n",
    "Construct a histogram with an appropriate bin size to visualize the data. How are the returns distributed? Choose the most appropriate option from the following."
   ]
  },
  {
   "cell_type": "code",
   "execution_count": 9,
   "metadata": {},
   "outputs": [
    {
     "data": {
      "text/plain": [
       "<matplotlib.axes._subplots.AxesSubplot at 0x2010cd66dc8>"
      ]
     },
     "execution_count": 9,
     "metadata": {},
     "output_type": "execute_result"
    },
    {
     "data": {
      "image/png": "[encoded data removed]",
      "text/plain": [
       "<Figure size 432x288 with 1 Axes>"
      ]
     },
     "metadata": {
      "needs_background": "light"
     },
     "output_type": "display_data"
    }
   ],
   "source": [
    "quiz_data[\"Stock Return\"].hist(bins=len(quiz_data)//10) # Normal distribution"
   ]
  },
  {
   "cell_type": "markdown",
   "metadata": {},
   "source": [
    "5.\n",
    "\n",
    "What is the average return for the sample of portfolio managers in the data? For the rest of the quiz, provide your answer rounded to two decimal places."
   ]
  },
  {
   "cell_type": "code",
   "execution_count": 10,
   "metadata": {},
   "outputs": [
    {
     "data": {
      "text/plain": [
       "4.76"
      ]
     },
     "execution_count": 10,
     "metadata": {},
     "output_type": "execute_result"
    }
   ],
   "source": [
    "round(quiz_data[\"Stock Return\"].mean(),2)"
   ]
  },
  {
   "cell_type": "markdown",
   "metadata": {},
   "source": [
    "6.\n",
    "\n",
    "What is the sample standard deviation of return for the portfolio managers? Provide your answer rounded to two decimal places."
   ]
  },
  {
   "cell_type": "code",
   "execution_count": 11,
   "metadata": {},
   "outputs": [
    {
     "data": {
      "text/plain": [
       "9.55"
      ]
     },
     "execution_count": 11,
     "metadata": {},
     "output_type": "execute_result"
    }
   ],
   "source": [
    "round(quiz_data[\"Stock Return\"].std(),2)"
   ]
  },
  {
   "cell_type": "markdown",
   "metadata": {},
   "source": [
    "7.\n",
    "\n",
    "Suppose we know that the actual population standard deviation is 9 (i.e. 9%). We wish to construct a confidence interval for the average return for the population of portfolio managers. Use the value of zα/2 to be 2. What is the resulting confidence interval?\n",
    "\n",
    "HINT: Please use the formula for confidence interval of a population mean using the z-statistic."
   ]
  },
  {
   "cell_type": "code",
   "execution_count": 12,
   "metadata": {},
   "outputs": [
    {
     "name": "stdout",
     "output_type": "stream",
     "text": [
      "Confidence interval: [4.04, 5.48]\n"
     ]
    }
   ],
   "source": [
    "margin_of_error = 2 * (9/sqrt(len(quiz_data)))\n",
    "sample_mean = quiz_data[\"Stock Return\"].mean()\n",
    "lower_limit = round(sample_mean - margin_of_error, 2)\n",
    "upper_limit = round(sample_mean + margin_of_error, 2)\n",
    "print(f\"Confidence interval: [{lower_limit}, {upper_limit}]\")"
   ]
  },
  {
   "cell_type": "markdown",
   "metadata": {},
   "source": [
    "8.\n",
    "\n",
    "How many portfolio returns in the data lie within this confidence interval?\n",
    "\n",
    "HINT: you can either use the COUNTIF function or sort the data and then manually count the observations"
   ]
  },
  {
   "cell_type": "code",
   "execution_count": 13,
   "metadata": {},
   "outputs": [
    {
     "data": {
      "text/plain": [
       "34"
      ]
     },
     "execution_count": 13,
     "metadata": {},
     "output_type": "execute_result"
    }
   ],
   "source": [
    "len(quiz_data[(quiz_data[\"Stock Return\"] >= lower_limit) & (quiz_data[\"Stock Return\"] <= upper_limit)])"
   ]
  },
  {
   "cell_type": "markdown",
   "metadata": {},
   "source": [
    "## Application of Confidence Interval <a id=\"week-2-cia\"></a>\n",
    "[*Back to the heading*](#heading)\n",
    "\n",
    "### Another example of confidence interval for a **_population mean_**:"
   ]
  },
  {
   "cell_type": "code",
   "execution_count": 14,
   "metadata": {},
   "outputs": [],
   "source": [
    "house_data = pd.read_excel(\"Excel files/Home_Sizes.xlsx\", \"Sheet1\", index_col=None, na_values=[\"NA\"])"
   ]
  },
  {
   "cell_type": "markdown",
   "metadata": {},
   "source": [
    "A person wishes to explore the size of single family houses that are typically available for purchase in a particular neighborhood of Houston in Texas. She manages to get hold of a list containing house sizes of a sample of 100 houses that were sold in the past two years. The data is provided in the excel data file Home_Sizes.xlsx, and given this data she wishes to assess the average size of houses typically available for purchase in this neighborhood.\n",
    "\n",
    "Note that:\n",
    "> * Population standard deviation not known\n",
    "* Need to use calculation for confidence interval based on the t-statistic"
   ]
  },
  {
   "cell_type": "code",
   "execution_count": 15,
   "metadata": {},
   "outputs": [
    {
     "name": "stdout",
     "output_type": "stream",
     "text": [
      "95% confidence interval for the average (population mean) house size: \n",
      "[3048.2174 < population mean < 3428.2626] square feet\n"
     ]
    }
   ],
   "source": [
    "alpha = 0.05\n",
    "n = len(house_data)\n",
    "degrees_of_freedom = n - 1\n",
    "x_bar = house_data[\"Size (sq feet)\"].mean()\n",
    "t_statistic = t.ppf(alpha/2, degrees_of_freedom)\n",
    "s = house_data[\"Size (sq feet)\"].std()\n",
    "margin_of_error = abs(t_statistic) * (s / sqrt(n))\n",
    "lower_limit = round(x_bar - margin_of_error, 4)\n",
    "upper_limit = round(x_bar + margin_of_error, 4)\n",
    "print(\"95% confidence interval for the average (population mean) house size:\",\n",
    "      f\"\\n[{lower_limit} < population mean < {upper_limit}] square feet\")"
   ]
  },
  {
   "cell_type": "markdown",
   "metadata": {},
   "source": [
    "### Another example of confidence interval for a **_population proportion_**:\n",
    "\n",
    "A Consultancy firm surveyed a randomly selected set of 210 CEOs of ‘fast growing small companies’ in the US and Europe. Only 51% of these executives had a management succession plan in place, the remaining did not have one\n",
    "\n",
    "Use this information to compute a 90% confidence interval to estimate the proportion of all ‘fast growing small companies’  that have a management succession plan.\n",
    "\n",
    "Here's the formula for calculating a confidence interval for a population proportion:\n",
    "\n",
    "$$ \\hat{p} - |z_{\\alpha/2}|\\sqrt{\\frac{\\hat{p}(1-\\hat{p})}{n}} < p < \\hat{p} + |z_{\\alpha/2}|\\sqrt{\\frac{\\hat{p}(1-\\hat{p})}{n}}$$\n",
    "\n",
    "Where:\n",
    ">* $\\hat{p}$ is a sample proportion \n",
    "* $p$ is a population proportion\n",
    "* $|z_{\\alpha/2}|\\sqrt{\\frac{\\hat{p}(1-\\hat{p})}{n}}$ is a margin of error"
   ]
  },
  {
   "cell_type": "code",
   "execution_count": 16,
   "metadata": {},
   "outputs": [
    {
     "name": "stdout",
     "output_type": "stream",
     "text": [
      "90% confidence interval for the population proportion of all fast growing small companies that have a management succession plan: \n",
      "[0.5667 < population proportion < 0.4533] or \n",
      "[56.7% < population proportion < 45.3%]\n"
     ]
    }
   ],
   "source": [
    "n = 210\n",
    "sample_proportion = 0.51\n",
    "z_statistic = norm.ppf(0.1/2, loc=0, scale=1)\n",
    "margin_of_error = z_statistic * sqrt((sample_proportion * (1 - sample_proportion))/n)\n",
    "lower_limit = round(sample_proportion - margin_of_error, 4)\n",
    "upper_limit = round(sample_proportion + margin_of_error, 4)\n",
    "print(\"90% confidence interval for the population proportion of all\",\n",
    "      \"fast growing small companies that have a management succession plan:\",\n",
    "      f\"\\n[{lower_limit} < population proportion < {upper_limit}] or\",\n",
    "      f\"\\n[{round(100 * lower_limit, 1)}% < population proportion < {round(100 * upper_limit, 1)}%]\")"
   ]
  },
  {
   "cell_type": "markdown",
   "metadata": {},
   "source": [
    "#### Confidence Interval\n",
    "\n",
    "for the unknown <span style=\"text-decoration: underline\">Population Mean</span>:\n",
    "\n",
    "1. $\\bar{x} - |z_{\\alpha/2}|\\frac{\\sigma}{\\sqrt{n}} < \\mu < \\bar{x} + |z_{\\alpha/2}|\\frac{\\sigma}{\\sqrt{n}}$\n",
    "2. $\\bar{x} - |t_{\\alpha/2}|\\frac{s}{\\sqrt{n}} < \\mu < \\bar{x} + |t_{\\alpha/2}|\\frac{s}{\\sqrt{n}}$\n",
    "\n",
    "for the unknown <span style=\"text-decoration: underline\">Population Proportion</span>:\n",
    "\n",
    "3. $\\hat{p} - |z_{\\alpha/2}|\\sqrt{\\frac{\\hat{p}(1-\\hat{p})}{n}} < p < \\hat{p} + |z_{\\alpha/2}|\\sqrt{\\frac{\\hat{p}(1-\\hat{p})}{n}}$"
   ]
  },
  {
   "cell_type": "markdown",
   "metadata": {},
   "source": [
    "### Sample size calculation\n",
    "\n",
    "How big a Sample to take?\n",
    "* A pollster wanting to make a prediction about a particular candidate’s vote share in the US presidential election.\n",
    "* A quality control manager at a battery manufacturer wanting to estimate the average number of defective batteries contained in a box shipped by the company.\n",
    "\n",
    "> Different industries may have different rule of thumb strategies for sample size selection.\n",
    "\n",
    "Typically we are interested in:\n",
    "\n",
    "* the **_Population Mean_**\n",
    "* the __*Population Proportion*__\n",
    "\n",
    "... and we build confidence intervals for these unknown quantities\n",
    "\n",
    "**Example 1**:\n",
    "\n",
    "The pollster may want to have a margin of error+/- 3% with a confidence level of 95%\n",
    "\n",
    "The quality control manager may want to assess the average number of defectives in a box with a margin of errorof plus minus 0.3 batteries and a confidence level of 95%.\n",
    "\n",
    "A quality control manager at a battery manufacturer wants to estimate the average number of defective batteries contained in a box shipped by the company. \n",
    "\n",
    "> How many boxes does she need to open to figure out the average number of defective batteries contained in a box?\n",
    "\n",
    "To answer this question we'll need the population standard deviation (or an estimate of such). In this case the manager has some historic data and according to that the population standard deviation is 0.9.\n",
    "\n",
    "Here's a reminder of the confidence interval for the Population Mean:\n",
    "\n",
    "$$ \\bar{x} - |z_{\\alpha/2}|\\frac{\\sigma}{\\sqrt{n}} < \\mu < \\bar{x} + |z_{\\alpha/2}|\\frac{\\sigma}{\\sqrt{n}} $$\n",
    "\n",
    "We can derrive the sample size from the margin of error:\n",
    "\n",
    "$|z_{\\alpha/2}|\\frac{\\sigma}{\\sqrt{n}} = 0.3$\n",
    "\n",
    "$0.3 = $ `abs(norm.ppf(0.05/2, loc=0, scale=1))` $\\times\\frac{\\sigma}{\\sqrt{n}}$"
   ]
  },
  {
   "cell_type": "code",
   "execution_count": 17,
   "metadata": {},
   "outputs": [
    {
     "data": {
      "text/plain": [
       "1.96"
      ]
     },
     "execution_count": 17,
     "metadata": {},
     "output_type": "execute_result"
    }
   ],
   "source": [
    "abs(round(norm.ppf(0.05/2, loc=0, scale=1), 2))"
   ]
  },
  {
   "cell_type": "markdown",
   "metadata": {},
   "source": [
    "$0.3 = 1.96\\times\\frac{\\sigma}{\\sqrt{n}}$\n",
    "\n",
    "$0.3 = 1.96\\times\\frac{0.9}{\\sqrt{n}}$\n",
    "\n",
    "$\\sqrt{n}=1.96\\times\\frac{0.9}{0.3}$\n",
    "\n",
    "$n=(1.96\\times\\frac{0.9}{0.3})^2$\n",
    "\n",
    "Or\n",
    "\n",
    "$n=(|z_{\\alpha/2}|\\times\\frac{\\sigma}{\\text{margin of error}})^2$"
   ]
  },
  {
   "cell_type": "code",
   "execution_count": 18,
   "metadata": {},
   "outputs": [
    {
     "data": {
      "text/plain": [
       "35"
      ]
     },
     "execution_count": 18,
     "metadata": {},
     "output_type": "execute_result"
    }
   ],
   "source": [
    "ceil((1.96*(0.9/0.3))**2)"
   ]
  },
  {
   "cell_type": "markdown",
   "metadata": {},
   "source": [
    "$n=35$\n",
    "\n",
    "---"
   ]
  },
  {
   "cell_type": "markdown",
   "metadata": {},
   "source": [
    "**Example 2**:\n",
    "\n",
    "> A pollster wanting to make a prediction about a particular candidate’s vote share in the US presidential election. How many voters should the pollster survey? The pollster in the prediction wants to have a margin of error +/- 3% with a confidence level of 95%\n",
    "\n",
    "Here's a reminder of the confidence interval for the Population Proportion:\n",
    "\n",
    "$$\\hat{p} - |z_{\\alpha/2}|\\sqrt{\\frac{\\hat{p}(1-\\hat{p})}{n}} < p < \\hat{p} + |z_{\\alpha/2}|\\sqrt{\\frac{\\hat{p}(1-\\hat{p})}{n}}$$\n",
    "\n",
    "We can derrive the sample size from the margin of error as well:\n",
    "\n",
    "$|z_{\\alpha/2}|\\sqrt{\\frac{\\hat{p}(1-\\hat{p})}{n}} = 0.03$\n",
    "\n",
    "$0.03 = $ `abs(norm.ppf(0.05/2, loc=0, scale=1))` $\\times\\sqrt{\\frac{\\hat{p}(1-\\hat{p})}{n}}$"
   ]
  },
  {
   "cell_type": "code",
   "execution_count": 19,
   "metadata": {},
   "outputs": [
    {
     "data": {
      "text/plain": [
       "1.96"
      ]
     },
     "execution_count": 19,
     "metadata": {},
     "output_type": "execute_result"
    }
   ],
   "source": [
    "abs(round(norm.ppf(0.05/2, loc=0, scale=1), 2))"
   ]
  },
  {
   "cell_type": "markdown",
   "metadata": {},
   "source": [
    "$0.03^2 = 1.96^2\\times\\frac{\\hat{p}(1-\\hat{p})}{n}$\n",
    "\n",
    "$n = \\frac{1.96^2}{0.03^2}\\times\\hat{p}(1-\\hat{p})$\n",
    "\n",
    "We should use a conservative estimate of $\\hat{p}$. To find it out we should maximise $n$. $n$ is maximised when $\\hat{p}$ is maximised. To find out the maximised $\\hat{p}$ we should take the first derivative of $f(\\hat{p}) = \\hat{p}(1-\\hat{p})$ and set it to zero. Thus $\\hat{p} = 0.5$. And thus we have:\n",
    "\n",
    "$n = \\frac{1.96^2}{0.03^2}\\times0.5(1-0.5)$\n",
    "\n",
    "or\n",
    "\n",
    "$n = (\\frac{|z_{\\alpha/2}|}{\\text{margin of error}})^2 \\times\\hat{p}(1-\\hat{p})$"
   ]
  },
  {
   "cell_type": "code",
   "execution_count": 20,
   "metadata": {},
   "outputs": [
    {
     "data": {
      "text/plain": [
       "1068"
      ]
     },
     "execution_count": 20,
     "metadata": {},
     "output_type": "execute_result"
    }
   ],
   "source": [
    "ceil((1.96**2/0.03**2) * 0.5 * (1 - 0.5))"
   ]
  },
  {
   "cell_type": "markdown",
   "metadata": {},
   "source": [
    "$ n = 1068 $\n",
    "\n",
    "---\n",
    "\n",
    "Many industries use rule-of-thumb strategies/heuristics\n",
    "\n",
    "We provided here some basis for choosing an appropriate sample size.\n",
    "\n",
    "---"
   ]
  },
  {
   "cell_type": "markdown",
   "metadata": {},
   "source": [
    "### Quiz 2"
   ]
  },
  {
   "cell_type": "code",
   "execution_count": 21,
   "metadata": {},
   "outputs": [],
   "source": [
    "quiz_data = pd.read_excel(\"Excel files/2. Confidence Interval - Applications.xlsx\", \"Sheet1\", \n",
    "                          index_col=None, na_values=[\"NA\"])"
   ]
  },
  {
   "cell_type": "markdown",
   "metadata": {},
   "source": [
    "Quiz data lists last month's sales for a sample of 100 department stores. The sales are divided into categories of grocery sales, clothing sales, and toy sales.\n",
    "\n",
    "1.\n",
    "\n",
    "Suppose we are trying to estimate the average grocery sales for all stores, of which we have data for these 100. Calculate the absolute value of t-α/2 for a 95% confidence interval for grocery sales. Round to four decimal places."
   ]
  },
  {
   "cell_type": "code",
   "execution_count": 22,
   "metadata": {},
   "outputs": [
    {
     "name": "stdout",
     "output_type": "stream",
     "text": [
      "The absolute value of t-α/2 for a 95% confidence interval for grocery sales: 1.9842\n"
     ]
    }
   ],
   "source": [
    "alpha = 0.05\n",
    "n = len(quiz_data)\n",
    "degrees_of_freedom = n - 1\n",
    "t_statistic = abs(t.ppf(alpha/2, degrees_of_freedom))\n",
    "print(f\"The absolute value of t-α/2 for a 95% confidence interval for grocery sales: {round(t_statistic, 4)}\")"
   ]
  },
  {
   "cell_type": "markdown",
   "metadata": {},
   "source": [
    "2.\n",
    "\n",
    "Using the non-rounded value (full value given by Excel) calculated in question #1, calculate the margin of error for grocery sales. Round your answer to four decimal places."
   ]
  },
  {
   "cell_type": "code",
   "execution_count": 23,
   "metadata": {},
   "outputs": [
    {
     "name": "stdout",
     "output_type": "stream",
     "text": [
      "The margin of error for grocery sales: 1412.7984\n"
     ]
    }
   ],
   "source": [
    "s = quiz_data[\"Grocery Sales\"].std()\n",
    "margin_of_error = abs(t_statistic) * (s / sqrt(n))\n",
    "print(f\"The margin of error for grocery sales: {round(margin_of_error, 4)}\")"
   ]
  },
  {
   "cell_type": "markdown",
   "metadata": {},
   "source": [
    "3.\n",
    "\n",
    "Now calculate the margin of error for a 95% confidence interval for the population mean clothing sales and toy sales as well. Which of the three categories has the greatest margin of error?"
   ]
  },
  {
   "cell_type": "code",
   "execution_count": 24,
   "metadata": {},
   "outputs": [
    {
     "name": "stdout",
     "output_type": "stream",
     "text": [
      "The margin of error for clothing sales: 2062.8996\n",
      "The margin of error for toy sales: 684.8383\n",
      "Clothing sales has the greatest margin of error of the three categories.\n"
     ]
    }
   ],
   "source": [
    "clothes_s = quiz_data[\"Clothing Sales\"].std()\n",
    "clothes_margin_of_error = abs(t_statistic) * (clothes_s / sqrt(n))\n",
    "print(f\"The margin of error for clothing sales: {round(clothes_margin_of_error, 4)}\")\n",
    "toys_s = quiz_data[\"Toy Sales\"].std()\n",
    "toys_margin_of_error = abs(t_statistic) * (toys_s / sqrt(n))\n",
    "print(f\"The margin of error for toy sales: {round(toys_margin_of_error, 4)}\")\n",
    "print(\"Clothing sales has the greatest margin of error of the three categories.\")"
   ]
  },
  {
   "cell_type": "markdown",
   "metadata": {},
   "source": [
    "4.\n",
    "\n",
    "Suppose we could gather more data points for\n",
    "clothing sales from additional stores. In order to make the margin of error for\n",
    "clothing sales as close as possible to the current margin of error for toy sales, how many **additional**\n",
    "data points would be required? \n",
    "\n",
    "Assume that the mean and sample standard\n",
    "deviation remain the same. Round to the nearest whole number. "
   ]
  },
  {
   "cell_type": "markdown",
   "metadata": {},
   "source": [
    "$n=(|z_{\\alpha/2}|\\times\\frac{\\sigma}{\\text{margin of error}})^2$"
   ]
  },
  {
   "cell_type": "code",
   "execution_count": 25,
   "metadata": {},
   "outputs": [
    {
     "name": "stdout",
     "output_type": "stream",
     "text": [
      "In order to make the margin of error for clothing sales as close as possible to the current margin of error for toy sales, 788 data points would be required\n"
     ]
    }
   ],
   "source": [
    "closest_n = dict()\n",
    "for n in range(1, 10000):\n",
    "    t_statistic = abs(t.ppf(alpha/2, n))\n",
    "    difference = abs(toys_margin_of_error - (abs(t_statistic) * (clothes_s / sqrt(n))))\n",
    "    if difference >= 0 and difference <= 1:\n",
    "        closest_n[n] = difference\n",
    "print(\"In order to make the margin of error for clothing sales as close as possible to the current margin\",\n",
    "      f\"of error for toy sales, {min(closest_n, key=closest_n.get) - len(quiz_data)} data points would be required\")"
   ]
  },
  {
   "cell_type": "code",
   "execution_count": 26,
   "metadata": {
    "scrolled": true
   },
   "outputs": [],
   "source": [
    "# z_statistic = norm.ppf(0.05/2, loc=0, scale=1)\n",
    "# n = (abs(z_statistic) * (clothes_s/toys_margin_of_error)) ** 2\n",
    "# print(\"In order to make the margin of error for clothing sales as close as possible to the current margin\",\n",
    "#       f\"of error for toy sales, {round(n) - len(quiz_data)} data points would be required\")"
   ]
  },
  {
   "cell_type": "markdown",
   "metadata": {},
   "source": [
    "5.\n",
    "\n",
    "What is the 95% confidence interval for the population mean toy\n",
    "sales (rounding to the nearest whole number)? "
   ]
  },
  {
   "cell_type": "code",
   "execution_count": 27,
   "metadata": {},
   "outputs": [
    {
     "name": "stdout",
     "output_type": "stream",
     "text": [
      "The 95% confidence interval for the population mean toy sales is: [9156.0, 10526.0]\n"
     ]
    }
   ],
   "source": [
    "toys_sample_mean = quiz_data[\"Toy Sales\"].mean()\n",
    "print(\"The 95% confidence interval for the population mean toy sales is:\",\n",
    "      f\"[{round(toys_sample_mean - toys_margin_of_error)}, {round(toys_sample_mean + toys_margin_of_error)}]\")"
   ]
  },
  {
   "cell_type": "markdown",
   "metadata": {},
   "source": [
    "6.\n",
    "\n",
    "Compared to the 95% confidence interval, is the 90% confidence interval for toy sales wider or narrower?\n",
    "\n",
    "> Narrower; the margin of error for the 90% confidence interval is smaller, leading to a narrower range. "
   ]
  },
  {
   "cell_type": "markdown",
   "metadata": {},
   "source": [
    "7.\n",
    "\n",
    "What is the 90% confidence interval for the population mean toy sales. Round to the nearest whole number."
   ]
  },
  {
   "cell_type": "code",
   "execution_count": 28,
   "metadata": {},
   "outputs": [
    {
     "name": "stdout",
     "output_type": "stream",
     "text": [
      "The 90% confidence interval for the population mean toy sales is: [9268.0, 10414.0]\n"
     ]
    }
   ],
   "source": [
    "alpha = 0.1\n",
    "n = len(quiz_data)\n",
    "t_statistic = abs(t.ppf(alpha/2, degrees_of_freedom))\n",
    "toys_margin_of_error = abs(t_statistic) * (toys_s / sqrt(n))\n",
    "print(\"The 90% confidence interval for the population mean toy sales is:\",\n",
    "      f\"[{round(toys_sample_mean - toys_margin_of_error)}, {round(toys_sample_mean + toys_margin_of_error)}]\")"
   ]
  },
  {
   "cell_type": "markdown",
   "metadata": {},
   "source": [
    "8.\n",
    "\n",
    "How many more store toy sales fall within the 95%\n",
    "confidence interval than within the 90% confidence interval?\n",
    "\n",
    "HINT: Count the number of data points that fall within each interval separately. For counting you could either do a manual count or use the COUNTIF function in Excel. Please refer to course 1 of this specialization where we covered the usage of such functions."
   ]
  },
  {
   "cell_type": "code",
   "execution_count": 29,
   "metadata": {},
   "outputs": [
    {
     "name": "stdout",
     "output_type": "stream",
     "text": [
      "Less confident: 15\n",
      "More confident: 18\n",
      "3 more store toy sales fall within the 95% confidence interval than within the 90% confidence interval\n"
     ]
    }
   ],
   "source": [
    "less_confident_mean = len(quiz_data[(quiz_data[\"Toy Sales\"] >= toys_sample_mean - toys_margin_of_error) \n",
    "                                    & (quiz_data[\"Toy Sales\"] <= toys_sample_mean + toys_margin_of_error)])\n",
    "print(f\"Less confident: {less_confident_mean}\")\n",
    "\n",
    "alpha = 0.05\n",
    "t_statistic = abs(t.ppf(alpha/2, degrees_of_freedom))\n",
    "toys_margin_of_error = abs(t_statistic) * (toys_s / sqrt(n))\n",
    "more_confident_mean = len(quiz_data[(quiz_data[\"Toy Sales\"] >= toys_sample_mean - toys_margin_of_error) \n",
    "                                    & (quiz_data[\"Toy Sales\"] <= toys_sample_mean + toys_margin_of_error)])\n",
    "print(f\"More confident: {more_confident_mean}\")\n",
    "print(f\"{more_confident_mean - less_confident_mean} more store toy sales fall\",\n",
    "      \"within the 95% confidence interval than within the 90% confidence interval\")"
   ]
  },
  {
   "cell_type": "markdown",
   "metadata": {},
   "source": [
    "9.\n",
    "\n",
    "Complete the following statement by filling in the blanks. More than one answer choice may be correct. \n",
    "\n",
    "For a given standard deviation, the margin of error __decreases__ as the sample size __increases__ _(and vice versa)_."
   ]
  },
  {
   "cell_type": "markdown",
   "metadata": {},
   "source": [
    "10.\n",
    "\n",
    "Now we will work with population proportions. Enter an appropriate formula in column E that will calculate the total sales as the sum of the three categories of sales for each store."
   ]
  },
  {
   "cell_type": "code",
   "execution_count": 30,
   "metadata": {},
   "outputs": [],
   "source": [
    "quiz_data[\"Total Sales\"] = quiz_data[\"Grocery Sales\"] + quiz_data[\"Clothing Sales\"] + quiz_data[\"Toy Sales\"]"
   ]
  },
  {
   "cell_type": "code",
   "execution_count": 31,
   "metadata": {},
   "outputs": [
    {
     "data": {
      "text/html": [
       "<div>\n",
       "<style scoped>\n",
       "    .dataframe tbody tr th:only-of-type {\n",
       "        vertical-align: middle;\n",
       "    }\n",
       "\n",
       "    .dataframe tbody tr th {\n",
       "        vertical-align: top;\n",
       "    }\n",
       "\n",
       "    .dataframe thead th {\n",
       "        text-align: right;\n",
       "    }\n",
       "</style>\n",
       "<table border=\"1\" class=\"dataframe\">\n",
       "  <thead>\n",
       "    <tr style=\"text-align: right;\">\n",
       "      <th></th>\n",
       "      <th>Store ID</th>\n",
       "      <th>Grocery Sales</th>\n",
       "      <th>Clothing Sales</th>\n",
       "      <th>Toy Sales</th>\n",
       "      <th>Total Sales</th>\n",
       "    </tr>\n",
       "  </thead>\n",
       "  <tbody>\n",
       "    <tr>\n",
       "      <th>0</th>\n",
       "      <td>1</td>\n",
       "      <td>26362</td>\n",
       "      <td>37135</td>\n",
       "      <td>5353</td>\n",
       "      <td>68850</td>\n",
       "    </tr>\n",
       "    <tr>\n",
       "      <th>1</th>\n",
       "      <td>2</td>\n",
       "      <td>29886</td>\n",
       "      <td>13143</td>\n",
       "      <td>11010</td>\n",
       "      <td>54039</td>\n",
       "    </tr>\n",
       "    <tr>\n",
       "      <th>2</th>\n",
       "      <td>3</td>\n",
       "      <td>39791</td>\n",
       "      <td>43391</td>\n",
       "      <td>11398</td>\n",
       "      <td>94580</td>\n",
       "    </tr>\n",
       "    <tr>\n",
       "      <th>3</th>\n",
       "      <td>4</td>\n",
       "      <td>34422</td>\n",
       "      <td>24379</td>\n",
       "      <td>11584</td>\n",
       "      <td>70385</td>\n",
       "    </tr>\n",
       "    <tr>\n",
       "      <th>4</th>\n",
       "      <td>5</td>\n",
       "      <td>34016</td>\n",
       "      <td>34002</td>\n",
       "      <td>16174</td>\n",
       "      <td>84192</td>\n",
       "    </tr>\n",
       "  </tbody>\n",
       "</table>\n",
       "</div>"
      ],
      "text/plain": [
       "   Store ID  Grocery Sales  Clothing Sales  Toy Sales  Total Sales\n",
       "0         1          26362           37135       5353        68850\n",
       "1         2          29886           13143      11010        54039\n",
       "2         3          39791           43391      11398        94580\n",
       "3         4          34422           24379      11584        70385\n",
       "4         5          34016           34002      16174        84192"
      ]
     },
     "execution_count": 31,
     "metadata": {},
     "output_type": "execute_result"
    }
   ],
   "source": [
    "quiz_data.head()"
   ]
  },
  {
   "cell_type": "markdown",
   "metadata": {},
   "source": [
    "In column F calculate the average proportion of grocery sales relative to total sales per store. That is in column F calculate columnB/columnE."
   ]
  },
  {
   "cell_type": "code",
   "execution_count": 32,
   "metadata": {},
   "outputs": [],
   "source": [
    "quiz_data[\"Grocery Sales Proportion\"] = quiz_data[\"Grocery Sales\"] / quiz_data[\"Total Sales\"]"
   ]
  },
  {
   "cell_type": "code",
   "execution_count": 33,
   "metadata": {},
   "outputs": [
    {
     "data": {
      "text/html": [
       "<div>\n",
       "<style scoped>\n",
       "    .dataframe tbody tr th:only-of-type {\n",
       "        vertical-align: middle;\n",
       "    }\n",
       "\n",
       "    .dataframe tbody tr th {\n",
       "        vertical-align: top;\n",
       "    }\n",
       "\n",
       "    .dataframe thead th {\n",
       "        text-align: right;\n",
       "    }\n",
       "</style>\n",
       "<table border=\"1\" class=\"dataframe\">\n",
       "  <thead>\n",
       "    <tr style=\"text-align: right;\">\n",
       "      <th></th>\n",
       "      <th>Store ID</th>\n",
       "      <th>Grocery Sales</th>\n",
       "      <th>Clothing Sales</th>\n",
       "      <th>Toy Sales</th>\n",
       "      <th>Total Sales</th>\n",
       "      <th>Grocery Sales Proportion</th>\n",
       "    </tr>\n",
       "  </thead>\n",
       "  <tbody>\n",
       "    <tr>\n",
       "      <th>0</th>\n",
       "      <td>1</td>\n",
       "      <td>26362</td>\n",
       "      <td>37135</td>\n",
       "      <td>5353</td>\n",
       "      <td>68850</td>\n",
       "      <td>0.382890</td>\n",
       "    </tr>\n",
       "    <tr>\n",
       "      <th>1</th>\n",
       "      <td>2</td>\n",
       "      <td>29886</td>\n",
       "      <td>13143</td>\n",
       "      <td>11010</td>\n",
       "      <td>54039</td>\n",
       "      <td>0.553045</td>\n",
       "    </tr>\n",
       "    <tr>\n",
       "      <th>2</th>\n",
       "      <td>3</td>\n",
       "      <td>39791</td>\n",
       "      <td>43391</td>\n",
       "      <td>11398</td>\n",
       "      <td>94580</td>\n",
       "      <td>0.420713</td>\n",
       "    </tr>\n",
       "    <tr>\n",
       "      <th>3</th>\n",
       "      <td>4</td>\n",
       "      <td>34422</td>\n",
       "      <td>24379</td>\n",
       "      <td>11584</td>\n",
       "      <td>70385</td>\n",
       "      <td>0.489053</td>\n",
       "    </tr>\n",
       "    <tr>\n",
       "      <th>4</th>\n",
       "      <td>5</td>\n",
       "      <td>34016</td>\n",
       "      <td>34002</td>\n",
       "      <td>16174</td>\n",
       "      <td>84192</td>\n",
       "      <td>0.404029</td>\n",
       "    </tr>\n",
       "  </tbody>\n",
       "</table>\n",
       "</div>"
      ],
      "text/plain": [
       "   Store ID  Grocery Sales  Clothing Sales  Toy Sales  Total Sales  \\\n",
       "0         1          26362           37135       5353        68850   \n",
       "1         2          29886           13143      11010        54039   \n",
       "2         3          39791           43391      11398        94580   \n",
       "3         4          34422           24379      11584        70385   \n",
       "4         5          34016           34002      16174        84192   \n",
       "\n",
       "   Grocery Sales Proportion  \n",
       "0                  0.382890  \n",
       "1                  0.553045  \n",
       "2                  0.420713  \n",
       "3                  0.489053  \n",
       "4                  0.404029  "
      ]
     },
     "execution_count": 33,
     "metadata": {},
     "output_type": "execute_result"
    }
   ],
   "source": [
    "quiz_data.head()"
   ]
  },
  {
   "cell_type": "markdown",
   "metadata": {},
   "source": [
    "Report the average of this column (column F). This is your  ($\\hat{p}$). Round your answer to two decimal places."
   ]
  },
  {
   "cell_type": "code",
   "execution_count": 34,
   "metadata": {},
   "outputs": [
    {
     "name": "stdout",
     "output_type": "stream",
     "text": [
      "The average of Grocery Sales Sample Proportion is: 0.47\n"
     ]
    }
   ],
   "source": [
    "p_hat = quiz_data[\"Grocery Sales Proportion\"].mean()\n",
    "print(\"The average of Grocery Sales Sample Proportion is:\",\n",
    "      round(p_hat, 2))"
   ]
  },
  {
   "cell_type": "markdown",
   "metadata": {},
   "source": [
    "11.\n",
    "\n",
    "Construct a 95% confidence interval for the population proportion of grocery sales. [Hint: use the z-statistic]"
   ]
  },
  {
   "cell_type": "code",
   "execution_count": 35,
   "metadata": {},
   "outputs": [
    {
     "name": "stdout",
     "output_type": "stream",
     "text": [
      "95% confidence interval for the population proportion of grocery sales: [0.38853768485831686, 0.5527391965888913]\n"
     ]
    }
   ],
   "source": [
    "lower_limit = p_hat - (abs(z_statistic) * sqrt((p_hat * (1 - p_hat)) / n))\n",
    "upper_limit = p_hat + (abs(z_statistic) * sqrt((p_hat * (1 - p_hat)) / n))\n",
    "print(\"95% confidence interval for the population proportion of grocery sales:\",\n",
    "     f\"[{lower_limit}, {upper_limit}]\")"
   ]
  },
  {
   "cell_type": "markdown",
   "metadata": {},
   "source": [
    "12.\n",
    "\n",
    "Suppose we could gather more data points for clothing sales from additional stores. In order to make the margin of error for the population proportion confidence interval of clothing sales equal to .07, how many additional data points would be required? Round to the highest whole number.\n",
    "\n",
    "HINT: Use the z-statistic and remember to use a value of 0.5 for $\\hat{p}$."
   ]
  },
  {
   "cell_type": "markdown",
   "metadata": {},
   "source": [
    "$n = (\\frac{|z_{\\alpha/2}|}{\\text{margin of error}})^2 \\times\\hat{p}(1-\\hat{p})$"
   ]
  },
  {
   "cell_type": "code",
   "execution_count": 36,
   "metadata": {},
   "outputs": [
    {
     "name": "stdout",
     "output_type": "stream",
     "text": [
      "39 additional data points would be required\n"
     ]
    }
   ],
   "source": [
    "n = ((z_statistic/0.07) ** 2) * 0.25\n",
    "print(f\"{ceil(n - len(quiz_data))} additional data points would be required\")"
   ]
  },
  {
   "cell_type": "markdown",
   "metadata": {},
   "source": [
    "---\n",
    "\n",
    "## Hypothesis Testing <a id=\"week-3-ht\"></a>\n",
    "[*Back to the heading*](#heading)\n",
    "\n",
    "Hypothesis tests are an important tool to analyze data and make some inferences from it.\n",
    "\n",
    "All Hypothesis tests follow a basic logic:\n",
    "1. An assumption or a claim is made.  \n",
    "2. If your data contradicts this assumption or claim then you conclude that the claim or assumption made must be wrong. \n",
    "\n",
    "Example:\n",
    "\n",
    "> You are the production manager at a beverage manufacturer and you receive a bottling unit that has been recently re-adjusted so that it puts **200 milliliter** of beverage in disposable plastic bottles. You need to test that indeed the bottling unit puts in 200 milliliter of beverage. For that you fill out 10 bottles using the unit at different times so as to obtain a random sample and very carefully measure the amount of beverage inside each bottle.\n",
    "* 200 milliliter - population mean claimed by the bottling unit\n",
    "\n",
    "If the sample mean falls in rejection region, we reject the claim, else we do not. In Hypothesis Testing sample mean falling in rejection region is the same as the t-statistic (or, if available, z-statistic) falling in rejection region.\n",
    "\n",
    "![3_Rej_region-1](Images/3_Rej_region-1.png)\n",
    "\n",
    "We have a sample of 10 bottles, with a sample mean 199 and sample standard deviation 0.8.\n",
    "\n",
    "Here are the steps of a Hypothesis Testing:\n",
    "\n",
    "1. Formulate Hypothesis\n",
    "\n",
    "> * Null Hypothesis $\\text{H}_0$: $\\mu$ = 200\n",
    "* Alternate Hypothesis $\\text{H}_{\\text{A}}$: $\\mu$ != 200\n",
    "* A \"Two tailed test\"\n",
    "* A test is one tailed when the alternate hypothesis considers only one rejection region, i.e. $\\mu$ < n or $\\mu$ > n. In such situation the area under the curve of the rejection region is $\\alpha$\n",
    "* Null hypothesis cannot have $\\ne$, > or <\n",
    "* In case of proportions, $n\\bar{p} > 5$ and $n(1-\\bar{p} > 5$ where $\\bar{p}$ is sample proportion\n",
    "* To check the claim like \"Something is greater than...\" the course suggests switching the Null hypothesis with the Alternate hypothesis (though it's highly NOT recommended in science)\n",
    "\n",
    "2. Calculate t/z-statistic\n",
    "\n",
    "> t-statistic = $\\frac{\\bar{x}-\\mu}{s/\\sqrt{n}}$ = $\\frac{199-200}{0.8/\\sqrt{10}}$ = -3.9528\n",
    "\n",
    ">* Sample mean 199 way above 200 $\\equiv$ t-statistic -3.9528 way above 0\n",
    "* Sample mean 199 way below 200 $\\equiv$ t-statistic -3.9528 way below 0\n",
    "\n",
    "3. Cutoff values for the t/z-statistic\n",
    "\n",
    ">* $\\alpha$:  The ‘significance’ level. Typically, = 0.05 or 0.0\n",
    "* The probability of rejecting the Null hypothesis when it is true. Usually in the business industry $\\alpha$ = 0.05\n",
    "\n",
    "![3_Rej_region-2](Images/3_Rej_region-2.png)\n",
    "\n",
    "> t_cutoff = $\\pm$ abs(t.ppf(0.05/2, 10-1)) = $\\pm$ abs(t.ppf(0.05/2, 10-1)), 3) = $\\pm$ 2.262\n",
    "\n",
    "4. Check whether t/z-statistic falls in the rejection region\n",
    "\n",
    ">* $\\text{t-statistic} > -\\text{t_cutoff} \\text{ AND } \\text{t-statistic} < \\text{t_cutoff} \\Rightarrow \\text{The Null Hypothesis is rejected}$\n",
    "* Thus we assume that a bottling unit on average doesn't put 200 milliliter of beverage in disposable plastic bottles\n",
    "\n",
    "\n",
    "---\n",
    "\n",
    "Example of Hypothesis Testing involving a population proportion:\n",
    "\n",
    "> A medium sized university in the US introduces a **new lunch facility** on campus on a trial basis. The university operates the Lunch facility for a few months and then decides to survey the student body. Based on the survey, university would make this facility a permanent fixture or do away with it. Specifically, if **more than or equal to 70%** of the student body approves of it then the facility would be **made permanent** else it would **shut down**.  The university conducts a survey with **750 randomly selected students** on campus and finds that 510 of these students (or **68%** of the sampled students) approve of the new facility and the remaining 240 students or **32%** students do not approve of it. Based on the criteria set by University **should the facility be made permanent?**\n",
    "\n",
    "* Population Proportion rather than the Population Mean. \n",
    "* The facility would be made permanent if ≥ 70% of entire student body approves of it.\n",
    "* The University has a sample of 750 responses. \n",
    "\n",
    "\n",
    "1. Formulate Hypothesis\n",
    "    + Null Hypothesis $\\text{H}_0$: $p$ >= 0.70\n",
    "    + Alternate Hypothesis $\\text{H}_{\\text{A}}$: $p$ < 0.70\n",
    "\n",
    "\n",
    "2. Calculate z-statistic\n",
    "    + z-statistic = $\\frac{\\bar{p}-p}{\\sqrt{\\frac{p(1-p)}{n}}}$\n",
    "    + where $\\bar{p}$ is sample proportion\n",
    "    + $p$ is hypothesis proportion"
   ]
  },
  {
   "cell_type": "code",
   "execution_count": 37,
   "metadata": {},
   "outputs": [
    {
     "name": "stdout",
     "output_type": "stream",
     "text": [
      "z-statistic = -1.1952\n"
     ]
    }
   ],
   "source": [
    "print(\"z-statistic =\", round((0.68 - 0.7) / sqrt((0.7 * (1 - 0.7)) / 750), 4))"
   ]
  },
  {
   "cell_type": "markdown",
   "metadata": {},
   "source": [
    "3. Cutoff values for the z-statistic\n",
    "    + $\\alpha$ = 0.05"
   ]
  },
  {
   "cell_type": "code",
   "execution_count": 38,
   "metadata": {},
   "outputs": [
    {
     "name": "stdout",
     "output_type": "stream",
     "text": [
      "z-cutoff = -1.6449\n"
     ]
    }
   ],
   "source": [
    "print(\"z-cutoff =\", -round(abs(norm.ppf(alpha, loc=0, scale=1)), 4))"
   ]
  },
  {
   "cell_type": "markdown",
   "metadata": {},
   "source": [
    "4. Check whether z-statistic falls in the rejection region\n",
    "\n",
    ">* $\\text{z-statistic} > \\text{z_cutoff} \\Rightarrow \\text{The Null Hypothesis is not rejected}$\n",
    "* $\\text{-1.1952} > \\text{-1.6449} \\Rightarrow \\text{The Null Hypothesis is not rejected}$\n",
    "* The lunch facility should be made permanent\n",
    "\n",
    "---"
   ]
  },
  {
   "cell_type": "markdown",
   "metadata": {},
   "source": [
    "### Two types of possible errors\n",
    "\n",
    "- Type I error\n",
    "- Type II error\n",
    "\n",
    "Example:\n",
    "\n",
    ">* Your friend Sam claims that he can shoot 40 or more basketsin an hour from the 3-point line in a Basketball court. So, Sam is making a claim about a population parameter, in this case it is his true shooting abilityfrom the 3-point line in a Basketball court. This can be likened to the population mean mu. Thus Sam is claiming that the population mean mu of his shooting ability is greater than or equal to 40 baskets in an hour from the 3-point line in a Basketball court.\n",
    "* Next, you decide to test this claim. For that, you take Sam to the Basketball court everyday for 10 days and make him shoot baskets from the 3 point line for an hour every day. You end up with 10 data points which are the number of baskets Sam shot in those 10 days. You can calculate the sample mean and the sample standard deviation from these ten observations.\n",
    "\n",
    "Suppose that Sam’s true ability is indeed $geq$ 40. However the 10 days were not good for Sam. He gave a low sample average. You reject the Null hypothesis.\n",
    "\n",
    "> Type I error: Rejecting the Null Hypothesis when it is true.\n",
    "\n",
    "Would you know while conducting a Hypothesis test that a Type I error has occurred? Well, not really. The only thing we can do **to reduce Type I error is to decrease $\\alpha$**.\n",
    "\n",
    "$\\alpha$, the significance level is also known as the probability of Type I error.\n",
    "\n",
    "The opposite of the Type I error is the Type II error:\n",
    "\n",
    "> Type II error: Not rejecting the Null Hypothesis when it is false\n",
    "\n",
    "Sam’s true ability is NOT $\\geq$ 40. However the 10 days were lucky for Sam. He gave a high sample average. You DID NOT reject the Null hypothesis. Would you know while conducting a Hypothesis test that a Type II error has occurred? Again, not really. The only thing we can do **to reduce Type II error is to increase the sample size**."
   ]
  },
  {
   "cell_type": "markdown",
   "metadata": {},
   "source": [
    "### Quiz 3"
   ]
  },
  {
   "cell_type": "code",
   "execution_count": 39,
   "metadata": {},
   "outputs": [],
   "source": [
    "quiz_data = pd.read_excel(\"Excel files/3. Hypothesis Testing.xlsx\", \"Sheet1\", index_col=None, na_values=[\"NA\"])"
   ]
  },
  {
   "cell_type": "markdown",
   "metadata": {},
   "source": [
    "Quiz Data contains a sample data about flight information for three separate airlines. Time delays are measured in minutes, with negative numbers representing flights that arrived early.\n",
    "\n",
    "Fast Air claims that their flight delays are on average less than or equal to 20 minutes. We will perform an appropriate hypothesis test for this claim. We will assume an alpha of 0.05 for all tests.\n",
    "\n",
    "1.\n",
    "\n",
    "First, report the average time delay in minutes for all Fast Air flights. Round your answer to two decimal places."
   ]
  },
  {
   "cell_type": "code",
   "execution_count": 40,
   "metadata": {},
   "outputs": [],
   "source": [
    "fast_air_flights = quiz_data[quiz_data[\"Airline\"] == \"Fast Air\"]"
   ]
  },
  {
   "cell_type": "code",
   "execution_count": 41,
   "metadata": {},
   "outputs": [
    {
     "data": {
      "text/plain": [
       "23.3"
      ]
     },
     "execution_count": 41,
     "metadata": {},
     "output_type": "execute_result"
    }
   ],
   "source": [
    "round(fast_air_flights[\"Time Delay (min)\"].mean(), 2)"
   ]
  },
  {
   "cell_type": "markdown",
   "metadata": {},
   "source": [
    "2.\n",
    "\n",
    "What is the appropriate Null and alternate Hypothesis associated with this test?\n",
    "\n",
    ">* Null Hypothesis $\\text{H}_0$: $\\mu$ <= 20\n",
    "* Alternate Hypothesis $\\text{H}_{\\text{A}}$: $\\mu$ > 20"
   ]
  },
  {
   "cell_type": "markdown",
   "metadata": {},
   "source": [
    "3.\n",
    "\n",
    "Find the t-statistic for this hypothesis test. Round your answer to four decimal places."
   ]
  },
  {
   "cell_type": "code",
   "execution_count": 42,
   "metadata": {},
   "outputs": [
    {
     "name": "stdout",
     "output_type": "stream",
     "text": [
      "0.9049\n"
     ]
    }
   ],
   "source": [
    "n = len(fast_air_flights)\n",
    "mu = 20\n",
    "x_bar = fast_air_flights[\"Time Delay (min)\"].mean()\n",
    "s = fast_air_flights[\"Time Delay (min)\"].std()\n",
    "t_statistic = (x_bar - mu) / (s / sqrt(n))\n",
    "print(round(t_statistic, 4))"
   ]
  },
  {
   "cell_type": "markdown",
   "metadata": {},
   "source": [
    "4.\n",
    "\n",
    "Determine the cutoff value for the t-statistic. Round your answer to four decimal places."
   ]
  },
  {
   "cell_type": "code",
   "execution_count": 43,
   "metadata": {},
   "outputs": [
    {
     "name": "stdout",
     "output_type": "stream",
     "text": [
      "1.6676\n"
     ]
    }
   ],
   "source": [
    "alpha = 0.05\n",
    "degrees_of_freedom = n - 1\n",
    "t_cutoff = abs(t.ppf(alpha, degrees_of_freedom)) # positive because of the Null Hypothesis\n",
    "print(round(t_cutoff, 4))"
   ]
  },
  {
   "cell_type": "markdown",
   "metadata": {},
   "source": [
    "5.\n",
    "\n",
    "Now compare the t-statistic to the rejection region. What can we conclude about the null hypothesis? \n",
    "\n",
    "> t_statistic is less than the cutoff value. Thus, we don't reject the Null Hypothesis.\n",
    "\n",
    "6.\n",
    "\n",
    "Not to be outdone by their competitors, the second airline in the data, EZ Jet, advertises that their average flight delay is less than 20 minutes. We will perform a hypothesis test on this claim.\n",
    "\n",
    "Notice that EZ Jet uses a strict inequality in its claim. In this case, what is the appropriate null hypothesis?\n",
    "\n",
    "> According to the course it's $\\text{H}_0$: $\\mu$ >= 20... Because of the switch."
   ]
  },
  {
   "cell_type": "markdown",
   "metadata": {},
   "source": [
    "7.\n",
    "\n",
    "Calculate the mean, standard deviation, and t-statistic for this hypothesis test (the hypothesis test in Question 6). Your t-statistic should be -1.022.\n",
    "\n",
    "Now calculate and report the cutoff value for the t-statistic using an alpha value of 0.05. Round your answer to four decimal places."
   ]
  },
  {
   "cell_type": "code",
   "execution_count": 44,
   "metadata": {},
   "outputs": [],
   "source": [
    "ez_jet_flights = quiz_data[quiz_data[\"Airline\"] == \"EZ Jet\"]"
   ]
  },
  {
   "cell_type": "code",
   "execution_count": 45,
   "metadata": {},
   "outputs": [
    {
     "name": "stdout",
     "output_type": "stream",
     "text": [
      "t-statistic: -1.0219\n",
      "cutoff: -1.6706\n"
     ]
    }
   ],
   "source": [
    "n = len(ez_jet_flights)\n",
    "degrees_of_freedom = n - 1\n",
    "mu = 20\n",
    "x_bar = ez_jet_flights[\"Time Delay (min)\"].mean()\n",
    "s = ez_jet_flights[\"Time Delay (min)\"].std()\n",
    "t_statistic = (x_bar - mu) / (s / sqrt(n))\n",
    "print(\"t-statistic:\", round(t_statistic, 4))\n",
    "t_cutoff = -abs(t.ppf(alpha, degrees_of_freedom)) # positive because of the Null Hypothesis\n",
    "print(\"cutoff:\", round(t_cutoff, 4))"
   ]
  },
  {
   "cell_type": "markdown",
   "metadata": {},
   "source": [
    "8.\n",
    "\n",
    "Do we reject the null hypothesis? Therefore what can be said about EZ Jet’s claim?\n",
    "\n",
    "> No, we do not reject the null hypothesis; thus EZ Jet’s claim that their wait time is less than 20 minutes can be rejected.\n",
    "\n",
    "9.\n",
    "\n",
    "The third airline in the data, Comfy Flight, claims that at least 80% of their flights are either early, on-time, or delayed by 20 minutes or less. We will perform a hypothesis test on this claim.\n",
    "\n",
    "First, determine the number of flights that fit the description above and convert this to a sample proportion. Report the sample proportion, rounding the answer to four decimal places.\n",
    "\n",
    "HINT: You can use the =COUNTIF function in Excel to count the number of flights for Comfy Flight that fit the description then divide that by the total number of flights for Comfy Flight."
   ]
  },
  {
   "cell_type": "code",
   "execution_count": 46,
   "metadata": {},
   "outputs": [],
   "source": [
    "comfy_flights = quiz_data[quiz_data[\"Airline\"] == \"Comfy Flight\"]"
   ]
  },
  {
   "cell_type": "code",
   "execution_count": 47,
   "metadata": {},
   "outputs": [
    {
     "name": "stdout",
     "output_type": "stream",
     "text": [
      "p bar: 0.4304\n"
     ]
    }
   ],
   "source": [
    "p_bar = len(comfy_flights[comfy_flights[\"Time Delay (min)\"] <= 20]) / len(comfy_flights)\n",
    "print(\"p bar:\", round(p_bar, 4))"
   ]
  },
  {
   "cell_type": "markdown",
   "metadata": {},
   "source": [
    "10.\n",
    "\n",
    "Write down the Null and Alternate Hypothesis associated with this test.\n",
    "\n",
    ">* Null Hypothesis $\\text{H}_0$: $p$ >= 0.8\n",
    "* Alternate Hypothesis $\\text{H}_{\\text{A}}$: $p$ < 0.8\n",
    "\n",
    "11.\n",
    "\n",
    "Now calculate and report the z-statistic associated with this Hypothesis test (the Hypothesis test in Question 10). Report your answer to four decimal places."
   ]
  },
  {
   "cell_type": "code",
   "execution_count": 48,
   "metadata": {},
   "outputs": [
    {
     "name": "stdout",
     "output_type": "stream",
     "text": [
      "z-statistic = -8.2131\n"
     ]
    }
   ],
   "source": [
    "p = 0.8\n",
    "n = len(comfy_flights)\n",
    "z_statistic = (p_bar - p) / sqrt((p * (1 - p)) / n)\n",
    "print(\"z-statistic =\", round(z_statistic, 4))"
   ]
  },
  {
   "cell_type": "markdown",
   "metadata": {},
   "source": [
    "12.\n",
    "\n",
    "The cutoff value for the z-statistic is -1.6449. Is Comfy Flight's claim substantiated?"
   ]
  },
  {
   "cell_type": "code",
   "execution_count": 49,
   "metadata": {},
   "outputs": [
    {
     "name": "stdout",
     "output_type": "stream",
     "text": [
      "z-cutoff = -1.6449\n"
     ]
    }
   ],
   "source": [
    "z_cutoff = abs(norm.ppf(alpha, loc=0, scale=1))\n",
    "print(\"z-cutoff =\", -round(z_cutoff, 4))"
   ]
  },
  {
   "cell_type": "markdown",
   "metadata": {},
   "source": [
    ">No, we reject the null; 80% of their flights do not fall in this range (either early, on-time, or delayed by 20 minutes or less)\n",
    "\n",
    "---"
   ]
  },
  {
   "cell_type": "markdown",
   "metadata": {},
   "source": [
    "## Hypothesis Test - Differences in Mean <a id=\"week-4-htdim\"></a>\n",
    "[*Back to the heading*](#heading)\n",
    "\n",
    "> *what the fuck?*"
   ]
  }
 ],
 "metadata": {
  "kernelspec": {
   "display_name": "Python 3",
   "language": "python",
   "name": "python3"
  },
  "language_info": {
   "codemirror_mode": {
    "name": "ipython",
    "version": 3
   },
   "file_extension": ".py",
   "mimetype": "text/x-python",
   "name": "python",
   "nbconvert_exporter": "python",
   "pygments_lexer": "ipython3",
   "version": "3.7.6"
  }
 },
 "nbformat": 4,
 "nbformat_minor": 4
}
