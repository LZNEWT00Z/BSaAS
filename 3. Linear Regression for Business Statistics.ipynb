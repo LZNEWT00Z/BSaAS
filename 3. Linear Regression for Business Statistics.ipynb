{
 "cells": [
  {
   "cell_type": "markdown",
   "id": "american-stephen",
   "metadata": {},
   "source": [
    "# Linear Regression for Business Statistics <a id=\"heading\"></a>\n",
    "\n",
    "1. [**Regression Analysis: An Introduction**](#week-1-rai)\n",
    "2. [**Regression Analysis: Hypothesis Testing and Goodness of Fit**](#week-2-rahtagof)\n",
    "3. [**Regression Analysis: Dummy Variables, Multicollinearity**](#week-3-radvm)\n",
    "4. [**Regression Analysis: Various Extensions**](#week-4-rave)\n",
    "---"
   ]
  },
  {
   "cell_type": "markdown",
   "id": "going-closing",
   "metadata": {},
   "source": [
    "## Regression Analysis: An Introduction <a id=\"week-1-rai\"></a>\n",
    "\n",
    "[*Back to the heading*](#heading)"
   ]
  },
  {
   "cell_type": "markdown",
   "id": "completed-sucking",
   "metadata": {},
   "source": [
    "**What is Linear Regression?**\n",
    "\n",
    "**Linear regression** attempts to fit a linear relation between a variable of interest and a set of variables that may be related to the variable of interest.\n",
    "\n",
    "There are two main types of Linear Regression:\n",
    "\n",
    "* Simple Regression - a regression with only one explanatory or X variable\n",
    "* Multiple Regression - a regression with two or more explanatory or X variables\n",
    "\n",
    "Overview of Regression:\n",
    "\n",
    "1. Modeling - developing a regression model\n",
    "2. Estimation - using software to estimate the model\n",
    "3. Inference - interpreting the estimated regression model\n",
    "4. Prediction - making predictions about the variable of interest\n",
    "\n",
    "---\n",
    "\n",
    "Example:\n",
    "\n",
    "There is a Sales manager of a toys retail company which sells various kinds of toys in the local market. This sales manager needs to make some kind of projections about the number of monthly units that the retail company will be able to sell of this particular toy in the coming half year. In the past she has been making such projections based on her gut feelingand now wishes to be a little more scientific about the whole process.\n",
    "\n",
    "Based on her experience, the manager figures out that the **monthly unit sales** depend on three important variables, the **price** at which the toy is sold, the **monthly amount that the company spends on advertising** the toy and the **monthly amount spent on promotions** for the toy.\n",
    "\n",
    "The final formula would be:\n",
    "\n",
    "$ Sales = \\beta_0 + \\beta_1 Price + \\beta_2 AdExp + \\beta_3 PromExp $\n",
    "\n",
    "Where:\n",
    "\n",
    "* Sales - variable of interest / Y / Dependent / Response / Regressed / L.H.S.\n",
    "* Price, AdExp, PromExp - Explanatory / X / Independent / Covariate / Regressor / R.H.S. variable\n",
    "* $\\beta_x$ - Coefficient Parameters (calculated)"
   ]
  },
  {
   "cell_type": "code",
   "execution_count": 1,
   "id": "framed-definition",
   "metadata": {},
   "outputs": [],
   "source": [
    "import pandas as pd\n",
    "import numpy as np\n",
    "from scipy.stats import t\n",
    "from sklearn import linear_model\n",
    "import statsmodels.api as sm\n",
    "from statsmodels.stats.outliers_influence import variance_inflation_factor"
   ]
  },
  {
   "cell_type": "code",
   "execution_count": 2,
   "id": "lonely-clothing",
   "metadata": {},
   "outputs": [],
   "source": [
    "toys_data = pd.read_excel(\"Excel files/Toy-sales.xlsx\", \"Sheet1\", index_col=None, na_values=[\"NA\"])"
   ]
  },
  {
   "cell_type": "code",
   "execution_count": 3,
   "id": "announced-sixth",
   "metadata": {},
   "outputs": [
    {
     "data": {
      "text/html": [
       "<div>\n",
       "<style scoped>\n",
       "    .dataframe tbody tr th:only-of-type {\n",
       "        vertical-align: middle;\n",
       "    }\n",
       "\n",
       "    .dataframe tbody tr th {\n",
       "        vertical-align: top;\n",
       "    }\n",
       "\n",
       "    .dataframe thead th {\n",
       "        text-align: right;\n",
       "    }\n",
       "</style>\n",
       "<table border=\"1\" class=\"dataframe\">\n",
       "  <thead>\n",
       "    <tr style=\"text-align: right;\">\n",
       "      <th></th>\n",
       "      <th>Month</th>\n",
       "      <th>Unit Sales</th>\n",
       "      <th>Price ($)</th>\n",
       "      <th>Adexp ('000$)</th>\n",
       "      <th>Promexp ('000$)</th>\n",
       "    </tr>\n",
       "  </thead>\n",
       "  <tbody>\n",
       "    <tr>\n",
       "      <th>0</th>\n",
       "      <td>1</td>\n",
       "      <td>73959</td>\n",
       "      <td>8.75</td>\n",
       "      <td>50.04</td>\n",
       "      <td>61.13</td>\n",
       "    </tr>\n",
       "    <tr>\n",
       "      <th>1</th>\n",
       "      <td>2</td>\n",
       "      <td>71544</td>\n",
       "      <td>8.99</td>\n",
       "      <td>50.74</td>\n",
       "      <td>60.19</td>\n",
       "    </tr>\n",
       "    <tr>\n",
       "      <th>2</th>\n",
       "      <td>3</td>\n",
       "      <td>78587</td>\n",
       "      <td>7.50</td>\n",
       "      <td>50.14</td>\n",
       "      <td>59.16</td>\n",
       "    </tr>\n",
       "    <tr>\n",
       "      <th>3</th>\n",
       "      <td>4</td>\n",
       "      <td>80364</td>\n",
       "      <td>7.25</td>\n",
       "      <td>50.27</td>\n",
       "      <td>60.38</td>\n",
       "    </tr>\n",
       "    <tr>\n",
       "      <th>4</th>\n",
       "      <td>5</td>\n",
       "      <td>78771</td>\n",
       "      <td>7.40</td>\n",
       "      <td>51.25</td>\n",
       "      <td>59.71</td>\n",
       "    </tr>\n",
       "  </tbody>\n",
       "</table>\n",
       "</div>"
      ],
      "text/plain": [
       "   Month  Unit Sales  Price ($)  Adexp ('000$)  Promexp ('000$)\n",
       "0      1       73959       8.75          50.04            61.13\n",
       "1      2       71544       8.99          50.74            60.19\n",
       "2      3       78587       7.50          50.14            59.16\n",
       "3      4       80364       7.25          50.27            60.38\n",
       "4      5       78771       7.40          51.25            59.71"
      ]
     },
     "execution_count": 3,
     "metadata": {},
     "output_type": "execute_result"
    }
   ],
   "source": [
    "toys_data.head()"
   ]
  },
  {
   "cell_type": "code",
   "execution_count": 4,
   "id": "pleased-venezuela",
   "metadata": {},
   "outputs": [
    {
     "name": "stdout",
     "output_type": "stream",
     "text": [
      "Regression via sklearn:\n",
      "Coefficients: [-5055.26986592   648.61214026  1802.61095612] \n",
      "\n",
      "Predicted sales with Price 8.1, AdExp 50, PromExp 60 is: [74542.74554463]\n",
      "R^2: 0.8588446525398427, Intercept: -25096.832921870096\n",
      "\n",
      "______________________________________________________________________________\n",
      "\n",
      "Regression via statsmodels\n",
      "\n",
      "                            OLS Regression Results                            \n",
      "==============================================================================\n",
      "Dep. Variable:             Unit Sales   R-squared:                       0.859\n",
      "Model:                            OLS   Adj. R-squared:                  0.838\n",
      "Method:                 Least Squares   F-statistic:                     40.56\n",
      "Date:                Fri, 16 Apr 2021   Prob (F-statistic):           1.08e-08\n",
      "Time:                        05:38:14   Log-Likelihood:                -203.48\n",
      "No. Observations:                  24   AIC:                             415.0\n",
      "Df Residuals:                      20   BIC:                             419.7\n",
      "Df Model:                           3                                         \n",
      "Covariance Type:            nonrobust                                         \n",
      "===================================================================================\n",
      "                      coef    std err          t      P>|t|      [0.025      0.975]\n",
      "-----------------------------------------------------------------------------------\n",
      "const            -2.51e+04   2.49e+04     -1.010      0.325    -7.7e+04    2.68e+04\n",
      "Price ($)       -5055.2699    526.400     -9.603      0.000   -6153.320   -3957.220\n",
      "Adexp ('000$)     648.6121    209.005      3.103      0.006     212.636    1084.589\n",
      "Promexp ('000$)  1802.6110    392.849      4.589      0.000     983.143    2622.079\n",
      "==============================================================================\n",
      "Omnibus:                        5.443   Durbin-Watson:                   2.047\n",
      "Prob(Omnibus):                  0.066   Jarque-Bera (JB):                3.441\n",
      "Skew:                          -0.834   Prob(JB):                        0.179\n",
      "Kurtosis:                       3.813   Cond. No.                     7.50e+03\n",
      "==============================================================================\n",
      "\n",
      "Notes:\n",
      "[1] Standard Errors assume that the covariance matrix of the errors is correctly specified.\n",
      "[2] The condition number is large, 7.5e+03. This might indicate that there are\n",
      "strong multicollinearity or other numerical problems.\n"
     ]
    }
   ],
   "source": [
    "X = toys_data[[\"Price ($)\", \"Adexp (\\'000$)\", \"Promexp (\\'000$)\"]]\n",
    "Y = toys_data[\"Unit Sales\"]\n",
    "\n",
    "# via sklearn\n",
    "regr = linear_model.LinearRegression()\n",
    "regr.fit(X, Y)  # works the same way\n",
    "print(\"Regression via sklearn:\\nCoefficients:\", regr.coef_, \"\\n\")\n",
    "price, adexp, promexp = 8.1, 50, 60\n",
    "sales_predict = regr.predict([[price, adexp, promexp]])\n",
    "print(f\"Predicted sales with Price {price}, AdExp {adexp}, PromExp {promexp} is: {sales_predict}\")\n",
    "print(f\"R^2: {regr.score(X, Y)}, Intercept: {regr.intercept_}\")\n",
    "print(\"\\n\", \"_\" * 78, \"\\n\\nRegression via statsmodels\\n\", sep=\"\")\n",
    "\n",
    "# via statsmodels\n",
    "X = sm.add_constant(X)\n",
    "model = sm.OLS(Y, X, hasconst=True).fit()\n",
    "print_model = model.summary()  # alpha=0.05 by default\n",
    "print(print_model)"
   ]
  },
  {
   "cell_type": "markdown",
   "id": "supported-morning",
   "metadata": {},
   "source": [
    "$R^2$ here is the proportion of variation in the Y variable explained by the regression model. The closer $R^2$ to 1 the better the fit.\n",
    "\n",
    "**Regression is a process that has errors**\n",
    "* Residuals and Errors\n",
    "* Residuals $= Y^{actual} - Y^{predicted}$\n",
    "* Errors are typically distributed equally above and below the regression line\n",
    "* R-square: A “goodness of fit” measure\n",
    "\n",
    "**Why do we have errors in the regression model?**\n",
    "* Omitted variables\n",
    "* Functional relationship between the Y and X variables\n",
    "* The theory of regression analysis is based on certain assumptions about these errors\n",
    "\n",
    "**NB:** $\\beta_i$ is actually unknown (just like $\\mu$). What we estimate are $b_i$, although analysts quite often mix these notation. $b_i$'s have normal distribution with $\\beta_i$ as their mean. $b_i$'s can be considered as random variables: \n",
    "\n",
    "$$b_i \\sim Normal(\\beta_i, \\text{some std})$$\n",
    "\n",
    "Some important results that enable us to test stability and precision of coefficients and conduct hypothesis testing in a regression:\n",
    "\n",
    "$$ \\frac{b_i - \\beta_i}{s_{b_i}} \\sim t_{n-k-1} $$\n",
    "\n",
    "Where:\n",
    "* $i$ - number of the parameter\n",
    "* $n$ - number of observations\n",
    "* $k$ - number of \"X\" variables\n",
    "* $n-k-1$ - residual degrees of freedom\n",
    "* $s_{b_i}$ - the standard error of $b_i$"
   ]
  },
  {
   "cell_type": "markdown",
   "id": "functional-membership",
   "metadata": {},
   "source": [
    "### Quiz 1"
   ]
  },
  {
   "cell_type": "code",
   "execution_count": 5,
   "id": "settled-european",
   "metadata": {},
   "outputs": [],
   "source": [
    "quiz_data = pd.read_excel(\"Excel files/1. Grocery Store Sales.xlsx\", \"Sheet1\", index_col=None, na_values=[\"NA\"])"
   ]
  },
  {
   "cell_type": "code",
   "execution_count": 6,
   "id": "awful-entrance",
   "metadata": {},
   "outputs": [
    {
     "data": {
      "text/html": [
       "<div>\n",
       "<style scoped>\n",
       "    .dataframe tbody tr th:only-of-type {\n",
       "        vertical-align: middle;\n",
       "    }\n",
       "\n",
       "    .dataframe tbody tr th {\n",
       "        vertical-align: top;\n",
       "    }\n",
       "\n",
       "    .dataframe thead th {\n",
       "        text-align: right;\n",
       "    }\n",
       "</style>\n",
       "<table border=\"1\" class=\"dataframe\">\n",
       "  <thead>\n",
       "    <tr style=\"text-align: right;\">\n",
       "      <th></th>\n",
       "      <th>Store</th>\n",
       "      <th>Sales per Square Foot ($)</th>\n",
       "      <th>Size of Store (in Sq. Ft.)</th>\n",
       "      <th>Advertising Dollars</th>\n",
       "      <th>Number of Products Offered in Store</th>\n",
       "    </tr>\n",
       "  </thead>\n",
       "  <tbody>\n",
       "    <tr>\n",
       "      <th>0</th>\n",
       "      <td>1</td>\n",
       "      <td>837</td>\n",
       "      <td>64796</td>\n",
       "      <td>22000</td>\n",
       "      <td>32920</td>\n",
       "    </tr>\n",
       "    <tr>\n",
       "      <th>1</th>\n",
       "      <td>2</td>\n",
       "      <td>748</td>\n",
       "      <td>74179</td>\n",
       "      <td>58000</td>\n",
       "      <td>25034</td>\n",
       "    </tr>\n",
       "    <tr>\n",
       "      <th>2</th>\n",
       "      <td>3</td>\n",
       "      <td>744</td>\n",
       "      <td>70298</td>\n",
       "      <td>58000</td>\n",
       "      <td>23989</td>\n",
       "    </tr>\n",
       "    <tr>\n",
       "      <th>3</th>\n",
       "      <td>4</td>\n",
       "      <td>853</td>\n",
       "      <td>63367</td>\n",
       "      <td>56000</td>\n",
       "      <td>31095</td>\n",
       "    </tr>\n",
       "    <tr>\n",
       "      <th>4</th>\n",
       "      <td>5</td>\n",
       "      <td>839</td>\n",
       "      <td>74412</td>\n",
       "      <td>67000</td>\n",
       "      <td>35055</td>\n",
       "    </tr>\n",
       "  </tbody>\n",
       "</table>\n",
       "</div>"
      ],
      "text/plain": [
       "   Store  Sales per Square Foot ($)  Size of Store (in Sq. Ft.)  \\\n",
       "0      1                        837                       64796   \n",
       "1      2                        748                       74179   \n",
       "2      3                        744                       70298   \n",
       "3      4                        853                       63367   \n",
       "4      5                        839                       74412   \n",
       "\n",
       "   Advertising Dollars  Number of Products Offered in Store  \n",
       "0                22000                                32920  \n",
       "1                58000                                25034  \n",
       "2                58000                                23989  \n",
       "3                56000                                31095  \n",
       "4                67000                                35055  "
      ]
     },
     "execution_count": 6,
     "metadata": {},
     "output_type": "execute_result"
    }
   ],
   "source": [
    "quiz_data.head()"
   ]
  },
  {
   "cell_type": "markdown",
   "id": "greatest-reader",
   "metadata": {},
   "source": [
    "1.\n",
    "\n",
    "Download Grocery Store Sales, which provides data in the following categories: Sales per Square Foot, Size of Store (in Square Feet), Advertising Dollars (in thousands), and Number of Products Offered in Store, from a sample size of 70 grocery stores.\n",
    "\n",
    "We want to see how changes in our independent variables affect Sales per Square Foot.\n",
    "\n",
    "Please run one multiple regression including all independent variables to estimate the coefficients for each of our independent variables. \n",
    "\n",
    "What is the coefficient for Size of Store? Please round to three decimal places."
   ]
  },
  {
   "cell_type": "code",
   "execution_count": 7,
   "id": "enclosed-pricing",
   "metadata": {},
   "outputs": [
    {
     "name": "stdout",
     "output_type": "stream",
     "text": [
      "                                OLS Regression Results                               \n",
      "=====================================================================================\n",
      "Dep. Variable:     Sales per Square Foot ($)   R-squared:                       0.383\n",
      "Model:                                   OLS   Adj. R-squared:                  0.355\n",
      "Method:                        Least Squares   F-statistic:                     13.65\n",
      "Date:                       Fri, 16 Apr 2021   Prob (F-statistic):           5.00e-07\n",
      "Time:                               05:38:14   Log-Likelihood:                -373.65\n",
      "No. Observations:                         70   AIC:                             755.3\n",
      "Df Residuals:                             66   BIC:                             764.3\n",
      "Df Model:                                  3                                         \n",
      "Covariance Type:                   nonrobust                                         \n",
      "=======================================================================================================\n",
      "                                          coef    std err          t      P>|t|      [0.025      0.975]\n",
      "-------------------------------------------------------------------------------------------------------\n",
      "const                                 978.1349     61.250     15.969      0.000     855.845    1100.425\n",
      "Size of Store (in Sq. Ft.)             -0.0020      0.001     -2.468      0.016      -0.004      -0.000\n",
      "Advertising Dollars                     0.0021      0.000      5.265      0.000       0.001       0.003\n",
      "Number of Products Offered in Store    -0.0037      0.001     -3.123      0.003      -0.006      -0.001\n",
      "==============================================================================\n",
      "Omnibus:                        6.670   Durbin-Watson:                   2.061\n",
      "Prob(Omnibus):                  0.036   Jarque-Bera (JB):                9.396\n",
      "Skew:                          -0.277   Prob(JB):                      0.00911\n",
      "Kurtosis:                       4.707   Cond. No.                     8.55e+05\n",
      "==============================================================================\n",
      "\n",
      "Notes:\n",
      "[1] Standard Errors assume that the covariance matrix of the errors is correctly specified.\n",
      "[2] The condition number is large, 8.55e+05. This might indicate that there are\n",
      "strong multicollinearity or other numerical problems.\n"
     ]
    }
   ],
   "source": [
    "X = quiz_data[[\"Size of Store (in Sq. Ft.)\", \"Advertising Dollars\", \"Number of Products Offered in Store\"]]\n",
    "Y = quiz_data[\"Sales per Square Foot ($)\"]\n",
    "\n",
    "X = sm.add_constant(X)\n",
    "model = sm.OLS(Y, X, hasconst=True).fit()\n",
    "print_model = model.summary()\n",
    "print(print_model)"
   ]
  },
  {
   "cell_type": "markdown",
   "id": "through-electric",
   "metadata": {},
   "source": [
    "5.\n",
    "\n",
    "What would be the expected Sales per Square Foot if the Size of Store was 60,000 square feet, they spent \\\\$70,000 in Advertising Dollars, and offered 30,000 products (in \\$) ? Please round to two decimal places. "
   ]
  },
  {
   "cell_type": "code",
   "execution_count": 8,
   "id": "numerous-arrest",
   "metadata": {
    "scrolled": true
   },
   "outputs": [
    {
     "data": {
      "text/plain": [
       "893.43"
      ]
     },
     "execution_count": 8,
     "metadata": {},
     "output_type": "execute_result"
    }
   ],
   "source": [
    "round(model.predict([1, 60000, 70000, 30000])[0], 2)  # 1 is added constant"
   ]
  },
  {
   "cell_type": "markdown",
   "id": "advance-spirituality",
   "metadata": {},
   "source": [
    "---\n",
    "## Regression Analysis: Hypothesis Testing and Goodness of Fit <a id=\"week-2-rahtagof\"></a>\n",
    "\n",
    "[*Back to the heading*](#heading)"
   ]
  },
  {
   "cell_type": "markdown",
   "id": "million-exploration",
   "metadata": {},
   "source": [
    "The estimate value ($b$) doesn't mean that it equals only to this value. The analyst can use hypothesis testing (in different ways) to confirm their hypothesis to check whether another value can be used instead of the estimate.\n",
    "\n",
    "To test the hypothesis you could use:\n",
    "* The t-cutoff approach: t-statistic ($\\frac{b_i-\\beta_i}{s_{b_i}}$) should lie outside of the rejection region\n",
    "* The p-value approach: the null hypothesis is rejected when $\\text{p-value} < \\alpha$\n",
    "* The confidence interval approach: the easiest one (the most used one as well), the hypothesis value should lie within the confidence interval\n",
    "\n",
    "Let's see the last model from the quiz to look at some other data."
   ]
  },
  {
   "cell_type": "code",
   "execution_count": 9,
   "id": "abroad-bradley",
   "metadata": {
    "scrolled": false
   },
   "outputs": [
    {
     "name": "stdout",
     "output_type": "stream",
     "text": [
      "                                OLS Regression Results                               \n",
      "=====================================================================================\n",
      "Dep. Variable:     Sales per Square Foot ($)   R-squared:                       0.383\n",
      "Model:                                   OLS   Adj. R-squared:                  0.355\n",
      "Method:                        Least Squares   F-statistic:                     13.65\n",
      "Date:                       Fri, 16 Apr 2021   Prob (F-statistic):           5.00e-07\n",
      "Time:                               05:38:14   Log-Likelihood:                -373.65\n",
      "No. Observations:                         70   AIC:                             755.3\n",
      "Df Residuals:                             66   BIC:                             764.3\n",
      "Df Model:                                  3                                         \n",
      "Covariance Type:                   nonrobust                                         \n",
      "=======================================================================================================\n",
      "                                          coef    std err          t      P>|t|      [0.025      0.975]\n",
      "-------------------------------------------------------------------------------------------------------\n",
      "const                                 978.1349     61.250     15.969      0.000     855.845    1100.425\n",
      "Size of Store (in Sq. Ft.)             -0.0020      0.001     -2.468      0.016      -0.004      -0.000\n",
      "Advertising Dollars                     0.0021      0.000      5.265      0.000       0.001       0.003\n",
      "Number of Products Offered in Store    -0.0037      0.001     -3.123      0.003      -0.006      -0.001\n",
      "==============================================================================\n",
      "Omnibus:                        6.670   Durbin-Watson:                   2.061\n",
      "Prob(Omnibus):                  0.036   Jarque-Bera (JB):                9.396\n",
      "Skew:                          -0.277   Prob(JB):                      0.00911\n",
      "Kurtosis:                       4.707   Cond. No.                     8.55e+05\n",
      "==============================================================================\n",
      "\n",
      "Notes:\n",
      "[1] Standard Errors assume that the covariance matrix of the errors is correctly specified.\n",
      "[2] The condition number is large, 8.55e+05. This might indicate that there are\n",
      "strong multicollinearity or other numerical problems.\n"
     ]
    }
   ],
   "source": [
    "print(print_model)"
   ]
  },
  {
   "cell_type": "markdown",
   "id": "metallic-jewelry",
   "metadata": {},
   "source": [
    "Here the p-values of the coefficients mean the p-values of the hypothesis value equal to 0. Thus we can assume that if the p-value of the coefficient is less than $\\alpha$ then this coefficient is meaningful.\n",
    "\n",
    "Another important value here is `R-squared`. It represents the \"goodness\" (or goodness-of-fit) of the regression, which in turn means the proportion of variation in the Y variable explained by the regression model. The closer $R^2$ to 1 the better the fit. $R^2$ only goes up when you add additional X variables (even random variables), but Adjusted R-squared fixes this issue - it goes down when you add unmeaningful variables."
   ]
  },
  {
   "cell_type": "markdown",
   "id": "spare-glossary",
   "metadata": {},
   "source": [
    "Sometimes we have categorical (strings) data in X variables, for example region, profession, eye color, etc. To deal with them we'll need to create so-called dummy variables. Each category has a distinct column with binary (1 or 0) values, in case of using a constant (intercept) you'll need to drop one of those columns. \n",
    "\n",
    "For example you have \"brown eyes\", \"grey eyes\", \"yellow eyes\" as categories. Thus you'll need only two coulmns like \"BE\" (for brown eyes) and \"GE\" (for grey eyes). If both of them are 0 - then the eye color is yellow. See an example of using of the dummy variables in the quiz below."
   ]
  },
  {
   "cell_type": "markdown",
   "id": "welcome-fabric",
   "metadata": {},
   "source": [
    "### Quiz 2"
   ]
  },
  {
   "cell_type": "code",
   "execution_count": 10,
   "id": "answering-primary",
   "metadata": {},
   "outputs": [],
   "source": [
    "quiz_data = pd.read_excel(\"Excel files/2. Final Exam Scores.xlsx\", \"Sheet1\", index_col=None, na_values=[\"NA\"])"
   ]
  },
  {
   "cell_type": "code",
   "execution_count": 11,
   "id": "palestinian-robert",
   "metadata": {},
   "outputs": [
    {
     "data": {
      "text/html": [
       "<div>\n",
       "<style scoped>\n",
       "    .dataframe tbody tr th:only-of-type {\n",
       "        vertical-align: middle;\n",
       "    }\n",
       "\n",
       "    .dataframe tbody tr th {\n",
       "        vertical-align: top;\n",
       "    }\n",
       "\n",
       "    .dataframe thead th {\n",
       "        text-align: right;\n",
       "    }\n",
       "</style>\n",
       "<table border=\"1\" class=\"dataframe\">\n",
       "  <thead>\n",
       "    <tr style=\"text-align: right;\">\n",
       "      <th></th>\n",
       "      <th>Final Exam Score</th>\n",
       "      <th>Attended Review Session</th>\n",
       "      <th>Mid-Term Score</th>\n",
       "      <th>Homework Score</th>\n",
       "    </tr>\n",
       "  </thead>\n",
       "  <tbody>\n",
       "    <tr>\n",
       "      <th>0</th>\n",
       "      <td>75</td>\n",
       "      <td>No</td>\n",
       "      <td>69</td>\n",
       "      <td>96</td>\n",
       "    </tr>\n",
       "    <tr>\n",
       "      <th>1</th>\n",
       "      <td>82</td>\n",
       "      <td>No</td>\n",
       "      <td>87</td>\n",
       "      <td>80</td>\n",
       "    </tr>\n",
       "    <tr>\n",
       "      <th>2</th>\n",
       "      <td>88</td>\n",
       "      <td>Yes</td>\n",
       "      <td>71</td>\n",
       "      <td>99</td>\n",
       "    </tr>\n",
       "    <tr>\n",
       "      <th>3</th>\n",
       "      <td>83</td>\n",
       "      <td>No</td>\n",
       "      <td>66</td>\n",
       "      <td>79</td>\n",
       "    </tr>\n",
       "    <tr>\n",
       "      <th>4</th>\n",
       "      <td>72</td>\n",
       "      <td>Yes</td>\n",
       "      <td>61</td>\n",
       "      <td>70</td>\n",
       "    </tr>\n",
       "  </tbody>\n",
       "</table>\n",
       "</div>"
      ],
      "text/plain": [
       "   Final Exam Score Attended Review Session  Mid-Term Score  Homework Score\n",
       "0                75                      No              69              96\n",
       "1                82                      No              87              80\n",
       "2                88                     Yes              71              99\n",
       "3                83                      No              66              79\n",
       "4                72                     Yes              61              70"
      ]
     },
     "execution_count": 11,
     "metadata": {},
     "output_type": "execute_result"
    }
   ],
   "source": [
    "quiz_data.head()"
   ]
  },
  {
   "cell_type": "markdown",
   "id": "twelve-bridges",
   "metadata": {},
   "source": [
    "1.\n",
    "\n",
    "Please run a multiple regression with 'Final Exam Score' as the dependent variable and the remaining variables as independent variables. Remember, for categorical variable(s), you will need to create dummy or indicator variable(s). \n",
    "\n",
    "Which of the following variables is not statistically significant? Assume an alpha level of .05."
   ]
  },
  {
   "cell_type": "markdown",
   "id": "quantitative-copying",
   "metadata": {},
   "source": [
    ">**Note**: `pd.get_dummies` (returns a dataframe with dummy variables for the category columns without the category columns) has bool `drop_first` parameter."
   ]
  },
  {
   "cell_type": "code",
   "execution_count": 12,
   "id": "skilled-mobility",
   "metadata": {},
   "outputs": [
    {
     "name": "stdout",
     "output_type": "stream",
     "text": [
      "                            OLS Regression Results                            \n",
      "==============================================================================\n",
      "Dep. Variable:       Final Exam Score   R-squared:                       0.363\n",
      "Model:                            OLS   Adj. R-squared:                  0.310\n",
      "Method:                 Least Squares   F-statistic:                     6.850\n",
      "Date:                Fri, 16 Apr 2021   Prob (F-statistic):           0.000907\n",
      "Time:                        05:38:14   Log-Likelihood:                -132.10\n",
      "No. Observations:                  40   AIC:                             272.2\n",
      "Df Residuals:                      36   BIC:                             279.0\n",
      "Df Model:                           3                                         \n",
      "Covariance Type:            nonrobust                                         \n",
      "===============================================================================================\n",
      "                                  coef    std err          t      P>|t|      [0.025      0.975]\n",
      "-----------------------------------------------------------------------------------------------\n",
      "const                          51.5327     13.446      3.832      0.000      24.262      78.803\n",
      "Attended Review Session_Yes     5.8821      2.331      2.523      0.016       1.154      10.610\n",
      "Mid-Term Score                 -0.0113      0.113     -0.100      0.921      -0.241       0.218\n",
      "Homework Score                  0.3556      0.131      2.707      0.010       0.089       0.622\n",
      "==============================================================================\n",
      "Omnibus:                        1.967   Durbin-Watson:                   2.304\n",
      "Prob(Omnibus):                  0.374   Jarque-Bera (JB):                1.860\n",
      "Skew:                          -0.477   Prob(JB):                        0.394\n",
      "Kurtosis:                       2.546   Cond. No.                     1.48e+03\n",
      "==============================================================================\n",
      "\n",
      "Notes:\n",
      "[1] Standard Errors assume that the covariance matrix of the errors is correctly specified.\n",
      "[2] The condition number is large, 1.48e+03. This might indicate that there are\n",
      "strong multicollinearity or other numerical problems.\n"
     ]
    }
   ],
   "source": [
    "X = pd.get_dummies(quiz_data, drop_first=True)[[\"Attended Review Session_Yes\", \"Mid-Term Score\", \"Homework Score\"]]\n",
    "Y = quiz_data[\"Final Exam Score\"]\n",
    "\n",
    "X = sm.add_constant(X)\n",
    "model = sm.OLS(Y, X, hasconst=True).fit()\n",
    "print_model = model.summary()\n",
    "print(print_model)"
   ]
  },
  {
   "cell_type": "markdown",
   "id": "understood-greece",
   "metadata": {},
   "source": [
    "2.\n",
    "\n",
    "If a student received scores of 0 on both the Mid-Term and Homework, and did not attend the Review Session, what would one predict his or her score on the final exam to be? Please round to the nearest whole number. "
   ]
  },
  {
   "cell_type": "code",
   "execution_count": 13,
   "id": "wanted-ranking",
   "metadata": {},
   "outputs": [
    {
     "data": {
      "text/html": [
       "<div>\n",
       "<style scoped>\n",
       "    .dataframe tbody tr th:only-of-type {\n",
       "        vertical-align: middle;\n",
       "    }\n",
       "\n",
       "    .dataframe tbody tr th {\n",
       "        vertical-align: top;\n",
       "    }\n",
       "\n",
       "    .dataframe thead th {\n",
       "        text-align: right;\n",
       "    }\n",
       "</style>\n",
       "<table border=\"1\" class=\"dataframe\">\n",
       "  <thead>\n",
       "    <tr style=\"text-align: right;\">\n",
       "      <th></th>\n",
       "      <th>const</th>\n",
       "      <th>Attended Review Session_Yes</th>\n",
       "      <th>Mid-Term Score</th>\n",
       "      <th>Homework Score</th>\n",
       "    </tr>\n",
       "  </thead>\n",
       "  <tbody>\n",
       "    <tr>\n",
       "      <th>0</th>\n",
       "      <td>1.0</td>\n",
       "      <td>0</td>\n",
       "      <td>69</td>\n",
       "      <td>96</td>\n",
       "    </tr>\n",
       "    <tr>\n",
       "      <th>1</th>\n",
       "      <td>1.0</td>\n",
       "      <td>0</td>\n",
       "      <td>87</td>\n",
       "      <td>80</td>\n",
       "    </tr>\n",
       "    <tr>\n",
       "      <th>2</th>\n",
       "      <td>1.0</td>\n",
       "      <td>1</td>\n",
       "      <td>71</td>\n",
       "      <td>99</td>\n",
       "    </tr>\n",
       "    <tr>\n",
       "      <th>3</th>\n",
       "      <td>1.0</td>\n",
       "      <td>0</td>\n",
       "      <td>66</td>\n",
       "      <td>79</td>\n",
       "    </tr>\n",
       "    <tr>\n",
       "      <th>4</th>\n",
       "      <td>1.0</td>\n",
       "      <td>1</td>\n",
       "      <td>61</td>\n",
       "      <td>70</td>\n",
       "    </tr>\n",
       "  </tbody>\n",
       "</table>\n",
       "</div>"
      ],
      "text/plain": [
       "   const  Attended Review Session_Yes  Mid-Term Score  Homework Score\n",
       "0    1.0                            0              69              96\n",
       "1    1.0                            0              87              80\n",
       "2    1.0                            1              71              99\n",
       "3    1.0                            0              66              79\n",
       "4    1.0                            1              61              70"
      ]
     },
     "execution_count": 13,
     "metadata": {},
     "output_type": "execute_result"
    }
   ],
   "source": [
    "X.head()"
   ]
  },
  {
   "cell_type": "code",
   "execution_count": 14,
   "id": "decent-queen",
   "metadata": {},
   "outputs": [
    {
     "data": {
      "text/plain": [
       "52"
      ]
     },
     "execution_count": 14,
     "metadata": {},
     "output_type": "execute_result"
    }
   ],
   "source": [
    "round(model.predict([1, 0, 0, 0])[0])  # 1 is added constant"
   ]
  },
  {
   "cell_type": "markdown",
   "id": "unavailable-vegetable",
   "metadata": {},
   "source": [
    "3.\n",
    "\n",
    "There is a belief among students that if they attend the Review Session, it will increase their Final Exam Scores by 10 points. You need to evaluate this belief by setting up an appropriate hypothesis test.\n",
    "\n",
    "First, please calculate the t-statistic for this hypothesis test. Please round to two decimal points. "
   ]
  },
  {
   "cell_type": "code",
   "execution_count": 15,
   "id": "recognized-victoria",
   "metadata": {},
   "outputs": [
    {
     "name": "stdout",
     "output_type": "stream",
     "text": [
      "-1.77\n"
     ]
    }
   ],
   "source": [
    "t_statistic = (model.params[\"Attended Review Session_Yes\"] - 10) / model.bse[\"Attended Review Session_Yes\"]\n",
    "print(round(t_statistic, 2))"
   ]
  },
  {
   "cell_type": "markdown",
   "id": "fallen-brick",
   "metadata": {},
   "source": [
    "4.\n",
    "\n",
    "Please calculate the t-cutoff for this hypothesis testing; round the answer to two decimal points. Assume α = .05.\n",
    "\n",
    "What is the absolute value of the t-cutoff?"
   ]
  },
  {
   "cell_type": "code",
   "execution_count": 16,
   "id": "anonymous-volleyball",
   "metadata": {
    "scrolled": true
   },
   "outputs": [
    {
     "name": "stdout",
     "output_type": "stream",
     "text": [
      "2.03\n"
     ]
    }
   ],
   "source": [
    "t_cutoff = abs(t.ppf(0.05/2, model.df_resid))\n",
    "print(round(t_cutoff, 2))"
   ]
  },
  {
   "cell_type": "markdown",
   "id": "liberal-edgar",
   "metadata": {},
   "source": [
    "---\n",
    "## Regression Analysis: ~Dummy Variables,~ Multicollinearity <a id=\"week-2-rahtagof\"></a>\n",
    "\n",
    "[*Back to the heading*](#heading)"
   ]
  },
  {
   "cell_type": "markdown",
   "id": "detailed-export",
   "metadata": {},
   "source": [
    "Let's talk about Multicollinearity."
   ]
  },
  {
   "cell_type": "code",
   "execution_count": 17,
   "id": "convertible-satisfaction",
   "metadata": {},
   "outputs": [],
   "source": [
    "cars_data = pd.read_excel(\"Excel files/Cars.xlsx\", \"Sheet1\", index_col=None, na_values=[\"NA\"])"
   ]
  },
  {
   "cell_type": "code",
   "execution_count": 18,
   "id": "harmful-dance",
   "metadata": {},
   "outputs": [
    {
     "data": {
      "text/html": [
       "<div>\n",
       "<style scoped>\n",
       "    .dataframe tbody tr th:only-of-type {\n",
       "        vertical-align: middle;\n",
       "    }\n",
       "\n",
       "    .dataframe tbody tr th {\n",
       "        vertical-align: top;\n",
       "    }\n",
       "\n",
       "    .dataframe thead th {\n",
       "        text-align: right;\n",
       "    }\n",
       "</style>\n",
       "<table border=\"1\" class=\"dataframe\">\n",
       "  <thead>\n",
       "    <tr style=\"text-align: right;\">\n",
       "      <th></th>\n",
       "      <th>Car_Model</th>\n",
       "      <th>MPG</th>\n",
       "      <th>Displacement</th>\n",
       "      <th>Cylinders</th>\n",
       "    </tr>\n",
       "  </thead>\n",
       "  <tbody>\n",
       "    <tr>\n",
       "      <th>0</th>\n",
       "      <td>1</td>\n",
       "      <td>16.9</td>\n",
       "      <td>350</td>\n",
       "      <td>8</td>\n",
       "    </tr>\n",
       "    <tr>\n",
       "      <th>1</th>\n",
       "      <td>2</td>\n",
       "      <td>15.5</td>\n",
       "      <td>351</td>\n",
       "      <td>8</td>\n",
       "    </tr>\n",
       "    <tr>\n",
       "      <th>2</th>\n",
       "      <td>3</td>\n",
       "      <td>19.2</td>\n",
       "      <td>267</td>\n",
       "      <td>8</td>\n",
       "    </tr>\n",
       "    <tr>\n",
       "      <th>3</th>\n",
       "      <td>4</td>\n",
       "      <td>18.5</td>\n",
       "      <td>360</td>\n",
       "      <td>8</td>\n",
       "    </tr>\n",
       "    <tr>\n",
       "      <th>4</th>\n",
       "      <td>5</td>\n",
       "      <td>30.0</td>\n",
       "      <td>98</td>\n",
       "      <td>4</td>\n",
       "    </tr>\n",
       "  </tbody>\n",
       "</table>\n",
       "</div>"
      ],
      "text/plain": [
       "   Car_Model   MPG  Displacement  Cylinders\n",
       "0          1  16.9           350          8\n",
       "1          2  15.5           351          8\n",
       "2          3  19.2           267          8\n",
       "3          4  18.5           360          8\n",
       "4          5  30.0            98          4"
      ]
     },
     "execution_count": 18,
     "metadata": {},
     "output_type": "execute_result"
    }
   ],
   "source": [
    "cars_data.head()"
   ]
  },
  {
   "cell_type": "markdown",
   "id": "super-richmond",
   "metadata": {},
   "source": [
    "Let's make a linear regression to see the impact of displacement and cylinders on miles per galon of a car."
   ]
  },
  {
   "cell_type": "code",
   "execution_count": 19,
   "id": "vanilla-fellowship",
   "metadata": {},
   "outputs": [
    {
     "name": "stdout",
     "output_type": "stream",
     "text": [
      "                            OLS Regression Results                            \n",
      "==============================================================================\n",
      "Dep. Variable:                    MPG   R-squared:                       0.656\n",
      "Model:                            OLS   Adj. R-squared:                  0.636\n",
      "Method:                 Least Squares   F-statistic:                     33.36\n",
      "Date:                Fri, 16 Apr 2021   Prob (F-statistic):           7.79e-09\n",
      "Time:                        05:38:14   Log-Likelihood:                -104.55\n",
      "No. Observations:                  38   AIC:                             215.1\n",
      "Df Residuals:                      35   BIC:                             220.0\n",
      "Df Model:                           2                                         \n",
      "Covariance Type:            nonrobust                                         \n",
      "================================================================================\n",
      "                   coef    std err          t      P>|t|      [0.025      0.975]\n",
      "--------------------------------------------------------------------------------\n",
      "const           40.6163      3.187     12.744      0.000      34.146      47.087\n",
      "Displacement    -0.0182      0.021     -0.849      0.402      -0.062       0.025\n",
      "Cylinders       -2.3407      1.190     -1.968      0.057      -4.756       0.074\n",
      "==============================================================================\n",
      "Omnibus:                        0.942   Durbin-Watson:                   0.971\n",
      "Prob(Omnibus):                  0.624   Jarque-Bera (JB):                0.948\n",
      "Skew:                          -0.337   Prob(JB):                        0.622\n",
      "Kurtosis:                       2.620   Cond. No.                     1.04e+03\n",
      "==============================================================================\n",
      "\n",
      "Notes:\n",
      "[1] Standard Errors assume that the covariance matrix of the errors is correctly specified.\n",
      "[2] The condition number is large, 1.04e+03. This might indicate that there are\n",
      "strong multicollinearity or other numerical problems.\n"
     ]
    }
   ],
   "source": [
    "X = cars_data[[\"Displacement\", \"Cylinders\"]]\n",
    "Y = cars_data[\"MPG\"]\n",
    "\n",
    "X = sm.add_constant(X)\n",
    "model = sm.OLS(Y, X, hasconst=True).fit()\n",
    "print_model = model.summary()\n",
    "print(print_model)"
   ]
  },
  {
   "cell_type": "markdown",
   "id": "combined-syndicate",
   "metadata": {},
   "source": [
    "Here we can see that the p-values of both X variables are higher than $\\alpha$. But at the same time the R-squared seems just fine. When such situations happen, there's a high chance of **multicollinearity** in your data.\n",
    "\n",
    "Let's check linear regressions with just one X variable."
   ]
  },
  {
   "cell_type": "code",
   "execution_count": 20,
   "id": "toxic-tiffany",
   "metadata": {},
   "outputs": [
    {
     "name": "stdout",
     "output_type": "stream",
     "text": [
      "MPG-Displacement linear regression:\n",
      "\n",
      "                            OLS Regression Results                            \n",
      "==============================================================================\n",
      "Dep. Variable:                    MPG   R-squared:                       0.618\n",
      "Model:                            OLS   Adj. R-squared:                  0.607\n",
      "Method:                 Least Squares   F-statistic:                     58.21\n",
      "Date:                Fri, 16 Apr 2021   Prob (F-statistic):           4.99e-09\n",
      "Time:                        05:38:14   Log-Likelihood:                -106.54\n",
      "No. Observations:                  38   AIC:                             217.1\n",
      "Df Residuals:                      36   BIC:                             220.4\n",
      "Df Model:                           1                                         \n",
      "Covariance Type:            nonrobust                                         \n",
      "================================================================================\n",
      "                   coef    std err          t      P>|t|      [0.025      0.975]\n",
      "--------------------------------------------------------------------------------\n",
      "const           35.0267      1.501     23.332      0.000      31.982      38.071\n",
      "Displacement    -0.0579      0.008     -7.629      0.000      -0.073      -0.043\n",
      "==============================================================================\n",
      "Omnibus:                        1.974   Durbin-Watson:                   0.964\n",
      "Prob(Omnibus):                  0.373   Jarque-Bera (JB):                1.456\n",
      "Skew:                          -0.479   Prob(JB):                        0.483\n",
      "Kurtosis:                       2.980   Cond. No.                         446.\n",
      "==============================================================================\n",
      "\n",
      "Notes:\n",
      "[1] Standard Errors assume that the covariance matrix of the errors is correctly specified.\n",
      "\n",
      "______________________________________________________________________________\n",
      "\n",
      "MPG-Cylinders linear regression:\n",
      "\n",
      "                            OLS Regression Results                            \n",
      "==============================================================================\n",
      "Dep. Variable:                    MPG   R-squared:                       0.649\n",
      "Model:                            OLS   Adj. R-squared:                  0.639\n",
      "Method:                 Least Squares   F-statistic:                     66.52\n",
      "Date:                Fri, 16 Apr 2021   Prob (F-statistic):           1.07e-09\n",
      "Time:                        05:38:14   Log-Likelihood:                -104.93\n",
      "No. Observations:                  38   AIC:                             213.9\n",
      "Df Residuals:                      36   BIC:                             217.1\n",
      "Df Model:                           1                                         \n",
      "Covariance Type:            nonrobust                                         \n",
      "==============================================================================\n",
      "                 coef    std err          t      P>|t|      [0.025      0.975]\n",
      "------------------------------------------------------------------------------\n",
      "const         42.5091      2.268     18.745      0.000      37.910      47.108\n",
      "Cylinders     -3.2900      0.403     -8.156      0.000      -4.108      -2.472\n",
      "==============================================================================\n",
      "Omnibus:                        0.556   Durbin-Watson:                   1.069\n",
      "Prob(Omnibus):                  0.757   Jarque-Bera (JB):                0.677\n",
      "Skew:                          -0.229   Prob(JB):                        0.713\n",
      "Kurtosis:                       2.533   Cond. No.                         20.6\n",
      "==============================================================================\n",
      "\n",
      "Notes:\n",
      "[1] Standard Errors assume that the covariance matrix of the errors is correctly specified.\n"
     ]
    }
   ],
   "source": [
    "print(\"MPG-Displacement linear regression:\\n\")\n",
    "X = cars_data[\"Displacement\"]\n",
    "Y = cars_data[\"MPG\"]\n",
    "\n",
    "X = sm.add_constant(X)\n",
    "model = sm.OLS(Y, X, hasconst=True).fit()\n",
    "print_model = model.summary()\n",
    "print(print_model)\n",
    "print(\"\\n\", \"_\" * 78, \"\\n\", sep=\"\")\n",
    "\n",
    "print(\"MPG-Cylinders linear regression:\\n\")\n",
    "X = cars_data[\"Cylinders\"]\n",
    "Y = cars_data[\"MPG\"]\n",
    "\n",
    "X = sm.add_constant(X)\n",
    "model = sm.OLS(Y, X, hasconst=True).fit()\n",
    "print_model = model.summary()\n",
    "print(print_model)"
   ]
  },
  {
   "cell_type": "markdown",
   "id": "simple-boating",
   "metadata": {},
   "source": [
    "Now both X variables are \"significant\" as their p-values are lower than $\\alpha$. This definetely shows us that there's  multicollinearity problem.\n",
    "\n",
    "**Multicollinearity**\n",
    ">* Occurs when two or more X variables are highly correlated\n",
    ">* Variation in Y cannot be apportioned individually across X variables\n",
    ">* Model fits may be reasonable and prediction may be ok\n",
    ">* Interpretation of individual X variable impact will be suspect\n",
    "\n",
    "Our car model may predict reasonably. However, individual impact of Displacementand Cylinderscannot be discerned.\n",
    "\n",
    "**Detecting Multicollinearity**\n",
    ">* Some software produce collinearity statistics such as VIF (Variance Inflation Factor).\n",
    ">* We can look at correlations across X variables.\n",
    ">* `statsmodel` notes the condition number\n",
    ">* Rule of thumb: if there's correlation >= 0.89 then there's multicollinearity\n",
    ">* Another Rule of thumb: a VIF greater than 10 (some consider 4 or 6) indicates presence of multicollinearity"
   ]
  },
  {
   "cell_type": "code",
   "execution_count": 21,
   "id": "radical-zimbabwe",
   "metadata": {
    "scrolled": true
   },
   "outputs": [
    {
     "data": {
      "text/html": [
       "<div>\n",
       "<style scoped>\n",
       "    .dataframe tbody tr th:only-of-type {\n",
       "        vertical-align: middle;\n",
       "    }\n",
       "\n",
       "    .dataframe tbody tr th {\n",
       "        vertical-align: top;\n",
       "    }\n",
       "\n",
       "    .dataframe thead th {\n",
       "        text-align: right;\n",
       "    }\n",
       "</style>\n",
       "<table border=\"1\" class=\"dataframe\">\n",
       "  <thead>\n",
       "    <tr style=\"text-align: right;\">\n",
       "      <th></th>\n",
       "      <th>Displacement</th>\n",
       "      <th>Cylinders</th>\n",
       "    </tr>\n",
       "  </thead>\n",
       "  <tbody>\n",
       "    <tr>\n",
       "      <th>Displacement</th>\n",
       "      <td>1.000000</td>\n",
       "      <td>0.940281</td>\n",
       "    </tr>\n",
       "    <tr>\n",
       "      <th>Cylinders</th>\n",
       "      <td>0.940281</td>\n",
       "      <td>1.000000</td>\n",
       "    </tr>\n",
       "  </tbody>\n",
       "</table>\n",
       "</div>"
      ],
      "text/plain": [
       "              Displacement  Cylinders\n",
       "Displacement      1.000000   0.940281\n",
       "Cylinders         0.940281   1.000000"
      ]
     },
     "execution_count": 21,
     "metadata": {},
     "output_type": "execute_result"
    }
   ],
   "source": [
    "cars_data[[\"Displacement\", \"Cylinders\"]].corr()"
   ]
  },
  {
   "cell_type": "code",
   "execution_count": 22,
   "id": "powered-limit",
   "metadata": {},
   "outputs": [
    {
     "name": "stdout",
     "output_type": "stream",
     "text": [
      "[8.630267037760873, 8.630267037760873]\n"
     ]
    }
   ],
   "source": [
    "variables = sm.add_constant(cars_data[[\"Displacement\", \"Cylinders\"]]).values\n",
    "vif = [variance_inflation_factor(variables, i) for i in range(variables.shape[1])]\n",
    "print(vif[1:]) # dropped constant column"
   ]
  },
  {
   "cell_type": "markdown",
   "id": "rubber-projector",
   "metadata": {},
   "source": [
    "**Correcting Multicollinearity**\n",
    "* Do you need to correct for collinearity?\n",
    "    + May not be a problem if using regression only to predict\n",
    "    + Collinearity is problematic when interpreting coefficient impacts\n",
    "* To remove multicollinearity you may drop variables causing high correlation"
   ]
  },
  {
   "cell_type": "markdown",
   "id": "stock-companion",
   "metadata": {},
   "source": [
    "## Quiz 3"
   ]
  },
  {
   "cell_type": "code",
   "execution_count": 23,
   "id": "excessive-influence",
   "metadata": {},
   "outputs": [],
   "source": [
    "quiz_data = pd.read_excel(\"Excel files/3. Sales By Territory.xlsx\", \"Sales Revenue\", index_col=None, na_values=[\"NA\"])"
   ]
  },
  {
   "cell_type": "code",
   "execution_count": 24,
   "id": "collaborative-offering",
   "metadata": {},
   "outputs": [
    {
     "data": {
      "text/html": [
       "<div>\n",
       "<style scoped>\n",
       "    .dataframe tbody tr th:only-of-type {\n",
       "        vertical-align: middle;\n",
       "    }\n",
       "\n",
       "    .dataframe tbody tr th {\n",
       "        vertical-align: top;\n",
       "    }\n",
       "\n",
       "    .dataframe thead th {\n",
       "        text-align: right;\n",
       "    }\n",
       "</style>\n",
       "<table border=\"1\" class=\"dataframe\">\n",
       "  <thead>\n",
       "    <tr style=\"text-align: right;\">\n",
       "      <th></th>\n",
       "      <th>Sales Revenue</th>\n",
       "      <th>Territory</th>\n",
       "      <th>Quantity of Orders</th>\n",
       "      <th>Number of Sales Calls</th>\n",
       "    </tr>\n",
       "  </thead>\n",
       "  <tbody>\n",
       "    <tr>\n",
       "      <th>0</th>\n",
       "      <td>21863</td>\n",
       "      <td>East</td>\n",
       "      <td>162</td>\n",
       "      <td>17</td>\n",
       "    </tr>\n",
       "    <tr>\n",
       "      <th>1</th>\n",
       "      <td>53633</td>\n",
       "      <td>East</td>\n",
       "      <td>224</td>\n",
       "      <td>22</td>\n",
       "    </tr>\n",
       "    <tr>\n",
       "      <th>2</th>\n",
       "      <td>35530</td>\n",
       "      <td>South</td>\n",
       "      <td>271</td>\n",
       "      <td>29</td>\n",
       "    </tr>\n",
       "    <tr>\n",
       "      <th>3</th>\n",
       "      <td>23037</td>\n",
       "      <td>West</td>\n",
       "      <td>103</td>\n",
       "      <td>13</td>\n",
       "    </tr>\n",
       "    <tr>\n",
       "      <th>4</th>\n",
       "      <td>48444</td>\n",
       "      <td>North</td>\n",
       "      <td>196</td>\n",
       "      <td>23</td>\n",
       "    </tr>\n",
       "  </tbody>\n",
       "</table>\n",
       "</div>"
      ],
      "text/plain": [
       "   Sales Revenue Territory  Quantity of Orders  Number of Sales Calls\n",
       "0          21863      East                 162                     17\n",
       "1          53633      East                 224                     22\n",
       "2          35530     South                 271                     29\n",
       "3          23037      West                 103                     13\n",
       "4          48444     North                 196                     23"
      ]
     },
     "execution_count": 24,
     "metadata": {},
     "output_type": "execute_result"
    }
   ],
   "source": [
    "quiz_data.head()"
   ]
  },
  {
   "cell_type": "markdown",
   "id": "closing-headline",
   "metadata": {},
   "source": [
    "1.\n",
    "\n",
    "Please run a multiple regression with Sales Revenue as your dependent variable to estimate the coefficients for each of the independent variables; remember, for categorical variables, you will need to create dummy or indicator variables. Please use “West” Territory as your reference variable, and assume an alpha of .05. \n",
    "\n",
    "Which of the following variables are statistically significant according to the p-values?"
   ]
  },
  {
   "cell_type": "code",
   "execution_count": 25,
   "id": "harmful-claim",
   "metadata": {},
   "outputs": [
    {
     "name": "stdout",
     "output_type": "stream",
     "text": [
      "                            OLS Regression Results                            \n",
      "==============================================================================\n",
      "Dep. Variable:          Sales Revenue   R-squared:                       0.630\n",
      "Model:                            OLS   Adj. R-squared:                  0.572\n",
      "Method:                 Least Squares   F-statistic:                     10.89\n",
      "Date:                Fri, 16 Apr 2021   Prob (F-statistic):           3.52e-06\n",
      "Time:                        05:38:14   Log-Likelihood:                -401.53\n",
      "No. Observations:                  38   AIC:                             815.1\n",
      "Df Residuals:                      32   BIC:                             824.9\n",
      "Df Model:                           5                                         \n",
      "Covariance Type:            nonrobust                                         \n",
      "=========================================================================================\n",
      "                            coef    std err          t      P>|t|      [0.025      0.975]\n",
      "-----------------------------------------------------------------------------------------\n",
      "const                 -2815.4976   7724.314     -0.364      0.718   -1.85e+04    1.29e+04\n",
      "Quantity of Orders      115.0258     48.094      2.392      0.023      17.061     212.991\n",
      "Number of Sales Calls  1280.2953    465.388      2.751      0.010     332.332    2228.259\n",
      "Territory_East        -3254.2902   4937.325     -0.659      0.515   -1.33e+04    6802.712\n",
      "Territory_North       -1296.5870   4901.291     -0.265      0.793   -1.13e+04    8687.016\n",
      "Territory_South       -1.224e+04   5123.866     -2.389      0.023   -2.27e+04   -1803.779\n",
      "==============================================================================\n",
      "Omnibus:                        1.119   Durbin-Watson:                   1.951\n",
      "Prob(Omnibus):                  0.571   Jarque-Bera (JB):                1.125\n",
      "Skew:                          -0.316   Prob(JB):                        0.570\n",
      "Kurtosis:                       2.443   Cond. No.                     1.15e+03\n",
      "==============================================================================\n",
      "\n",
      "Notes:\n",
      "[1] Standard Errors assume that the covariance matrix of the errors is correctly specified.\n",
      "[2] The condition number is large, 1.15e+03. This might indicate that there are\n",
      "strong multicollinearity or other numerical problems.\n"
     ]
    }
   ],
   "source": [
    "X = pd.get_dummies(quiz_data).drop([\"Sales Revenue\", \"Territory_West\"], axis=1)\n",
    "Y = quiz_data[\"Sales Revenue\"]\n",
    "\n",
    "X = sm.add_constant(X)\n",
    "model = sm.OLS(Y, X, hasconst=True).fit()\n",
    "print_model = model.summary()\n",
    "print(print_model)"
   ]
  },
  {
   "cell_type": "code",
   "execution_count": 26,
   "id": "limiting-production",
   "metadata": {
    "scrolled": true
   },
   "outputs": [
    {
     "data": {
      "text/plain": [
       "const                    -2815.497554\n",
       "Quantity of Orders         115.025757\n",
       "Number of Sales Calls     1280.295335\n",
       "Territory_East           -3254.290247\n",
       "Territory_North          -1296.587003\n",
       "Territory_South         -12240.753287\n",
       "dtype: float64"
      ]
     },
     "execution_count": 26,
     "metadata": {},
     "output_type": "execute_result"
    }
   ],
   "source": [
    "model.params"
   ]
  },
  {
   "cell_type": "markdown",
   "id": "little-accommodation",
   "metadata": {},
   "source": [
    "5.\n",
    "\n",
    "Please estimate what Sales Revenue would be for a salesperson covering the “South” Territory, making 28 Sales Calls, and taking 200 Orders, rounding the answer to two decimal points. "
   ]
  },
  {
   "cell_type": "code",
   "execution_count": 27,
   "id": "entertaining-disaster",
   "metadata": {},
   "outputs": [
    {
     "data": {
      "text/plain": [
       "43797.17"
      ]
     },
     "execution_count": 27,
     "metadata": {},
     "output_type": "execute_result"
    }
   ],
   "source": [
    "round(model.predict([1, 200, 28, 0, 0, 1])[0], 2)  # 1 is added constant"
   ]
  },
  {
   "cell_type": "markdown",
   "id": "accomplished-reservation",
   "metadata": {},
   "source": [
    "9.\n",
    "\n",
    "Within our regression, we notice that some of our independent variables have statistically insignificant p-values, yet as calculated above, the R-Square for the model is okay. This may imply some multicollinearity. Please calculate the correlation between \"Number of Sales Calls” and \"Quantity of Orders”, rounding to two decimal points."
   ]
  },
  {
   "cell_type": "code",
   "execution_count": 28,
   "id": "miniature-warrior",
   "metadata": {},
   "outputs": [
    {
     "data": {
      "text/html": [
       "<div>\n",
       "<style scoped>\n",
       "    .dataframe tbody tr th:only-of-type {\n",
       "        vertical-align: middle;\n",
       "    }\n",
       "\n",
       "    .dataframe tbody tr th {\n",
       "        vertical-align: top;\n",
       "    }\n",
       "\n",
       "    .dataframe thead th {\n",
       "        text-align: right;\n",
       "    }\n",
       "</style>\n",
       "<table border=\"1\" class=\"dataframe\">\n",
       "  <thead>\n",
       "    <tr style=\"text-align: right;\">\n",
       "      <th></th>\n",
       "      <th>Number of Sales Calls</th>\n",
       "      <th>Quantity of Orders</th>\n",
       "    </tr>\n",
       "  </thead>\n",
       "  <tbody>\n",
       "    <tr>\n",
       "      <th>Number of Sales Calls</th>\n",
       "      <td>1.000000</td>\n",
       "      <td>0.763846</td>\n",
       "    </tr>\n",
       "    <tr>\n",
       "      <th>Quantity of Orders</th>\n",
       "      <td>0.763846</td>\n",
       "      <td>1.000000</td>\n",
       "    </tr>\n",
       "  </tbody>\n",
       "</table>\n",
       "</div>"
      ],
      "text/plain": [
       "                       Number of Sales Calls  Quantity of Orders\n",
       "Number of Sales Calls               1.000000            0.763846\n",
       "Quantity of Orders                  0.763846            1.000000"
      ]
     },
     "execution_count": 28,
     "metadata": {},
     "output_type": "execute_result"
    }
   ],
   "source": [
    "quiz_data[[\"Number of Sales Calls\", \"Quantity of Orders\"]].corr()"
   ]
  }
 ],
 "metadata": {
  "kernelspec": {
   "display_name": "Python 3",
   "language": "python",
   "name": "python3"
  },
  "language_info": {
   "codemirror_mode": {
    "name": "ipython",
    "version": 3
   },
   "file_extension": ".py",
   "mimetype": "text/x-python",
   "name": "python",
   "nbconvert_exporter": "python",
   "pygments_lexer": "ipython3",
   "version": "3.7.6"
  }
 },
 "nbformat": 4,
 "nbformat_minor": 5
}
