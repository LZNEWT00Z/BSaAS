{
 "cells": [
  {
   "cell_type": "markdown",
   "id": "secret-desktop",
   "metadata": {},
   "source": [
    "# Linear Regression for Business Statistics <a id=\"heading\"></a>\n",
    "\n",
    "1. [**Regression Analysis: An Introduction**](#week-1-rai)\n",
    "2. [**Regression Analysis: Hypothesis Testing and Goodness of Fit**](#week-2-rahtagof)\n",
    "3. [**Regression Analysis: Dummy Variables, Multicollinearity**](#week-3-radvm)\n",
    "4. [**Regression Analysis: Various Extensions**](#week-4-rave)\n",
    "---"
   ]
  },
  {
   "cell_type": "markdown",
   "id": "shared-estate",
   "metadata": {},
   "source": [
    "## Regression Analysis: An Introduction <a id=\"week-1-rai\"></a>\n",
    "\n",
    "[*Back to the heading*](#heading)"
   ]
  },
  {
   "cell_type": "markdown",
   "id": "gross-azerbaijan",
   "metadata": {},
   "source": [
    "**What is Linear Regression?**\n",
    "\n",
    "**Linear regression** attempts to fit a linear relation between a variable of interest and a set of variables that may be related to the variable of interest.\n",
    "\n",
    "There are two main types of Linear Regression:\n",
    "\n",
    "* Simple Regression - a regression with only one explanatory or X variable\n",
    "* Multiple Regression - a regression with two or more explanatory or X variables\n",
    "\n",
    "Overview of Regression:\n",
    "\n",
    "1. Modeling - developing a regression model\n",
    "2. Estimation - using software to estimate the model\n",
    "3. Inference - interpreting the estimated regression model\n",
    "4. Prediction - making predictions about the variable of interest\n",
    "\n",
    "---\n",
    "\n",
    "Example:\n",
    "\n",
    "There is a Sales manager of a toys retail company which sells various kinds of toys in the local market. This sales manager needs to make some kind of projections about the number of monthly units that the retail company will be able to sell of this particular toy in the coming half year. In the past she has been making such projections based on her gut feelingand now wishes to be a little more scientific about the whole process.\n",
    "\n",
    "Based on her experience, the manager figures out that the **monthly unit sales** depend on three important variables, the **price** at which the toy is sold, the **monthly amount that the company spends on advertising** the toy and the **monthly amount spent on promotions** for the toy.\n",
    "\n",
    "The final formula would be:\n",
    "\n",
    "$ Sales = \\beta_0 + \\beta_1 Price + \\beta_2 AdExp + \\beta_3 PromExp $\n",
    "\n",
    "Where:\n",
    "\n",
    "* Sales - variable of interest / Y / Dependent / Response / Regressed / L.H.S.\n",
    "* Price, AdExp, PromExp - Explanatory / X / Independent / Covariate / Regressor / R.H.S. variable\n",
    "* $\\beta_x$ - Coefficient Parameters (calculated)"
   ]
  },
  {
   "cell_type": "code",
   "execution_count": 2,
   "id": "finnish-sperm",
   "metadata": {},
   "outputs": [],
   "source": [
    "import pandas as pd\n",
    "import numpy as np\n",
    "from scipy.stats import t\n",
    "from scipy.stats import norm\n",
    "from math import sqrt\n",
    "from math import ceil\n",
    "from sklearn import linear_model\n",
    "import statsmodels.api as sm"
   ]
  },
  {
   "cell_type": "code",
   "execution_count": 3,
   "id": "earned-junction",
   "metadata": {},
   "outputs": [],
   "source": [
    "toys_data = pd.read_excel(\"Excel files/Toy-sales.xlsx\", \"Sheet1\", index_col=None, na_values=[\"NA\"])"
   ]
  },
  {
   "cell_type": "code",
   "execution_count": 5,
   "id": "provincial-transition",
   "metadata": {},
   "outputs": [
    {
     "data": {
      "text/html": [
       "<div>\n",
       "<style scoped>\n",
       "    .dataframe tbody tr th:only-of-type {\n",
       "        vertical-align: middle;\n",
       "    }\n",
       "\n",
       "    .dataframe tbody tr th {\n",
       "        vertical-align: top;\n",
       "    }\n",
       "\n",
       "    .dataframe thead th {\n",
       "        text-align: right;\n",
       "    }\n",
       "</style>\n",
       "<table border=\"1\" class=\"dataframe\">\n",
       "  <thead>\n",
       "    <tr style=\"text-align: right;\">\n",
       "      <th></th>\n",
       "      <th>Month</th>\n",
       "      <th>Unit Sales</th>\n",
       "      <th>Price ($)</th>\n",
       "      <th>Adexp ('000$)</th>\n",
       "      <th>Promexp ('000$)</th>\n",
       "    </tr>\n",
       "  </thead>\n",
       "  <tbody>\n",
       "    <tr>\n",
       "      <th>0</th>\n",
       "      <td>1</td>\n",
       "      <td>73959</td>\n",
       "      <td>8.75</td>\n",
       "      <td>50.04</td>\n",
       "      <td>61.13</td>\n",
       "    </tr>\n",
       "    <tr>\n",
       "      <th>1</th>\n",
       "      <td>2</td>\n",
       "      <td>71544</td>\n",
       "      <td>8.99</td>\n",
       "      <td>50.74</td>\n",
       "      <td>60.19</td>\n",
       "    </tr>\n",
       "    <tr>\n",
       "      <th>2</th>\n",
       "      <td>3</td>\n",
       "      <td>78587</td>\n",
       "      <td>7.50</td>\n",
       "      <td>50.14</td>\n",
       "      <td>59.16</td>\n",
       "    </tr>\n",
       "    <tr>\n",
       "      <th>3</th>\n",
       "      <td>4</td>\n",
       "      <td>80364</td>\n",
       "      <td>7.25</td>\n",
       "      <td>50.27</td>\n",
       "      <td>60.38</td>\n",
       "    </tr>\n",
       "    <tr>\n",
       "      <th>4</th>\n",
       "      <td>5</td>\n",
       "      <td>78771</td>\n",
       "      <td>7.40</td>\n",
       "      <td>51.25</td>\n",
       "      <td>59.71</td>\n",
       "    </tr>\n",
       "  </tbody>\n",
       "</table>\n",
       "</div>"
      ],
      "text/plain": [
       "   Month  Unit Sales  Price ($)  Adexp ('000$)  Promexp ('000$)\n",
       "0      1       73959       8.75          50.04            61.13\n",
       "1      2       71544       8.99          50.74            60.19\n",
       "2      3       78587       7.50          50.14            59.16\n",
       "3      4       80364       7.25          50.27            60.38\n",
       "4      5       78771       7.40          51.25            59.71"
      ]
     },
     "execution_count": 5,
     "metadata": {},
     "output_type": "execute_result"
    }
   ],
   "source": [
    "toys_data.head()"
   ]
  },
  {
   "cell_type": "code",
   "execution_count": 95,
   "id": "careful-congress",
   "metadata": {},
   "outputs": [
    {
     "name": "stdout",
     "output_type": "stream",
     "text": [
      "Regression via sklearn:\n",
      "Coefficients: [-5055.26986592   648.61214026  1802.61095612] \n",
      "\n",
      "Predicted sales with Price 8.1, AdExp 50, PromExp 60 is: [74542.74554463]\n",
      "R^2: 0.8588446525398427, Intercept: -25096.832921870096\n",
      "\n",
      "______________________________________________________________________________\n",
      "\n",
      "Regression via statsmodels\n",
      "\n",
      "                            OLS Regression Results                            \n",
      "==============================================================================\n",
      "Dep. Variable:             Unit Sales   R-squared:                       0.859\n",
      "Model:                            OLS   Adj. R-squared:                  0.838\n",
      "Method:                 Least Squares   F-statistic:                     40.56\n",
      "Date:                Wed, 14 Apr 2021   Prob (F-statistic):           1.08e-08\n",
      "Time:                        02:26:19   Log-Likelihood:                -203.48\n",
      "No. Observations:                  24   AIC:                             415.0\n",
      "Df Residuals:                      20   BIC:                             419.7\n",
      "Df Model:                           3                                         \n",
      "Covariance Type:            nonrobust                                         \n",
      "===================================================================================\n",
      "                      coef    std err          t      P>|t|      [0.025      0.975]\n",
      "-----------------------------------------------------------------------------------\n",
      "const            -2.51e+04   2.49e+04     -1.010      0.325    -7.7e+04    2.68e+04\n",
      "Price ($)       -5055.2699    526.400     -9.603      0.000   -6153.320   -3957.220\n",
      "Adexp ('000$)     648.6121    209.005      3.103      0.006     212.636    1084.589\n",
      "Promexp ('000$)  1802.6110    392.849      4.589      0.000     983.143    2622.079\n",
      "==============================================================================\n",
      "Omnibus:                        5.443   Durbin-Watson:                   2.047\n",
      "Prob(Omnibus):                  0.066   Jarque-Bera (JB):                3.441\n",
      "Skew:                          -0.834   Prob(JB):                        0.179\n",
      "Kurtosis:                       3.813   Cond. No.                     7.50e+03\n",
      "==============================================================================\n",
      "\n",
      "Notes:\n",
      "[1] Standard Errors assume that the covariance matrix of the errors is correctly specified.\n",
      "[2] The condition number is large, 7.5e+03. This might indicate that there are\n",
      "strong multicollinearity or other numerical problems.\n"
     ]
    }
   ],
   "source": [
    "X = toys_data[[\"Price ($)\", \"Adexp (\\'000$)\", \"Promexp (\\'000$)\"]]\n",
    "Y = toys_data[\"Unit Sales\"]\n",
    "\n",
    "# via sklearn\n",
    "regr = linear_model.LinearRegression()\n",
    "regr.fit(X, Y)  # works the same way\n",
    "print(\"Regression via sklearn:\\nCoefficients:\", regr.coef_, \"\\n\")\n",
    "price, adexp, promexp = 8.1, 50, 60\n",
    "sales_predict = regr.predict([[price, adexp, promexp]])\n",
    "print(f\"Predicted sales with Price {price}, AdExp {adexp}, PromExp {promexp} is: {sales_predict}\")\n",
    "print(f\"R^2: {regr.score(X, Y)}, Intercept: {regr.intercept_}\")\n",
    "print(\"\\n\", \"_\" * 78, \"\\n\\nRegression via statsmodels\\n\", sep=\"\")\n",
    "\n",
    "# via statsmodels\n",
    "X = sm.add_constant(X)\n",
    "model = sm.OLS(Y, X, hasconst=True).fit()\n",
    "print_model = model.summary()  # alpha=0.05 by default\n",
    "print(print_model)"
   ]
  },
  {
   "cell_type": "markdown",
   "id": "federal-communications",
   "metadata": {},
   "source": [
    "$R^2$ here is the proportion of variation in the Y variable explained by the regression model. The closer $R^2$ to 1 the better the fit.\n",
    "\n",
    "**Regression is a process that has errors**\n",
    "* Residuals and Errors\n",
    "* Residuals $= Y^{actual} - Y^{predicted}$\n",
    "* Errors are typically distributed equally above and below the regression line\n",
    "* R-square: A “goodness of fit” measure\n",
    "\n",
    "**Why do we have errors in the regression model?**\n",
    "* Omitted variables\n",
    "* Functional relationship between the Y and X variables\n",
    "* The theory of regression analysis is based on certain assumptions about these errors\n",
    "\n",
    "**NB:** $\\beta_i$ is actually unknown (just like $\\mu$). What we estimate are $b_i$, although analysts quite often mix these notation. $b_i$'s have normal distribution with $\\beta_i$ as their mean. $b_i$'s can be considered as random variables: \n",
    "\n",
    "$$b_i \\sim Normal(\\beta_i, \\text{some std})$$\n",
    "\n",
    "Some important results that enable us to test stability and precision of coefficients and conduct hypothesis testing in a regression:\n",
    "\n",
    "$$ \\frac{b_i - \\beta_i}{s_{b_i}} \\sim t_{n-k-1} $$\n",
    "\n",
    "Where:\n",
    "* $i$ - number of the parameter\n",
    "* $n$ - number of observations\n",
    "* $k$ - number of \"X\" variables\n",
    "* $n-k-1$ - residual degrees of freedom\n",
    "* $s_{b_i}$ - the standard error of $b_i$"
   ]
  },
  {
   "cell_type": "markdown",
   "id": "anonymous-andorra",
   "metadata": {},
   "source": [
    "### Quiz 1"
   ]
  },
  {
   "cell_type": "code",
   "execution_count": 60,
   "id": "normal-fellow",
   "metadata": {},
   "outputs": [],
   "source": [
    "quiz_data = pd.read_excel(\"Excel files/1. Grocery Store Sales.xlsx\", \"Sheet1\", index_col=None, na_values=[\"NA\"])"
   ]
  },
  {
   "cell_type": "code",
   "execution_count": 62,
   "id": "liable-london",
   "metadata": {},
   "outputs": [
    {
     "data": {
      "text/html": [
       "<div>\n",
       "<style scoped>\n",
       "    .dataframe tbody tr th:only-of-type {\n",
       "        vertical-align: middle;\n",
       "    }\n",
       "\n",
       "    .dataframe tbody tr th {\n",
       "        vertical-align: top;\n",
       "    }\n",
       "\n",
       "    .dataframe thead th {\n",
       "        text-align: right;\n",
       "    }\n",
       "</style>\n",
       "<table border=\"1\" class=\"dataframe\">\n",
       "  <thead>\n",
       "    <tr style=\"text-align: right;\">\n",
       "      <th></th>\n",
       "      <th>Store</th>\n",
       "      <th>Sales per Square Foot ($)</th>\n",
       "      <th>Size of Store (in Sq. Ft.)</th>\n",
       "      <th>Advertising Dollars</th>\n",
       "      <th>Number of Products Offered in Store</th>\n",
       "    </tr>\n",
       "  </thead>\n",
       "  <tbody>\n",
       "    <tr>\n",
       "      <th>0</th>\n",
       "      <td>1</td>\n",
       "      <td>837</td>\n",
       "      <td>64796</td>\n",
       "      <td>22000</td>\n",
       "      <td>32920</td>\n",
       "    </tr>\n",
       "    <tr>\n",
       "      <th>1</th>\n",
       "      <td>2</td>\n",
       "      <td>748</td>\n",
       "      <td>74179</td>\n",
       "      <td>58000</td>\n",
       "      <td>25034</td>\n",
       "    </tr>\n",
       "    <tr>\n",
       "      <th>2</th>\n",
       "      <td>3</td>\n",
       "      <td>744</td>\n",
       "      <td>70298</td>\n",
       "      <td>58000</td>\n",
       "      <td>23989</td>\n",
       "    </tr>\n",
       "    <tr>\n",
       "      <th>3</th>\n",
       "      <td>4</td>\n",
       "      <td>853</td>\n",
       "      <td>63367</td>\n",
       "      <td>56000</td>\n",
       "      <td>31095</td>\n",
       "    </tr>\n",
       "    <tr>\n",
       "      <th>4</th>\n",
       "      <td>5</td>\n",
       "      <td>839</td>\n",
       "      <td>74412</td>\n",
       "      <td>67000</td>\n",
       "      <td>35055</td>\n",
       "    </tr>\n",
       "  </tbody>\n",
       "</table>\n",
       "</div>"
      ],
      "text/plain": [
       "   Store  Sales per Square Foot ($)  Size of Store (in Sq. Ft.)  \\\n",
       "0      1                        837                       64796   \n",
       "1      2                        748                       74179   \n",
       "2      3                        744                       70298   \n",
       "3      4                        853                       63367   \n",
       "4      5                        839                       74412   \n",
       "\n",
       "   Advertising Dollars  Number of Products Offered in Store  \n",
       "0                22000                                32920  \n",
       "1                58000                                25034  \n",
       "2                58000                                23989  \n",
       "3                56000                                31095  \n",
       "4                67000                                35055  "
      ]
     },
     "execution_count": 62,
     "metadata": {},
     "output_type": "execute_result"
    }
   ],
   "source": [
    "quiz_data.head()"
   ]
  },
  {
   "cell_type": "markdown",
   "id": "dental-miami",
   "metadata": {},
   "source": [
    "1.\n",
    "\n",
    "Download Grocery Store Sales, which provides data in the following categories: Sales per Square Foot, Size of Store (in Square Feet), Advertising Dollars (in thousands), and Number of Products Offered in Store, from a sample size of 70 grocery stores.\n",
    "\n",
    "We want to see how changes in our independent variables affect Sales per Square Foot.\n",
    "\n",
    "Please run one multiple regression including all independent variables to estimate the coefficients for each of our independent variables. \n",
    "\n",
    "What is the coefficient for Size of Store? Please round to three decimal places."
   ]
  },
  {
   "cell_type": "code",
   "execution_count": 67,
   "id": "existing-stamp",
   "metadata": {},
   "outputs": [
    {
     "name": "stdout",
     "output_type": "stream",
     "text": [
      "Regression via sklearn:\n",
      "Coefficients: [-0.00203405  0.00211828 -0.00369796] \n",
      "\n",
      "R^2: 0.3829461983505511, Intercept: 978.1349066228497\n",
      "\n",
      "---\n",
      "Regression via statsmodels\n",
      "                                OLS Regression Results                               \n",
      "=====================================================================================\n",
      "Dep. Variable:     Sales per Square Foot ($)   R-squared:                       0.383\n",
      "Model:                                   OLS   Adj. R-squared:                  0.355\n",
      "Method:                        Least Squares   F-statistic:                     13.65\n",
      "Date:                       Tue, 13 Apr 2021   Prob (F-statistic):           5.00e-07\n",
      "Time:                               22:13:10   Log-Likelihood:                -373.65\n",
      "No. Observations:                         70   AIC:                             755.3\n",
      "Df Residuals:                             66   BIC:                             764.3\n",
      "Df Model:                                  3                                         \n",
      "Covariance Type:                   nonrobust                                         \n",
      "=======================================================================================================\n",
      "                                          coef    std err          t      P>|t|      [0.025      0.975]\n",
      "-------------------------------------------------------------------------------------------------------\n",
      "const                                 978.1349     61.250     15.969      0.000     855.845    1100.425\n",
      "Size of Store (in Sq. Ft.)             -0.0020      0.001     -2.468      0.016      -0.004      -0.000\n",
      "Advertising Dollars                     0.0021      0.000      5.265      0.000       0.001       0.003\n",
      "Number of Products Offered in Store    -0.0037      0.001     -3.123      0.003      -0.006      -0.001\n",
      "==============================================================================\n",
      "Omnibus:                        6.670   Durbin-Watson:                   2.061\n",
      "Prob(Omnibus):                  0.036   Jarque-Bera (JB):                9.396\n",
      "Skew:                          -0.277   Prob(JB):                      0.00911\n",
      "Kurtosis:                       4.707   Cond. No.                     8.55e+05\n",
      "==============================================================================\n",
      "\n",
      "Notes:\n",
      "[1] Standard Errors assume that the covariance matrix of the errors is correctly specified.\n",
      "[2] The condition number is large, 8.55e+05. This might indicate that there are\n",
      "strong multicollinearity or other numerical problems.\n"
     ]
    }
   ],
   "source": [
    "X = quiz_data[[\"Size of Store (in Sq. Ft.)\", \"Advertising Dollars\", \"Number of Products Offered in Store\"]]\n",
    "Y = quiz_data[\"Sales per Square Foot ($)\"]\n",
    "\n",
    "X = sm.add_constant(X)\n",
    "model = sm.OLS(Y, X, hasconst=True).fit()\n",
    "print_model = model.summary()\n",
    "print(print_model)"
   ]
  },
  {
   "cell_type": "markdown",
   "id": "fitted-detector",
   "metadata": {},
   "source": [
    "5.\n",
    "\n",
    "What would be the expected Sales per Square Foot if the Size of Store was 60,000 square feet, they spent \\\\$70,000 in Advertising Dollars, and offered 30,000 products (in \\$) ? Please round to two decimal places. "
   ]
  },
  {
   "cell_type": "code",
   "execution_count": 85,
   "id": "tender-thanksgiving",
   "metadata": {
    "scrolled": true
   },
   "outputs": [
    {
     "data": {
      "text/plain": [
       "893.43"
      ]
     },
     "execution_count": 85,
     "metadata": {},
     "output_type": "execute_result"
    }
   ],
   "source": [
    "round(model.predict([1, 60000, 70000, 30000])[0], 2)  # 1 is added constant"
   ]
  }
 ],
 "metadata": {
  "kernelspec": {
   "display_name": "Python 3",
   "language": "python",
   "name": "python3"
  },
  "language_info": {
   "codemirror_mode": {
    "name": "ipython",
    "version": 3
   },
   "file_extension": ".py",
   "mimetype": "text/x-python",
   "name": "python",
   "nbconvert_exporter": "python",
   "pygments_lexer": "ipython3",
   "version": "3.7.6"
  }
 },
 "nbformat": 4,
 "nbformat_minor": 5
}
