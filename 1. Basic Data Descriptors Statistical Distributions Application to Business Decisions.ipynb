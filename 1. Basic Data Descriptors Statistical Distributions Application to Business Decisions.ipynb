{
 "cells": [
  {
   "cell_type": "markdown",
   "metadata": {},
   "source": [
    "# Basic Data Descriptors, Statistical Distributions, and Application to Business Decisions\n",
    "\n",
    "1. [**Basic Data Descriptors**](#week-1-bdd)\n",
    "2. [**Descriptive Measures of Association, Probability, and Statistical Distributions**](#week-2-dps)\n",
    "3. [**The Normal Distribution**](#week-3-tnd)\n",
    "4. [**Working with Distributions (Normal, Binomial, Poisson), Population and Sample Data**](#week-4-wwd)\n",
    "---"
   ]
  },
  {
   "cell_type": "markdown",
   "metadata": {},
   "source": [
    "## Basic Data Descriptors <a id=\"week-1-bdd\"></a>\n",
    "---\n",
    "Including [mean](#mean), [median](#median), [mode](#mode), [standard deviation](#standard-deviation), [variance](#variance), [rull of thumb](#rule-of-thumb) and the [Cheybyshev's theorem](#cheybyshevs-theorem). And also range.\n",
    "\n",
    "But first, let's import the data for this lesson.\n",
    "\n",
    "Also, here are the links to the [quiz](#quiz-1-1) of this part and to the fancy [box plot](#box-plot)! And also to the fancy [histogram](#histogram)."
   ]
  },
  {
   "cell_type": "code",
   "execution_count": 1,
   "metadata": {},
   "outputs": [],
   "source": [
    "import numpy as np\n",
    "import pandas as pd"
   ]
  },
  {
   "cell_type": "code",
   "execution_count": 2,
   "metadata": {},
   "outputs": [],
   "source": [
    "quiz_data = pd.read_excel(\"Excel files/1. Basic Data Descriptors.xlsx\", \"Raw Quiz\", index_col=None, na_values=[\"NA\"])"
   ]
  },
  {
   "cell_type": "code",
   "execution_count": 3,
   "metadata": {},
   "outputs": [
    {
     "data": {
      "text/html": [
       "<div>\n",
       "<style scoped>\n",
       "    .dataframe tbody tr th:only-of-type {\n",
       "        vertical-align: middle;\n",
       "    }\n",
       "\n",
       "    .dataframe tbody tr th {\n",
       "        vertical-align: top;\n",
       "    }\n",
       "\n",
       "    .dataframe thead th {\n",
       "        text-align: right;\n",
       "    }\n",
       "</style>\n",
       "<table border=\"1\" class=\"dataframe\">\n",
       "  <thead>\n",
       "    <tr style=\"text-align: right;\">\n",
       "      <th></th>\n",
       "      <th>Order</th>\n",
       "      <th>Region</th>\n",
       "      <th>Age</th>\n",
       "      <th>Total Sale $</th>\n",
       "    </tr>\n",
       "  </thead>\n",
       "  <tbody>\n",
       "    <tr>\n",
       "      <th>0</th>\n",
       "      <td>1000319</td>\n",
       "      <td>South</td>\n",
       "      <td>39</td>\n",
       "      <td>543.95</td>\n",
       "    </tr>\n",
       "    <tr>\n",
       "      <th>1</th>\n",
       "      <td>1002323</td>\n",
       "      <td>South</td>\n",
       "      <td>31</td>\n",
       "      <td>253.78</td>\n",
       "    </tr>\n",
       "    <tr>\n",
       "      <th>2</th>\n",
       "      <td>1005101</td>\n",
       "      <td>West</td>\n",
       "      <td>35</td>\n",
       "      <td>556.82</td>\n",
       "    </tr>\n",
       "    <tr>\n",
       "      <th>3</th>\n",
       "      <td>1008529</td>\n",
       "      <td>East</td>\n",
       "      <td>41</td>\n",
       "      <td>430.50</td>\n",
       "    </tr>\n",
       "    <tr>\n",
       "      <th>4</th>\n",
       "      <td>1008768</td>\n",
       "      <td>East</td>\n",
       "      <td>29</td>\n",
       "      <td>552.30</td>\n",
       "    </tr>\n",
       "  </tbody>\n",
       "</table>\n",
       "</div>"
      ],
      "text/plain": [
       "     Order Region  Age  Total Sale $\n",
       "0  1000319  South   39        543.95\n",
       "1  1002323  South   31        253.78\n",
       "2  1005101   West   35        556.82\n",
       "3  1008529   East   41        430.50\n",
       "4  1008768   East   29        552.30"
      ]
     },
     "execution_count": 3,
     "metadata": {},
     "output_type": "execute_result"
    }
   ],
   "source": [
    "quiz_data.head()"
   ]
  },
  {
   "cell_type": "markdown",
   "metadata": {},
   "source": [
    "---"
   ]
  },
  {
   "cell_type": "markdown",
   "metadata": {},
   "source": [
    "### Mean <a id=\"mean\"></a>\n",
    "\n",
    "Good when there are no \"extreme\" values (extremely large or small)"
   ]
  },
  {
   "cell_type": "code",
   "execution_count": 4,
   "metadata": {},
   "outputs": [
    {
     "data": {
      "text/plain": [
       "476.6905866666666"
      ]
     },
     "execution_count": 4,
     "metadata": {},
     "output_type": "execute_result"
    }
   ],
   "source": [
    "quiz_data[\"Total Sale $\"].mean()"
   ]
  },
  {
   "cell_type": "markdown",
   "metadata": {},
   "source": [
    "### Median <a id=\"median\"></a>\n",
    "\n",
    "50% of data is larger than the median, 50% is less"
   ]
  },
  {
   "cell_type": "code",
   "execution_count": 5,
   "metadata": {},
   "outputs": [
    {
     "data": {
      "text/plain": [
       "479.505"
      ]
     },
     "execution_count": 5,
     "metadata": {},
     "output_type": "execute_result"
    }
   ],
   "source": [
    "quiz_data[\"Total Sale $\"].median()"
   ]
  },
  {
   "cell_type": "markdown",
   "metadata": {},
   "source": [
    "### Mode <a id=\"mode\"></a>\n",
    "\n",
    "The most frequent occuring value"
   ]
  },
  {
   "cell_type": "markdown",
   "metadata": {},
   "source": [
    ">[pandas.Series.mode](https://pandas.pydata.org/docs/reference/api/pandas.Series.mode.html) method always returns sorted Series of the most often values (even if there's only one)"
   ]
  },
  {
   "cell_type": "code",
   "execution_count": 6,
   "metadata": {},
   "outputs": [
    {
     "data": {
      "text/plain": [
       "372.05"
      ]
     },
     "execution_count": 6,
     "metadata": {},
     "output_type": "execute_result"
    }
   ],
   "source": [
    "quiz_data[\"Total Sale $\"].mode()[0] # indexing to get the most often value"
   ]
  },
  {
   "cell_type": "markdown",
   "metadata": {},
   "source": [
    "### Range\n",
    "Just a distance between the minimum and the maximum values."
   ]
  },
  {
   "cell_type": "code",
   "execution_count": 7,
   "metadata": {},
   "outputs": [
    {
     "data": {
      "text/plain": [
       "938.0899999999999"
      ]
     },
     "execution_count": 7,
     "metadata": {},
     "output_type": "execute_result"
    }
   ],
   "source": [
    "quiz_data[\"Total Sale $\"].max() - quiz_data[\"Total Sale $\"].min()"
   ]
  },
  {
   "cell_type": "markdown",
   "metadata": {},
   "source": [
    "### Standard Deviation<a id=\"standard-deviation\"></a>\n",
    "The most frequent occuring value\n",
    "\n",
    "$ \\sqrt{ \\frac{1}{n-1} \\sum_{i=1}^{n} (difference_i)^2} $"
   ]
  },
  {
   "cell_type": "markdown",
   "metadata": {},
   "source": [
    ">[pandas.Series.std](https://pandas.pydata.org/docs/reference/api/pandas.Series.std.html) normalized by n-1 (works for sample)"
   ]
  },
  {
   "cell_type": "code",
   "execution_count": 8,
   "metadata": {},
   "outputs": [
    {
     "data": {
      "text/plain": [
       "120.2674590181762"
      ]
     },
     "execution_count": 8,
     "metadata": {},
     "output_type": "execute_result"
    }
   ],
   "source": [
    "quiz_data[\"Total Sale $\"].std()"
   ]
  },
  {
   "cell_type": "markdown",
   "metadata": {},
   "source": [
    "### Variance<a id=\"variance\"></a>\n",
    "Measures how far a set of numbers is spread out from their average value\n",
    "> Squared standard deviation"
   ]
  },
  {
   "cell_type": "code",
   "execution_count": 9,
   "metadata": {},
   "outputs": [
    {
     "data": {
      "text/plain": [
       "14464.261698688691"
      ]
     },
     "execution_count": 9,
     "metadata": {},
     "output_type": "execute_result"
    }
   ],
   "source": [
    "quiz_data[\"Total Sale $\"].var()"
   ]
  },
  {
   "cell_type": "code",
   "execution_count": 10,
   "metadata": {},
   "outputs": [
    {
     "data": {
      "text/plain": [
       "14464.261698688691"
      ]
     },
     "execution_count": 10,
     "metadata": {},
     "output_type": "execute_result"
    }
   ],
   "source": [
    "120.2674590181762*120.2674590181762"
   ]
  },
  {
   "cell_type": "markdown",
   "metadata": {},
   "source": [
    "### Rule of thumb<a id=\"rule-of-thumb\"></a>\n",
    "68% lies within 1 SD from the mean, 95% lies within 2 Standard Deviations\n",
    ">Based on asumtion that data is bell shaped (normal distribution)"
   ]
  },
  {
   "cell_type": "markdown",
   "metadata": {},
   "source": [
    "### Chebyshev's Theorem<a id=\"chebyshevs-theorem\"></a>\n",
    "At least $(1 - (1/k^2))$ of data lies within **k** SD from the mean\n",
    ">At least 75% of data lies within 2 SD from the mean, regardless from the data distribution"
   ]
  },
  {
   "cell_type": "markdown",
   "metadata": {},
   "source": [
    "To sum up: descriptive statistics include **measures of central tendency** (mean, median, mode) and **measures of dispersion** (range, interquartile range, standard deviation and variance."
   ]
  },
  {
   "cell_type": "markdown",
   "metadata": {},
   "source": [
    "### Box plot<a id=\"box-plot\"></a>\n",
    "\n",
    "A cool plot - you can see median, mean, range and interquartile range on this plot."
   ]
  },
  {
   "cell_type": "code",
   "execution_count": 11,
   "metadata": {},
   "outputs": [
    {
     "data": {
      "text/plain": [
       "<matplotlib.axes._subplots.AxesSubplot at 0x1f0506b4088>"
      ]
     },
     "execution_count": 11,
     "metadata": {},
     "output_type": "execute_result"
    },
    {
     "data": {
      "image/png": "[encoded data removed]",
      "text/plain": [
       "<Figure size 432x288 with 1 Axes>"
      ]
     },
     "metadata": {
      "needs_background": "light"
     },
     "output_type": "display_data"
    }
   ],
   "source": [
    "quiz_data.boxplot(column=\"Total Sale $\", showmeans=True)"
   ]
  },
  {
   "cell_type": "markdown",
   "metadata": {},
   "source": [
    "### Quiz 1 <a id=\"quiz-1-1\"></a>"
   ]
  },
  {
   "cell_type": "code",
   "execution_count": 12,
   "metadata": {},
   "outputs": [
    {
     "name": "stdout",
     "output_type": "stream",
     "text": [
      "Total number of orders: 3000\n",
      "Difference between the median and the mean of total sale: 2.814413333333391\n",
      "Total sale standard deviation: 120.2674590181762\n",
      "Percentage of orders fell within the interquartile range of Total Sale: 50%\n",
      "The average total sales from the North region only: 478.1339516129029\n",
      "Difference between the North region average total sales and the average total sales:  1.44\n",
      "Difference between the North region median total sales and all orders median total sales: 0.58\n",
      "The average total sales for the age group with the highest average 494.62253999999956\n",
      "The median total sales of the age group with the highest average Total Sales 479.265\n"
     ]
    }
   ],
   "source": [
    "# Total number of orders\n",
    "print(\"Total number of orders:\", \n",
    "    len(quiz_data)\n",
    "    )\n",
    "\n",
    "# Difference between the median and the mean of total sale\n",
    "average_total_sale = quiz_data[\"Total Sale $\"].mean()\n",
    "total_sale_median = quiz_data[\"Total Sale $\"].median()\n",
    "print(\"Difference between the median and the mean of total sale:\", \n",
    "    abs(total_sale_median - average_total_sale)\n",
    "    )\n",
    "\n",
    "# Total sale standard deviation\n",
    "print(\"Total sale standard deviation:\", \n",
    "    quiz_data[\"Total Sale $\"].std()\n",
    "    )\n",
    "\n",
    "# What percentage of orders fell within the interquartile range of Total Sale?\n",
    "print(\"Percentage of orders fell within the interquartile range of Total Sale:\",\n",
    "    \"50%\" # IQR is a range of values between the 1st and the 3rd quartiles\n",
    "    )\n",
    "\n",
    "\"\"\" \n",
    "  Given the limited information you have, your boss wants you to group customers in a meaningful way. \n",
    "  You decide to take a look at how the order region impacts things. \n",
    "\"\"\"\n",
    "\n",
    "# Calculate the average total sales from the North region only. \n",
    "north_average_total_sale = quiz_data[quiz_data[\"Region\"] == \"North\"][\"Total Sale $\"].mean()\n",
    "print(\"The average total sales from the North region only:\", north_average_total_sale)\n",
    "\n",
    "\"\"\"\n",
    "  What is the difference between the North region average total sales and the average total sales across all regions \n",
    "  (including the North)? Round to 2 decimal places. \n",
    "\"\"\"\n",
    "print(\"Difference between the North region average total sales and the average total sales: \", \n",
    "    round(abs(north_average_total_sale - average_total_sale), 2)\n",
    "    )\n",
    "\n",
    "\"\"\"\n",
    "  What is the absolute value of difference between the North region median total sales and \n",
    "  all orders median total sales (across all regions including the North)?\n",
    "\"\"\"\n",
    "north_total_sale_median = quiz_data[quiz_data[\"Region\"] == \"North\"][\"Total Sale $\"].median()\n",
    "print(\"Difference between the North region median total sales and all orders median total sales:\",\n",
    "    round(abs(north_total_sale_median - total_sale_median), 2)\n",
    "    )\n",
    "\n",
    "\"\"\"\n",
    "  Take a look at customer age. Create 3 age groups: 21-30, 31-40, 41-50. What is the average total sales\n",
    "  for the age group with the highest average?\n",
    "\"\"\"\n",
    "quiz_data.loc[(quiz_data[\"Age\"] >= 21) & (quiz_data[\"Age\"] <= 30), \"Age group\"] = \"21-30\"\n",
    "quiz_data.loc[(quiz_data[\"Age\"] >= 31) & (quiz_data[\"Age\"] <= 40), \"Age group\"] = \"31-40\"\n",
    "quiz_data.loc[(quiz_data[\"Age\"] >= 41) & (quiz_data[\"Age\"] <= 50), \"Age group\"] = \"41-50\"\n",
    "age_groupby_quiz_data = quiz_data.groupby(\"Age group\")\n",
    "highest_age_group_average = age_groupby_quiz_data.mean()[\"Total Sale $\"].max()\n",
    "print(\"The average total sales for the age group with the highest average\",\n",
    "    highest_age_group_average\n",
    "    )\n",
    "\n",
    "# What is the median total sales of the age group with the highest average Total Sales?\n",
    "print(\"The median total sales of the age group with the highest average Total Sales\",\n",
    "    age_groupby_quiz_data.median()[\"Total Sale $\"]\n",
    "      [age_groupby_quiz_data.mean()[\"Total Sale $\"] == highest_age_group_average].max()\n",
    "    )"
   ]
  },
  {
   "cell_type": "markdown",
   "metadata": {},
   "source": [
    "And here's a fancy histogram: <a id=\"histogram\"></a>"
   ]
  },
  {
   "cell_type": "code",
   "execution_count": 13,
   "metadata": {},
   "outputs": [
    {
     "data": {
      "text/plain": [
       "<matplotlib.axes._subplots.AxesSubplot at 0x1f050d44188>"
      ]
     },
     "execution_count": 13,
     "metadata": {},
     "output_type": "execute_result"
    },
    {
     "data": {
      "image/png": "[encoded data removed]",
      "text/plain": [
       "<Figure size 432x288 with 1 Axes>"
      ]
     },
     "metadata": {
      "needs_background": "light"
     },
     "output_type": "display_data"
    }
   ],
   "source": [
    "quiz_data[\"Total Sale $\"].hist(bins=len(quiz_data)//100)"
   ]
  },
  {
   "cell_type": "markdown",
   "metadata": {},
   "source": []
  },
  {
   "cell_type": "markdown",
   "metadata": {},
   "source": [
    "---\n",
    "## Descriptive Measures of Association, Probability, and Statistical Distributions <a id=\"week-2-dps\"></a>"
   ]
  },
  {
   "cell_type": "code",
   "execution_count": 14,
   "metadata": {},
   "outputs": [],
   "source": [
    "quiz_data = pd.read_excel(\"Excel files/2. Descriptive Measures of Association, Probability and Statistical Distributions.xlsx\", \n",
    "                       \"Raw Quiz\", index_col=None, na_values=[\"NA\"])"
   ]
  },
  {
   "cell_type": "code",
   "execution_count": 15,
   "metadata": {},
   "outputs": [
    {
     "data": {
      "text/html": [
       "<div>\n",
       "<style scoped>\n",
       "    .dataframe tbody tr th:only-of-type {\n",
       "        vertical-align: middle;\n",
       "    }\n",
       "\n",
       "    .dataframe tbody tr th {\n",
       "        vertical-align: top;\n",
       "    }\n",
       "\n",
       "    .dataframe thead th {\n",
       "        text-align: right;\n",
       "    }\n",
       "</style>\n",
       "<table border=\"1\" class=\"dataframe\">\n",
       "  <thead>\n",
       "    <tr style=\"text-align: right;\">\n",
       "      <th></th>\n",
       "      <th>Dataset A</th>\n",
       "      <th>Dataset B</th>\n",
       "      <th>Dataset C</th>\n",
       "    </tr>\n",
       "  </thead>\n",
       "  <tbody>\n",
       "    <tr>\n",
       "      <th>0</th>\n",
       "      <td>962.901899</td>\n",
       "      <td>1711.576717</td>\n",
       "      <td>25.806023</td>\n",
       "    </tr>\n",
       "    <tr>\n",
       "      <th>1</th>\n",
       "      <td>542.172459</td>\n",
       "      <td>748.046625</td>\n",
       "      <td>195.736806</td>\n",
       "    </tr>\n",
       "    <tr>\n",
       "      <th>2</th>\n",
       "      <td>442.844917</td>\n",
       "      <td>399.014818</td>\n",
       "      <td>5.436013</td>\n",
       "    </tr>\n",
       "    <tr>\n",
       "      <th>3</th>\n",
       "      <td>736.420630</td>\n",
       "      <td>418.212011</td>\n",
       "      <td>29.536340</td>\n",
       "    </tr>\n",
       "    <tr>\n",
       "      <th>4</th>\n",
       "      <td>347.759818</td>\n",
       "      <td>184.606429</td>\n",
       "      <td>10.609514</td>\n",
       "    </tr>\n",
       "  </tbody>\n",
       "</table>\n",
       "</div>"
      ],
      "text/plain": [
       "    Dataset A    Dataset B   Dataset C\n",
       "0  962.901899  1711.576717   25.806023\n",
       "1  542.172459   748.046625  195.736806\n",
       "2  442.844917   399.014818    5.436013\n",
       "3  736.420630   418.212011   29.536340\n",
       "4  347.759818   184.606429   10.609514"
      ]
     },
     "execution_count": 15,
     "metadata": {},
     "output_type": "execute_result"
    }
   ],
   "source": [
    "quiz_data.head()"
   ]
  },
  {
   "cell_type": "markdown",
   "metadata": {},
   "source": [
    "Measures of association include [**covariance**](#covariance) and [**correlation**](#correlation) (the most popular ones, probably)."
   ]
  },
  {
   "cell_type": "markdown",
   "metadata": {},
   "source": [
    "### Covariance <a id=\"covariance\"></a>\n",
    "One of the measures of association\n",
    "\n",
    "$\\frac{1}{n-1} \\sum_{i}^{n}( X_i - \\bar{X})( Y_i - \\bar{Y}) $"
   ]
  },
  {
   "cell_type": "code",
   "execution_count": 16,
   "metadata": {},
   "outputs": [
    {
     "data": {
      "text/html": [
       "<div>\n",
       "<style scoped>\n",
       "    .dataframe tbody tr th:only-of-type {\n",
       "        vertical-align: middle;\n",
       "    }\n",
       "\n",
       "    .dataframe tbody tr th {\n",
       "        vertical-align: top;\n",
       "    }\n",
       "\n",
       "    .dataframe thead th {\n",
       "        text-align: right;\n",
       "    }\n",
       "</style>\n",
       "<table border=\"1\" class=\"dataframe\">\n",
       "  <thead>\n",
       "    <tr style=\"text-align: right;\">\n",
       "      <th></th>\n",
       "      <th>Dataset A</th>\n",
       "      <th>Dataset B</th>\n",
       "      <th>Dataset C</th>\n",
       "    </tr>\n",
       "  </thead>\n",
       "  <tbody>\n",
       "    <tr>\n",
       "      <th>Dataset A</th>\n",
       "      <td>79391.945295</td>\n",
       "      <td>81420.522426</td>\n",
       "      <td>1.208582e+05</td>\n",
       "    </tr>\n",
       "    <tr>\n",
       "      <th>Dataset B</th>\n",
       "      <td>81420.522426</td>\n",
       "      <td>268481.454151</td>\n",
       "      <td>1.151984e+05</td>\n",
       "    </tr>\n",
       "    <tr>\n",
       "      <th>Dataset C</th>\n",
       "      <td>120858.163445</td>\n",
       "      <td>115198.394891</td>\n",
       "      <td>8.789164e+07</td>\n",
       "    </tr>\n",
       "  </tbody>\n",
       "</table>\n",
       "</div>"
      ],
      "text/plain": [
       "               Dataset A      Dataset B     Dataset C\n",
       "Dataset A   79391.945295   81420.522426  1.208582e+05\n",
       "Dataset B   81420.522426  268481.454151  1.151984e+05\n",
       "Dataset C  120858.163445  115198.394891  8.789164e+07"
      ]
     },
     "execution_count": 16,
     "metadata": {},
     "output_type": "execute_result"
    }
   ],
   "source": [
    "quiz_data.cov()"
   ]
  },
  {
   "cell_type": "markdown",
   "metadata": {},
   "source": [
    ">The covariance measure is susceptible to the unit of measurement, we can arbitrarily inflate or deflate the covariance by choice of units. That's when the correlation comes in handy. Covariance ranges from $ - \\infty $ to $ \\infty $."
   ]
  },
  {
   "cell_type": "markdown",
   "metadata": {},
   "source": [
    "### Correlation <a id=\"correlation\"></a>\n",
    "\n",
    "$ Correlation = \\frac{Covariance(X,Y)}{Stdev(X)Stdev(Y)} $\n",
    "\n",
    "Another measure of association is correlation. It's not affected by the units of measurement. It's range is $ -1 $ to $ 1 $.\n",
    "> Loosely speaking, correlations  > +0.5 or  < -0.5 are considered indicative of a strong positive or strong negative relationship between two variables."
   ]
  },
  {
   "cell_type": "code",
   "execution_count": 17,
   "metadata": {},
   "outputs": [
    {
     "data": {
      "text/html": [
       "<div>\n",
       "<style scoped>\n",
       "    .dataframe tbody tr th:only-of-type {\n",
       "        vertical-align: middle;\n",
       "    }\n",
       "\n",
       "    .dataframe tbody tr th {\n",
       "        vertical-align: top;\n",
       "    }\n",
       "\n",
       "    .dataframe thead th {\n",
       "        text-align: right;\n",
       "    }\n",
       "</style>\n",
       "<table border=\"1\" class=\"dataframe\">\n",
       "  <thead>\n",
       "    <tr style=\"text-align: right;\">\n",
       "      <th></th>\n",
       "      <th>Dataset A</th>\n",
       "      <th>Dataset B</th>\n",
       "      <th>Dataset C</th>\n",
       "    </tr>\n",
       "  </thead>\n",
       "  <tbody>\n",
       "    <tr>\n",
       "      <th>Dataset A</th>\n",
       "      <td>1.000000</td>\n",
       "      <td>0.557684</td>\n",
       "      <td>0.045752</td>\n",
       "    </tr>\n",
       "    <tr>\n",
       "      <th>Dataset B</th>\n",
       "      <td>0.557684</td>\n",
       "      <td>1.000000</td>\n",
       "      <td>0.023715</td>\n",
       "    </tr>\n",
       "    <tr>\n",
       "      <th>Dataset C</th>\n",
       "      <td>0.045752</td>\n",
       "      <td>0.023715</td>\n",
       "      <td>1.000000</td>\n",
       "    </tr>\n",
       "  </tbody>\n",
       "</table>\n",
       "</div>"
      ],
      "text/plain": [
       "           Dataset A  Dataset B  Dataset C\n",
       "Dataset A   1.000000   0.557684   0.045752\n",
       "Dataset B   0.557684   1.000000   0.023715\n",
       "Dataset C   0.045752   0.023715   1.000000"
      ]
     },
     "execution_count": 17,
     "metadata": {},
     "output_type": "execute_result"
    }
   ],
   "source": [
    "quiz_data.corr()"
   ]
  },
  {
   "cell_type": "markdown",
   "metadata": {},
   "source": [
    "### Causation <a id=\"causation\"></a>\n",
    "\n",
    "It is important to distinguish between Causation and Correlation. How do we establish causation though?\n",
    "\n",
    "* Correlation \n",
    "* Temporal distinction between the *caused* and the *causing* variable\n",
    "* Control for other variables that may cause the focal variable"
   ]
  },
  {
   "cell_type": "markdown",
   "metadata": {},
   "source": [
    "### Probability <a id=\"probability\"></a>\n",
    "\n",
    "Long Run Frequencies notion of Probability: probability is a numerical measure of the frequency of occurrence of an event. It is measured on a scale from 0 to 1.  An event of probability 0 will definitely not occur.  An event with probability 1 will occur with certainty.\n",
    "\n",
    "Example:\n",
    "> The probability $ \\frac{1}{6} $ of getting the number 6on rolling a fair dice can be considered as a long run frequency of multiple dice rolls"
   ]
  },
  {
   "cell_type": "markdown",
   "metadata": {},
   "source": [
    "### Random Experiment and a Random Variable <a id=\"random-experiment\"></a>\n",
    "\n",
    "* **Random Experiment** is simply any situation wherein a process leads to more than one possible outcome. Examples: a coin toss, roll of a dice, a company declaring its Earnings, etc.\n",
    "\n",
    "* A **random variable** is a variable that takes on values determined by the outcome of a random experiment.\n",
    "\n",
    "> Viewing business processes as Random Experiment with an associated Random Variable is helpful in characterizing them and making predictions about the outcome."
   ]
  },
  {
   "cell_type": "markdown",
   "metadata": {},
   "source": [
    "### Statistical Distributions <a id=\"statistical-distributions\"></a>\n",
    "\n",
    "There are many statistical distributions, such as:\n",
    "* Beta\n",
    "* Binomial\n",
    "* Gamma\n",
    "* Poisson\n",
    "* **Normal**\n",
    "* **t distribution**\n",
    "\n",
    "The last two are the most popular and quite easy to use in business statistics.\n",
    "\n",
    "#### Discrete distribution\n",
    "A statistical distribution used for Discrete (finite) data.\n",
    "\n",
    "#### Continuous distribution\n",
    "A statistical distribution used for Continuous (infinite) data.\n",
    "\n",
    "Although normal distribution is continious, it is still common in business applications to use the Normal (the Bell curve) for discrete data."
   ]
  },
  {
   "cell_type": "markdown",
   "metadata": {},
   "source": [
    "### Quiz 2 <a id=\"quiz-1-2\"></a>"
   ]
  },
  {
   "cell_type": "code",
   "execution_count": 18,
   "metadata": {},
   "outputs": [
    {
     "name": "stdout",
     "output_type": "stream",
     "text": [
      "2000\n",
      "81420.52\n",
      "               Dataset A      Dataset B     Dataset C\n",
      "Dataset A   79391.945295   81420.522426  1.208582e+05\n",
      "Dataset B   81420.522426  268481.454151  1.151984e+05\n",
      "Dataset C  120858.163445  115198.394891  8.789164e+07 \n",
      "\n",
      "           Dataset A  Dataset B  Dataset C\n",
      "Dataset A   1.000000   0.557684   0.045752\n",
      "Dataset B   0.557684   1.000000   0.023715\n",
      "Dataset C   0.045752   0.023715   1.000000 \n",
      "\n"
     ]
    }
   ],
   "source": [
    "# How many rows of data are included in the datasets given?\n",
    "print(len(quiz_data))\n",
    "# What is the covariance of Datasets A and B?  Round to 2 decimal places.\n",
    "print(round(quiz_data[[\"Dataset A\", \"Dataset B\"]].cov()[\"Dataset A\"][1],2))\n",
    "# Which dataset pair has the highest covariance?\n",
    "print(quiz_data.cov(),\"\\n\") # A-C\n",
    "# Which dataset pair has the strongest relationship?\n",
    "print(quiz_data.corr(),\"\\n\") # A-B"
   ]
  },
  {
   "cell_type": "code",
   "execution_count": 19,
   "metadata": {},
   "outputs": [
    {
     "data": {
      "text/plain": [
       "<matplotlib.axes._subplots.AxesSubplot at 0x1f051aece88>"
      ]
     },
     "execution_count": 19,
     "metadata": {},
     "output_type": "execute_result"
    },
    {
     "data": {
      "image/png": "[encoded data removed]",
      "text/plain": [
       "<Figure size 432x288 with 1 Axes>"
      ]
     },
     "metadata": {
      "needs_background": "light"
     },
     "output_type": "display_data"
    }
   ],
   "source": [
    "\"\"\"\n",
    "  Create a histogram of Dataset A.\n",
    "  Based on the shape of the distribution of outcomes, which of the following is most likely true?\n",
    "\"\"\"\n",
    "quiz_data[\"Dataset A\"].hist(bins=10)"
   ]
  },
  {
   "cell_type": "code",
   "execution_count": 20,
   "metadata": {},
   "outputs": [
    {
     "data": {
      "text/plain": [
       "<matplotlib.axes._subplots.AxesSubplot at 0x1f051f3a408>"
      ]
     },
     "execution_count": 20,
     "metadata": {},
     "output_type": "execute_result"
    },
    {
     "data": {
      "image/png": "[encoded data removed]",
      "text/plain": [
       "<Figure size 432x288 with 1 Axes>"
      ]
     },
     "metadata": {
      "needs_background": "light"
     },
     "output_type": "display_data"
    }
   ],
   "source": [
    "\"\"\"\n",
    "  Create a histogram of Dataset B.\n",
    "  Based on the shape of the distribution of outcomes, select the range below \n",
    "  that appears to have the highest probability of occurrence.\n",
    "\"\"\"\n",
    "quiz_data[\"Dataset B\"].hist(bins=10)"
   ]
  },
  {
   "cell_type": "markdown",
   "metadata": {},
   "source": [
    "---\n",
    "## Normal Distribution <a id=\"week-3-tnd\"></a>\n",
    "\n",
    "Before exploring the normal distribution, let's learn about two other important topics: **Probability density function** and **Probability mass function**.\n",
    "\n",
    "* Probability density function is a rule that assigns probabilities to various possible values that a random variable takes when it is being approximated by a particular statistical distribution.\n",
    "* In the context of discrete data it's called probability mass function.\n",
    "\n",
    "The main difference between them is that in case of probability density function, the probability of a particular outcome is always zero, hence we should always use ranges of outcomes."
   ]
  },
  {
   "cell_type": "markdown",
   "metadata": {},
   "source": [
    "### Normal Distribution\n",
    "Any particular Normal Distribution can be uniquely defined by two parameters. The first parameter is also the mean of the distribution (location parameter) and the second parameter is also the standard deviation of the distribution (spread parameter).\n",
    "\n",
    "Probability density function equation for the normal distribution is:\n",
    "\n",
    "$ \\frac{1}{\\sqrt{2\\pi * std^2}} e^{-(x-mean)^2 / 2*std^2} $\n",
    "\n",
    "To calculate probabilities for various ranges of the random variable we calculate area under the curve in the range:\n",
    "\n",
    "$ \\int_{a}^{b}\\frac{1}{\\sqrt{2\\pi * std^2}} e^{-(x-mean)^2 / 2*std^2} dx $\n",
    "\n",
    "> Standard notation for distribution looks like this:\n",
    "`Height ~ Normal(mean, std)`\n",
    "where `Height` is the random variable and `Normal` is the destribution."
   ]
  },
  {
   "cell_type": "code",
   "execution_count": 21,
   "metadata": {},
   "outputs": [],
   "source": [
    "from scipy.stats import norm"
   ]
  },
  {
   "cell_type": "markdown",
   "metadata": {},
   "source": [
    "The `.cdf()` method of the `norm` calculates area under the curve to the left from the `x`. `norm` is a normal continuous random variable. The location (`loc`) keyword specifies the mean. The scale (`scale`) keyword specifies the standard deviation.\n",
    "\n",
    "Below are examples of calculating the probability of the random variable being less than 70:"
   ]
  },
  {
   "cell_type": "code",
   "execution_count": 22,
   "metadata": {},
   "outputs": [
    {
     "data": {
      "text/plain": [
       "0.0477903522728147"
      ]
     },
     "execution_count": 22,
     "metadata": {},
     "output_type": "execute_result"
    }
   ],
   "source": [
    "norm(loc=85, scale=9).cdf(70)"
   ]
  },
  {
   "cell_type": "code",
   "execution_count": 23,
   "metadata": {},
   "outputs": [
    {
     "data": {
      "text/plain": [
       "0.0477903522728147"
      ]
     },
     "execution_count": 23,
     "metadata": {},
     "output_type": "execute_result"
    }
   ],
   "source": [
    "norm.cdf(70, loc=85, scale=9)"
   ]
  },
  {
   "cell_type": "markdown",
   "metadata": {},
   "source": [
    "What about a range between 75 and 80?"
   ]
  },
  {
   "cell_type": "code",
   "execution_count": 24,
   "metadata": {},
   "outputs": [
    {
     "data": {
      "text/plain": [
       "0.1559970978514666"
      ]
     },
     "execution_count": 24,
     "metadata": {},
     "output_type": "execute_result"
    }
   ],
   "source": [
    "norm.cdf(80, loc=85, scale=9) - norm.cdf(75, loc=85, scale=9)"
   ]
  },
  {
   "cell_type": "markdown",
   "metadata": {},
   "source": [
    "We can also use the inverse function of `.cdf()` `.ppf()` to find out the value of the random variable based on the probability of that value."
   ]
  },
  {
   "cell_type": "code",
   "execution_count": 25,
   "metadata": {},
   "outputs": [
    {
     "data": {
      "text/plain": [
       "69.9999681287105"
      ]
     },
     "execution_count": 25,
     "metadata": {},
     "output_type": "execute_result"
    }
   ],
   "source": [
    "norm.ppf(0.04779, loc=85, scale=9)"
   ]
  },
  {
   "cell_type": "markdown",
   "metadata": {},
   "source": [
    "### Quiz 3 <a id=\"quiz-1-3\"></a>"
   ]
  },
  {
   "cell_type": "code",
   "execution_count": 26,
   "metadata": {},
   "outputs": [
    {
     "name": "stdout",
     "output_type": "stream",
     "text": [
      "1. The total profit with 56 passengers is: 7400 \n",
      "\n",
      "2. Total profit with 72 passengers (full airplane w/ 8 overbooked tickets) is: 7800 \n",
      "\n",
      "3. The probability that the number of passengers who show up will result in an overbooked flight if the airline sells 80 tickets for the flight is: 0.7881 \n",
      "\n",
      "4. There is a 0.10 probability that more than 74.0 passengers show up. \n",
      "\n",
      "5. The probability that less than or equal to 60 passengers show up is: 0.0548 \n",
      "\n",
      "6. If the company adopts the third Process the probability it will have its pipe rejected by the utility company is: 0.0912 \n",
      "\n",
      "7. With changed requirement the production processes will result in the following % of acceptance: \n",
      "A: 0.9772 \n",
      "B: 0.8185 \n",
      "C: 0.4772 \n",
      "\n",
      "8. Maximazied profits of each production process are:\n",
      "A: 30.0 \n",
      "B: 33.652 \n",
      "C: 20.9024\n"
     ]
    }
   ],
   "source": [
    "\"\"\"\n",
    "   1.\n",
    "   A new airline company has a commuter airplane that can hold up to 64 passengers.\n",
    "   The plane flies a single route and charges passengers $300 for a one-way fare.\n",
    "   All fares are 100% refundable if the passenger does not show up for the flight.\n",
    "   The fixed cost (the cost that does not change with the number of passengers, such as crew salaries,\n",
    "   airport fees, etc) for every flight is $1,000.\n",
    "   The variable cost (the additional cost per passenger) for every flight is $150 per passenger.\n",
    "   \n",
    "   Create a spreadsheet that calculates the total profit per flight based on the number of passengers on the plane. \n",
    "   What is the total profit if they fly with 56 passengers?\n",
    "\"\"\"\n",
    "q_df = {\"Total number of passengers\": [i for i in range(1, 65)]}\n",
    "q_df = pd.DataFrame(data=q_df)\n",
    "q_df[\"Variable Cost\"] = q_df[\"Total number of passengers\"] * 150\n",
    "q_df[\"Total Cost\"] = q_df[\"Variable Cost\"] + 1000\n",
    "q_df[\"Revenue\"] = q_df[\"Total number of passengers\"] * 300\n",
    "q_df[\"Profit\"] = q_df[\"Revenue\"] - q_df[\"Total Cost\"]\n",
    "print(\"1. The total profit with 56 passengers is:\",\n",
    "      int(q_df[q_df[\"Total number of passengers\"] == 56][\"Profit\"]), \"\\n\")\n",
    "\n",
    "\"\"\"\n",
    "   2.\n",
    "   Because they have a full refund policy, it is common for customers not to show up.\n",
    "   Airline company management is wondering if it would make financial sense to overbook the flight \n",
    "   and risk having not enough seats for all passengers that show up.\n",
    "   In that case, the airline would find volunteers to give up their seats in exchange for a free ticket\n",
    "   to the same destination on the next available flight. This would cost $100 for each overbooked passenger.  \n",
    "   \n",
    "   Update your spreadsheet to account for overbooked passengers.\n",
    "   What is the total profit if they fly with 64 passengers after having sold 72 tickets,\n",
    "   assuming all 72 passengers show up?\n",
    "\"\"\"\n",
    "print(\"2. Total profit with 72 passengers (full airplane w/ 8 overbooked tickets) is:\",\n",
    "      int(q_df[q_df[\"Total number of passengers\"] == 64][\"Profit\"]) - ((72 - 64) * 100), \"\\n\")\n",
    "\n",
    "\"\"\"\n",
    "   3.\n",
    "   If 80 tickets are sold, the number of passengers expected to show up can be approximated by a normal\n",
    "   distribution with a mean of 68 and standard deviation of 5. \n",
    "   Therefore, if the airline sells 80 tickets for the flight, what is the probability that the number\n",
    "   of passengers who show up will result in an overbooked flight?\n",
    "   \n",
    "   Enter your answer as a decimal probability (not a percent) rounded to 4 decimal places.\n",
    "\"\"\"\n",
    "print(\"3. The probability that the number of passengers who show up will result in an overbooked flight if the airline sells 80 tickets for the flight is:\",\n",
    "      round(1 - norm.cdf(64, loc=68, scale=5),4), \"\\n\")\n",
    "\n",
    "\"\"\"\n",
    "   4.\n",
    "   Using the same distribution as the previous question, there is a 0.10 probability that more than\n",
    "   _________ passengers show up.\n",
    "   Please round your answer to the lowest integer.\n",
    "\"\"\"\n",
    "print(\"4. There is a 0.10 probability that more than\", \n",
    "      round(norm.ppf(0.90, loc=68, scale=5)), \"passengers show up.\", \"\\n\")\n",
    "\n",
    "\"\"\"\n",
    "   5.\n",
    "   Continuing with the same distribution, what is the probability that less than or equal to 60 passengers show up?\n",
    "   Enter your answer as a decimal probability (not a percent) rounded to 4 decimal places.\n",
    "\"\"\"\n",
    "print(\"5. The probability that less than or equal to 60 passengers show up is:\", \n",
    "      round(norm.cdf(60, loc=68, scale=5),4), \"\\n\")\n",
    "\n",
    "\"\"\"\n",
    "   6.\n",
    "   XYZ Company produces copper pipes to be supplied to a local utility company. \n",
    "   The requirement of the utility company is that the pipes need to be 200 cm of length.  \n",
    "   Longer pipes are acceptable to the utility company but any pipe less than 200 cm is summarily rejected and\n",
    "   has to be scrapped. The XYZ Company loses all its production cost on pipes that are rejected.\n",
    "   \n",
    "   The production process is such that it has some variability in the lengths of pipes produced, \n",
    "   and this variability can be well approximated by a Normal distribution. \n",
    "   The company can adopt one of the following three production processes:\n",
    "\n",
    "   Process A: Produces pipes with an average length of 200 cm and a standard deviation of 0.5 cm\n",
    "   Process B: Produces pipes with an average length of 201 cm and a standard deviation of 1 cm\n",
    "   Process C: Produces pipes with an average length of 202 cm and a standard deviation of 1.5 cm\n",
    "   \n",
    "   If the company adopts the third Process (Process “C”), what is the probability it will have \n",
    "   its pipe rejected by the utility company? \n",
    "   Enter your answer as a decimal probability (not a percent) rounded to 4 decimal places.\n",
    "\"\"\"\n",
    "print(\"6. If the company adopts the third Process the probability it will have its pipe rejected by the utility company is:\",\n",
    "      round(norm.cdf(200, loc=202, scale=1.5),4), \"\\n\")\n",
    "\n",
    "\"\"\"\n",
    "   7.\n",
    "   The utility company temporarily changes its requirements and\n",
    "   has a new requirement that it will accept any pipe of length from 199 cm till\n",
    "   202 cm. That is, pipes ranging in length from 199 cm to 202 cm will be\n",
    "   accepted, others will be rejected.\n",
    "\n",
    "   With this changed requirement which Production process (out\n",
    "   of the three) will result in the least % of rejections?\n",
    "\"\"\"\n",
    "print(\"7. With changed requirement the production processes will result in the following % of acceptance:\",\n",
    "      \"\\nA:\", round(norm.cdf(202, loc=200, scale=0.5),4) - round(norm.cdf(199, loc=200, scale=0.5),4),\n",
    "      \"\\nB:\", round(norm.cdf(202, loc=201, scale=1),4) - round(norm.cdf(199, loc=201, scale=1),4),\n",
    "      \"\\nC:\", round(norm.cdf(202, loc=202, scale=1.5),4) - round(norm.cdf(199, loc=202, scale=1.5),4), \"\\n\"\n",
    "     )\n",
    "# A\n",
    "\n",
    "\"\"\"\n",
    "   8.\n",
    "   XYZ Company earns a revenue of $200 for every pipe that gets accepted and loses all money for any pipe\n",
    "   that is rejected. The cost of producing the pipes is $140 per pipe if\n",
    "   production process “A” is used, $160 per pipe if production process “B” is\n",
    "   used, and $177 per pipe if production process “C” is used.\n",
    "\n",
    "   Given this information, which production process would you\n",
    "   recommend to maximize profits (revenue minus cost) if the requirement of the\n",
    "   utility company is that pipes need to be of 200 cm (or more) and any pipe less\n",
    "   than 200 cm is rejected?\n",
    "\"\"\"\n",
    "print(\"8. Maximazied profits of each production process are:\"\n",
    "      \"\\nA:\", (1 - round(norm.cdf(200, loc=200, scale=0.5),4)) * (200 - 140),\n",
    "      \"\\nB:\", (1 - round(norm.cdf(200, loc=201, scale=1),4)) * (200 - 160),\n",
    "      \"\\nC:\", (1 - round(norm.cdf(200, loc=202, scale=1.5),4)) * (200 - 177))\n",
    "# B"
   ]
  },
  {
   "cell_type": "markdown",
   "metadata": {},
   "source": [
    "---\n",
    "## Working with Distributions (Normal, Binomial, Poisson), Population and Sample Data <a id=\"week-4-wwd\"></a>\n",
    "\n",
    "### Applications of the Normal Distribution:\n",
    "\n",
    "1. John can take either of two roads to the airport from his home (Road A or Road B). Owing to varying traffic conditions the travel times on the two roads are not fixed, rather on a Friday around midday the travel times across these roads can be well approximated per normal distributions as follows,\n",
    "\n",
    "Road A:  mean =54 minutes, std = 3 minutes \n",
    "\n",
    "Road B:  mean =60 minutes, std = 10 minutes\n",
    "\n",
    "> 1.1 Which road should he choose if on midday Friday he must be at the airport within 50 minutes to pick up his spouse?"
   ]
  },
  {
   "cell_type": "code",
   "execution_count": 27,
   "metadata": {},
   "outputs": [
    {
     "name": "stdout",
     "output_type": "stream",
     "text": [
      "A: 0.09121121972586788 \n",
      "B: 0.15865525393145707\n"
     ]
    }
   ],
   "source": [
    "print(\"A:\", norm.cdf(50, loc=54, scale=3),\n",
    "      \"\\nB:\", norm.cdf(50, loc=60, scale=10))"
   ]
  },
  {
   "cell_type": "markdown",
   "metadata": {},
   "source": [
    "2. A fast-food restaurant sells ‘falafel’ sandwiches. On a typical weekday, the demand for these sandwiches can be approximated by a normal distribution with mean 313 sandwiches and standard deviation of 57 sandwiches\n",
    "\n",
    "> 2.1 What is the probability that on a particular day the demand for falafel sandwiches is less than 300 at the restaurant?"
   ]
  },
  {
   "cell_type": "code",
   "execution_count": 28,
   "metadata": {},
   "outputs": [
    {
     "name": "stdout",
     "output_type": "stream",
     "text": [
      "The probability that on a particular day the demand for falafel sandwiches is less than 300 at the restaurant is: \n",
      "0.4098\n"
     ]
    }
   ],
   "source": [
    "print(\"The probability that on a particular day the demand for falafel sandwiches is less than 300 at the restaurant is:\",\n",
    "     (\"\\n\" + str(round(norm.cdf(300, loc=313, scale=57), 4))))"
   ]
  },
  {
   "cell_type": "markdown",
   "metadata": {},
   "source": [
    "> 2.2 If the restaurant stocks 400 falafel sandwiches for a given day, what is the probability that it will run out of these sandwiches on that day?"
   ]
  },
  {
   "cell_type": "code",
   "execution_count": 29,
   "metadata": {},
   "outputs": [
    {
     "name": "stdout",
     "output_type": "stream",
     "text": [
      "If the restaurant stocks 400 falafel sandwiches for a given day, the probability that it will run out of these sandwiches on that day is: \n",
      "0.0635\n"
     ]
    }
   ],
   "source": [
    "print(\"If the restaurant stocks 400 falafel sandwiches for a given day, the probability that it will run out of these sandwiches on that day is:\",\n",
    "     (\"\\n\" + str(round(1 - norm.cdf(400, loc=313, scale=57), 4))))"
   ]
  },
  {
   "cell_type": "markdown",
   "metadata": {},
   "source": [
    "> 2.3 How many sandwiches must the restaurant stock to be at least 98% sure of not running out on a given day?"
   ]
  },
  {
   "cell_type": "code",
   "execution_count": 30,
   "metadata": {},
   "outputs": [
    {
     "name": "stdout",
     "output_type": "stream",
     "text": [
      "If the restaurant stocks 400 falafel sandwiches for a given day, the probability that it will run out of these sandwiches on that day is: \n",
      "431\n"
     ]
    }
   ],
   "source": [
    "print(\"If the restaurant stocks 400 falafel sandwiches for a given day, the probability that it will run out of these sandwiches on that day is:\",\n",
    "     (\"\\n\" + str(int(np.ceil(norm.ppf(0.98, loc=313, scale=57))))))"
   ]
  },
  {
   "cell_type": "code",
   "execution_count": 31,
   "metadata": {},
   "outputs": [
    {
     "data": {
      "text/plain": [
       "23.0"
      ]
     },
     "execution_count": 31,
     "metadata": {},
     "output_type": "execute_result"
    }
   ],
   "source": [
    "np.ceil(22.2)"
   ]
  },
  {
   "cell_type": "markdown",
   "metadata": {},
   "source": [
    "#### The Standard Normal Distribution\n",
    "It is a Normal distribution with mean = 0 and std = 1\n",
    "\n",
    "You can convert any normal distribution to standard normal as follows: \n",
    "```\n",
    "Suppose X ~ Normal(mean, std )\n",
    "Let Z = (X -mean)/std\n",
    "Then Z ~ Normal(0, 1)\n",
    "```"
   ]
  },
  {
   "cell_type": "markdown",
   "metadata": {},
   "source": [
    "### Population and a Sample\n",
    "\n",
    "**Population**\n",
    "\n",
    "It is the complete set of numerical information on a particular quantity in which we as an analyst are interested.\n",
    "\n",
    "**Sample**\n",
    "\n",
    "It is a subset of the relevant population and is used to make inferences about the population.\n",
    "\n",
    "Populations and Samples are *context driven*. \n",
    "\n",
    "**Sample** is:\n",
    "\n",
    "* A subset of the population \n",
    "* Representative of the population\n",
    "\n",
    "The easiest way to get a representative sample is to randomly select the sample."
   ]
  },
  {
   "cell_type": "markdown",
   "metadata": {},
   "source": [
    "### The Central Limit Theorem\n",
    "\n",
    "Notation:\n",
    "\n",
    "* Population Data:\n",
    "\n",
    "> Population Mean: $\\mu$\n",
    "\n",
    "> Population Standard Deviation: $\\sigma$\n",
    "\n",
    "* Sample Data:\n",
    "\n",
    "> Sample Mean: $\\bar{x}$\n",
    "\n",
    "> Sample Standard Deviation: $s$\n",
    "\n",
    "Consider a random sample of $n$ observations from a population with mean $\\mu$ and standard deviation $\\sigma$\n",
    "\n",
    "Let $\\bar{x}$ be the sample mean.\n",
    "\n",
    "Then the _distribution_ of $\\bar{x}$ is approximately Normal with mean $=\\mu$ and standard deviation $=\\frac{\\sigma}{\\sqrt{n}}$.\n",
    "\n",
    "That is, $\\bar{x}$ ~ Normal($\\mu$,$\\frac{\\sigma}{\\sqrt{n}}$) and this approximation gets better as sample size increases.\n",
    "\n",
    "In Plain Language the Central Limit Theorem says:\n",
    "\n",
    ">Sample averages are normally distributed irrespective of where the sample came from. Not only are they normally distributed but more importantly they are normally distributed with mean equal to the population mean. "
   ]
  },
  {
   "cell_type": "markdown",
   "metadata": {},
   "source": [
    "### (Two) Popular Discrete Distributions\n",
    "\n",
    "* **The Binomial**\n",
    "* **The Poisson**\n",
    "\n",
    "#### The Binomial Distribution\n",
    "\n",
    "**Bernoulli Process**\n",
    "\n",
    "A situation where the random variable has only two mutually exclusive outcomes. Examples:\n",
    "\n",
    "* Exam grade -> pass/fail\n",
    "* Coin toss -> heads/tails\n",
    "* Lottery -> win/lose\n",
    "\n",
    "**Multiple Trials of the Bernoulli Process**:\n",
    "\n",
    "Game of Dice:\n",
    "\n",
    "`Win (if you roll a 6)/ Lose (otherwise)`\n",
    "\n",
    "Random Variable -> Number of times you win when you roll the dice `n` times.\n",
    "\n",
    "Consider a situation where there are `n` independent trials, where the probability of **success** on each trial is `p` and the probability of **failure** is `1-p`.\n",
    "\n",
    "Define random variable **X** to denote number of successes in `n` trials.\n",
    "Then this random variable is said to have a Binomial distribution.\n",
    "\n",
    "In our example...\n",
    "```\n",
    "n= 10\n",
    "p= 1/6 = 0.1667\n",
    "success= getting a 6 in one roll\n",
    "X= Number of times you win when the dice is rolled ten times\n",
    "```\n",
    "\n",
    "**Probability Mass Function**:\n",
    "\n",
    "$P(X=x)=\\frac{n!}{x!(n-x)!}p^{x}(1-p)^{n-x}$\n",
    "\n",
    "*Note: `X` - random variable, `x` - various possible values that the random variable can take*"
   ]
  },
  {
   "cell_type": "code",
   "execution_count": 32,
   "metadata": {},
   "outputs": [],
   "source": [
    "from scipy.stats import binom"
   ]
  },
  {
   "cell_type": "code",
   "execution_count": 33,
   "metadata": {},
   "outputs": [
    {
     "name": "stdout",
     "output_type": "stream",
     "text": [
      "probability that you win three times in ten rolls of a dice: 0.15509497185547189\n",
      "probability that you win at most five times in ten rolls of a dice: 0.9975592376444791\n",
      "probability that you win less than five times in ten rolls of a dice: 0.9845250055787355\n",
      "probability that you win at least three times in ten rolls of a dice: 0.2248662349249274\n"
     ]
    }
   ],
   "source": [
    "print(\"probability that you win three times in ten rolls of a dice:\",\n",
    "      binom.pmf(3, 10, 0.1667))\n",
    "print(\"probability that you win at most five times in ten rolls of a dice:\",\n",
    "      binom.cdf(5, 10, 0.1667))\n",
    "print(\"probability that you win less than five times in ten rolls of a dice:\",\n",
    "      binom.cdf(4, 10, 0.1667))\n",
    "print(\"probability that you win at least three times in ten rolls of a dice:\",\n",
    "      binom.sf(2, 10, 0.1667)) # or 1 - binom.cdf(2, 10, 0.1667))"
   ]
  },
  {
   "cell_type": "markdown",
   "metadata": {},
   "source": [
    "Mean of the Binomial Distribution = $n*p$\n",
    "\n",
    "Standard Deviation of the Binomial Distribution = $\\sqrt{np(1-p)}$\n",
    "\n",
    "Example of business application of the binomial distribution:\n",
    "\n",
    ">In the current tax year, IRS estimates that 5% of the many high networth individual tax returns would be fraudulent. That is they will contain errors that are purposely made to cheat the government. Although these errors are often well concealed, let’s suppose that a thorough IRS audit will uncover them.\n",
    "\n",
    "If a random 250 high net worth tax returns are audited, what is the probability that the IRS will uncover at least 15 fraudulent returns but at most 20 fraudulent returns?"
   ]
  },
  {
   "cell_type": "code",
   "execution_count": 34,
   "metadata": {},
   "outputs": [
    {
     "data": {
      "text/plain": [
       "0.25630709256965034"
      ]
     },
     "execution_count": 34,
     "metadata": {},
     "output_type": "execute_result"
    }
   ],
   "source": [
    "binom.cdf(20, 250, 0.05) - binom.cdf(14, 250, 0.05)"
   ]
  },
  {
   "cell_type": "markdown",
   "metadata": {},
   "source": [
    "#### The Poisson Distribution\n",
    "\n",
    "Examples:\n",
    "\n",
    "* The number of fatal traffic accidents in a city in a particular week.\n",
    "* The number of customers arriving at the store checkout line during a given hour.\n",
    "* The number of defective items produced in a day on the assembly line of a farm equipment manufacturer.\n",
    "\n",
    "**The number of occurrences can be viewed as a random variable which can then be approximated by the Poisson distribution.**\n",
    "\n",
    "**Probability Mass Function**:\n",
    "\n",
    "$P(X=x)=\\frac{e^{-\\lambda}\\lambda^x}{x!}$\n",
    "\n",
    "Example:\n",
    ">A local convenience store uses a Poisson distribution to approximate the number of customers arriving each hour during weeknights at the only checkout counter at the store. From past data it knows that on average 30.5 customers arrive per hour at the checkout counter during weeknights.\n",
    "\n",
    "What is the probability that 25 customers arrive at this checkout counter in a given hour during a weeknight?"
   ]
  },
  {
   "cell_type": "code",
   "execution_count": 35,
   "metadata": {},
   "outputs": [],
   "source": [
    "from scipy.stats import poisson"
   ]
  },
  {
   "cell_type": "code",
   "execution_count": 36,
   "metadata": {},
   "outputs": [
    {
     "data": {
      "text/plain": [
       "0.0468671566896282"
      ]
     },
     "execution_count": 36,
     "metadata": {},
     "output_type": "execute_result"
    }
   ],
   "source": [
    "poisson.pmf(25, 30.5)"
   ]
  },
  {
   "cell_type": "markdown",
   "metadata": {},
   "source": [
    "What is the probability that fewer than 33 customers arrive at this checkout counter in a given hour during a weeknight?"
   ]
  },
  {
   "cell_type": "code",
   "execution_count": 37,
   "metadata": {},
   "outputs": [
    {
     "data": {
      "text/plain": [
       "0.6510863857312866"
      ]
     },
     "execution_count": 37,
     "metadata": {},
     "output_type": "execute_result"
    }
   ],
   "source": [
    "poisson.cdf(32, 30.5) # fewer than 33 == fewer or equal to 32"
   ]
  },
  {
   "cell_type": "markdown",
   "metadata": {},
   "source": [
    "What is the probability that the number of customers who arrive at this checkout counter in a given hour during a weeknight will be greater than 35?"
   ]
  },
  {
   "cell_type": "code",
   "execution_count": 38,
   "metadata": {},
   "outputs": [
    {
     "data": {
      "text/plain": [
       "0.18096957030134617"
      ]
     },
     "execution_count": 38,
     "metadata": {},
     "output_type": "execute_result"
    }
   ],
   "source": [
    "poisson.sf(35, 30.5)"
   ]
  },
  {
   "cell_type": "markdown",
   "metadata": {},
   "source": [
    "### Quiz  4<a id=\"quiz-1-4\"></a>\n",
    "\n",
    "1.\n",
    "\n",
    "You make widgets.  You want to sell your widgets at the nearby widget store, since this would potentially increase your sales.  However, you would have to pay a transportation cost every day to send you widgets over to the store. You decide to run some calculations to see if you would be at risk of losing money due to the transportation costs. \n",
    "\n",
    "You know that 5 other widget companies sell widgets at that store, so you would be the 6th. Assuming a customer is equally likely to select any of the widgets, what is the probability they will select and purchase your widget? Write your answer as a probability (not a percent) rounded to 4 decimals."
   ]
  },
  {
   "cell_type": "code",
   "execution_count": 39,
   "metadata": {},
   "outputs": [
    {
     "data": {
      "text/plain": [
       "0.1667"
      ]
     },
     "execution_count": 39,
     "metadata": {},
     "output_type": "execute_result"
    }
   ],
   "source": [
    "round(1 / 6, 4)"
   ]
  },
  {
   "cell_type": "markdown",
   "metadata": {},
   "source": [
    "2.\n",
    "\n",
    "The widget store owner tells you that 200 customers arrive and purchase a widget from the store each day. Assuming you must sell 30 of your widgets to cover the transportation costs, and given the probability you calculated in question 1, use a binomial distribution to estimate the probability of at least covering the transportation costs (that is, the probability of selling at least 30 widgets). Write your answer as a probability (not a percent) rounded to 4 decimals."
   ]
  },
  {
   "cell_type": "code",
   "execution_count": 40,
   "metadata": {},
   "outputs": [
    {
     "data": {
      "text/plain": [
       "0.7638"
      ]
     },
     "execution_count": 40,
     "metadata": {},
     "output_type": "execute_result"
    }
   ],
   "source": [
    "round(binom.sf(29, 200, 0.1667),4)"
   ]
  },
  {
   "cell_type": "markdown",
   "metadata": {},
   "source": [
    "3.\n",
    "\n",
    "How many minimum number of people would have to visit the store to give you at least a 0.95 probability of covering the transportation costs?"
   ]
  },
  {
   "cell_type": "code",
   "execution_count": 41,
   "metadata": {},
   "outputs": [
    {
     "data": {
      "text/plain": [
       "0.9507952169806311"
      ]
     },
     "execution_count": 41,
     "metadata": {},
     "output_type": "execute_result"
    }
   ],
   "source": [
    "binom.sf(29, 232, 0.1667)"
   ]
  },
  {
   "cell_type": "markdown",
   "metadata": {},
   "source": [
    "4.\n",
    "\n",
    "The widget store manager points out that not all widget brands get equal purchase rates. A brand on premium shelf space has a 0.28 probability of being selected by each customer. He is willing to give you premium shelf space at the front of the store for a small fee. The additional fee, plus the original transportation costs, would raise the minimum number of widgets you would have to sell to 40 (to cover transportation costs and additional fee).\n",
    "\n",
    "Assuming 200 customers come into the store, use a binomial distribution to estimate the probability of at least covering the transportation costs and additional fee. Write your answer as a probability (not a percent) rounded to 4 decimals."
   ]
  },
  {
   "cell_type": "code",
   "execution_count": 42,
   "metadata": {},
   "outputs": [
    {
     "data": {
      "text/plain": [
       "0.9963"
      ]
     },
     "execution_count": 42,
     "metadata": {},
     "output_type": "execute_result"
    }
   ],
   "source": [
    "round(binom.sf(39, 200, 0.28),4)"
   ]
  },
  {
   "cell_type": "markdown",
   "metadata": {},
   "source": [
    "5.\n",
    "\n",
    "The widget store manager reminds you that while the average number of people that show up each day is 200, the actual number varies. He tells you that the customers that show up each day can be modeled with a Poisson distribution where lambda = 200. \n",
    "\n",
    "What is the probability that at least 200 customers arrive (that is, either 200 or more than 200 customers arrive)? Write your answer as a probability (not a percent) rounded to 4 decimals."
   ]
  },
  {
   "cell_type": "code",
   "execution_count": 43,
   "metadata": {},
   "outputs": [
    {
     "data": {
      "text/plain": [
       "0.5094"
      ]
     },
     "execution_count": 43,
     "metadata": {},
     "output_type": "execute_result"
    }
   ],
   "source": [
    "round(poisson.sf(199, 200),4)"
   ]
  },
  {
   "cell_type": "markdown",
   "metadata": {},
   "source": [
    "6.\n",
    "\n",
    "How many minimum number of people would have to visit the store to give you at least a 0.95 probability of covering the transportation costs and the additional fee? Use as 0.28 the probability of a widget being selected by a person.\n",
    "\n",
    "HINT: You need to sell at least 40 widgets to cover transportation cost and the additional fee. So the number of \"successes\" need to be greater than equal to 40. The probability of \"success\" in each trial is 0.28. Now use the BINOM.DIST function trying out various values for \"n\", the number of trials."
   ]
  },
  {
   "cell_type": "code",
   "execution_count": 44,
   "metadata": {},
   "outputs": [
    {
     "data": {
      "text/plain": [
       "0.9521224082877466"
      ]
     },
     "execution_count": 44,
     "metadata": {},
     "output_type": "execute_result"
    }
   ],
   "source": [
    "binom.sf(39, 176, 0.28)"
   ]
  },
  {
   "cell_type": "markdown",
   "metadata": {},
   "source": [
    "7.\n",
    "\n",
    "You are curious about the accuracy of the estimates that the widget store owner gave you. If you wanted to take a random sample of daily customer arrivals, from which of the following is the population you should sample?\n",
    "\n",
    "* ~The number of arrivals each day for this widget store and the competing widget store down the street.~\n",
    "\n",
    "* The number of arrivals each day for all days this specific widget store has been open.\n",
    "\n",
    "* ~The number of arrivals each day for this specific widget over the past month.~\n",
    "\n",
    "* ~A random, representative sample of the number of arrivals each day to this specific widget store.~"
   ]
  },
  {
   "cell_type": "markdown",
   "metadata": {},
   "source": [
    "8.\n",
    "\n",
    "The store owner gives you data on customer arrivals over the last 3 years. You randomly select a sample of daily customer arrivals, and then take the mean of that sample. If you were to repeat this process multiple times, you would expect the distribution of the sample means to be:\n",
    "\n",
    "* A Normal Distribution\n",
    "\n",
    "* ~A Binomial Distribution~\n",
    "\n",
    "* ~A Poisson Distribution~\n",
    "\n",
    "* ~The same distribution as the population of interest~"
   ]
  },
  {
   "cell_type": "markdown",
   "metadata": {},
   "source": [
    "9.\n",
    "\n",
    "Assuming the widget store owner's original estimates (given in Question 5) are accurate, what would you expect the mean of the distribution above to be?\n",
    "\n",
    "200"
   ]
  }
 ],
 "metadata": {
  "kernelspec": {
   "display_name": "Python 3",
   "language": "python",
   "name": "python3"
  },
  "language_info": {
   "codemirror_mode": {
    "name": "ipython",
    "version": 3
   },
   "file_extension": ".py",
   "mimetype": "text/x-python",
   "name": "python",
   "nbconvert_exporter": "python",
   "pygments_lexer": "ipython3",
   "version": "3.7.6"
  }
 },
 "nbformat": 4,
 "nbformat_minor": 4
}
